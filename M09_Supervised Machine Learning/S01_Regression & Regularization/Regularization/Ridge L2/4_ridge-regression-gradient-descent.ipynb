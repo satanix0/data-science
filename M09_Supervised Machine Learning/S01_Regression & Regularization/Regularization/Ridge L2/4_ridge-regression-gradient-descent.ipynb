{
 "cells": [
  {
   "cell_type": "code",
   "execution_count": 1,
   "id": "0a64ff79",
   "metadata": {},
   "outputs": [],
   "source": [
    "from sklearn.datasets import load_diabetes\n",
    "from sklearn.metrics import r2_score\n",
    "import numpy as np"
   ]
  },
  {
   "cell_type": "code",
   "execution_count": 2,
   "id": "f5d0adc9",
   "metadata": {},
   "outputs": [],
   "source": [
    "X,y = load_diabetes(return_X_y=True)"
   ]
  },
  {
   "cell_type": "code",
<<<<<<< HEAD
   "execution_count": 3,
=======
   "execution_count": 259,
>>>>>>> 9fdd41d (new repo)
   "id": "877a6fcc",
   "metadata": {},
   "outputs": [],
   "source": [
<<<<<<< HEAD
    "from sklearn.model_selection import train_test_split"
   ]
  },
  {
   "cell_type": "code",
   "execution_count": 4,
   "id": "f356594b",
   "metadata": {},
   "outputs": [],
   "source": [
=======
    "from sklearn.model_selection import train_test_split\n",
>>>>>>> 9fdd41d (new repo)
    "X_train,X_test,y_train,y_test = train_test_split(X,y,test_size=0.2,random_state=4)"
   ]
  },
  {
   "cell_type": "code",
<<<<<<< HEAD
   "execution_count": 5,
   "id": "7353416f",
   "metadata": {},
   "outputs": [],
   "source": [
    "from sklearn.linear_model import SGDRegressor"
   ]
  },
  {
   "cell_type": "code",
   "execution_count": 6,
=======
   "execution_count": 39,
>>>>>>> 9fdd41d (new repo)
   "id": "dd9147db",
   "metadata": {},
   "outputs": [],
   "source": [
<<<<<<< HEAD
=======
    "from sklearn.linear_model import SGDRegressor\n",
    "# Ridge Regularization can be used using SGD, by changing th penalty as l2\n",
>>>>>>> 9fdd41d (new repo)
    "reg = SGDRegressor(penalty='l2',max_iter=500,eta0=0.1,learning_rate='constant',alpha=0.001)"
   ]
  },
  {
   "cell_type": "code",
<<<<<<< HEAD
   "execution_count": 7,
=======
   "execution_count": 262,
>>>>>>> 9fdd41d (new repo)
   "id": "bc87d135",
   "metadata": {},
   "outputs": [
    {
     "name": "stdout",
     "output_type": "stream",
     "text": [
<<<<<<< HEAD
      "R2 score 0.39184963135113904\n",
      "[  48.83726347 -158.39820888  372.48969511  269.18719374   -5.58118158\n",
      "  -58.64235025 -165.41935469  134.59031498  328.95031688   98.20851209]\n",
      "[136.94237541]\n"
=======
      "R2 score 0.46250101619914563\n",
      "[  34.52192544 -290.84084076  482.40181344  368.0678662  -852.44873179\n",
      "  501.59160336  180.11115788  270.76333979  759.73534372   37.4913546 ]\n",
      "151.10198517439466\n",
      "None\n",
      "500\n"
>>>>>>> 9fdd41d (new repo)
     ]
    }
   ],
   "source": [
    "reg.fit(X_train,y_train)\n",
    "\n",
    "y_pred = reg.predict(X_test)\n",
    "print(\"R2 score\",r2_score(y_test,y_pred))\n",
    "print(reg.coef_)\n",
<<<<<<< HEAD
    "print(reg.intercept_)"
=======
    "print(reg.intercept_)\n",
    "print(reg.n_iter_)\n",
    "print(reg.max_iter)"
>>>>>>> 9fdd41d (new repo)
   ]
  },
  {
   "cell_type": "code",
<<<<<<< HEAD
   "execution_count": 8,
   "id": "d9b329c6",
   "metadata": {},
   "outputs": [],
   "source": [
    "from sklearn.linear_model import Ridge\n",
    "\n",
    "reg = Ridge(alpha=0.001, max_iter=500,solver='sparse_cg')"
   ]
  },
  {
   "cell_type": "code",
   "execution_count": 9,
   "id": "67492f20",
=======
   "execution_count": 408,
   "id": "3c8960c2",
>>>>>>> 9fdd41d (new repo)
   "metadata": {},
   "outputs": [
    {
     "name": "stdout",
     "output_type": "stream",
     "text": [
<<<<<<< HEAD
      "R2 score 0.46250101621300266\n",
      "[  34.52193462 -290.84083273  482.40182641  368.06787839 -852.44871768\n",
      "  501.5916174   180.11114558  270.76335798  759.73536057   37.49136778]\n",
      "151.10198520636254\n"
=======
      "R2 score 0.46250101620940054\n",
      "[  34.52193216 -290.84083488  482.40182294  368.06787512 -852.44872146\n",
      "  501.59161364  180.11114888  270.76335311  759.73535605   37.49136425]\n",
      "151.10198519779553\n",
      "None\n"
>>>>>>> 9fdd41d (new repo)
     ]
    }
   ],
   "source": [
<<<<<<< HEAD
=======
    "from sklearn.linear_model import Ridge\n",
    "# Another way is to change solver parameter in Ridge\n",
    "# 7 possible values for solver, first 3 use Closed-form approach, the other 4 use GD.\n",
    "reg = Ridge(alpha=0.001, max_iter=500,solver='auto') \n",
>>>>>>> 9fdd41d (new repo)
    "reg.fit(X_train,y_train)\n",
    "\n",
    "y_pred = reg.predict(X_test)\n",
    "print(\"R2 score\",r2_score(y_test,y_pred))\n",
    "print(reg.coef_)\n",
<<<<<<< HEAD
    "print(reg.intercept_)"
=======
    "print(reg.intercept_)\n",
    "print(reg.n_iter_)"
>>>>>>> 9fdd41d (new repo)
   ]
  },
  {
   "cell_type": "code",
<<<<<<< HEAD
   "execution_count": 10,
=======
   "execution_count": 409,
>>>>>>> 9fdd41d (new repo)
   "id": "9c215108",
   "metadata": {},
   "outputs": [],
   "source": [
    "class MeraRidgeGD:\n",
    "    \n",
    "    def __init__(self,epochs,learning_rate,alpha):\n",
    "        \n",
    "        self.learning_rate = learning_rate\n",
    "        self.epochs = epochs\n",
    "        self.alpha = alpha\n",
    "        self.coef_ = None\n",
    "        self.intercept_ = None\n",
    "        \n",
    "    def fit(self,X_train,y_train):\n",
    "        \n",
    "        # initialize the coeffs and intecept\n",
    "        self.coef_ = np.ones(X_train.shape[1])\n",
    "        self.intercept_ = 0\n",
    "        \n",
    "        # all the coeffs\n",
    "        thetha = np.insert(self.coef_,0,self.intercept_)\n",
    "        \n",
    "        # adds 1 to the first column of the data\n",
    "        X_train = np.insert(X_train,0,1,axis=1)\n",
    "        \n",
    "        for i in range(self.epochs):\n",
    "            # Gradient dl/dw = X'XW - X'Y + λW\n",
    "            thetha_der = np.dot(X_train.T,X_train).dot(thetha) - np.dot(X_train.T,y_train) + self.alpha*thetha\n",
    "            # new values of coeffs\n",
    "            thetha = thetha - self.learning_rate*thetha_der\n",
    "        \n",
    "        self.coef_ = thetha[1:]\n",
    "        self.intercept_ = thetha[0]\n",
    "    \n",
    "    def predict(self,X_test):\n",
    "        \n",
    "        return np.dot(X_test,self.coef_) + self.intercept_"
   ]
  },
  {
   "cell_type": "code",
<<<<<<< HEAD
   "execution_count": 11,
=======
   "execution_count": null,
>>>>>>> 9fdd41d (new repo)
   "id": "12040494",
   "metadata": {},
   "outputs": [],
   "source": [
    "reg = MeraRidgeGD(epochs=500,alpha=0.001,learning_rate=0.005)"
   ]
  },
  {
   "cell_type": "code",
<<<<<<< HEAD
   "execution_count": 12,
   "id": "cd5d4820",
   "metadata": {},
   "outputs": [
    {
     "name": "stdout",
     "output_type": "stream",
     "text": [
      "R2 score 0.4738018280260913\n",
      "[  46.65050914 -221.3750037   452.12080647  325.54248128  -29.09464178\n",
      "  -96.47517735 -190.90017011  146.32900372  400.80267299   95.09048094]\n",
      "150.86975316713472\n"
     ]
    }
   ],
=======
   "execution_count": null,
   "id": "cd5d4820",
   "metadata": {},
   "outputs": [],
>>>>>>> 9fdd41d (new repo)
   "source": [
    "reg.fit(X_train,y_train)\n",
    "\n",
    "y_pred = reg.predict(X_test)\n",
    "print(\"R2 score\",r2_score(y_test,y_pred))\n",
    "print(reg.coef_)\n",
    "print(reg.intercept_)"
   ]
  }
 ],
 "metadata": {
  "kernelspec": {
   "display_name": "Python 3 (ipykernel)",
   "language": "python",
   "name": "python3"
  },
  "language_info": {
   "codemirror_mode": {
    "name": "ipython",
    "version": 3
   },
   "file_extension": ".py",
   "mimetype": "text/x-python",
   "name": "python",
   "nbconvert_exporter": "python",
   "pygments_lexer": "ipython3",
<<<<<<< HEAD
   "version": "3.10.9"
=======
   "version": "3.11.5"
>>>>>>> 9fdd41d (new repo)
  }
 },
 "nbformat": 4,
 "nbformat_minor": 5
}
