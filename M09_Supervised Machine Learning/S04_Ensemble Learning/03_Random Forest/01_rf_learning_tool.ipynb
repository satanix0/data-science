{
 "cells": [
  {
   "cell_type": "code",
   "execution_count": 1,
   "metadata": {
    "id": "Pt3njPwTYgw3"
   },
   "outputs": [],
   "source": [
    "import numpy as np\n",
    "import pandas as pd\n",
    "import random\n",
    "from sklearn.datasets import make_classification\n",
    "import warnings\n",
    "warnings.filterwarnings(action='ignore')"
   ]
  },
  {
   "cell_type": "code",
   "execution_count": 2,
   "metadata": {
    "id": "7BsWDgjaYncT"
   },
   "outputs": [],
   "source": [
    "# Creating a classification data\n",
    "X, y = make_classification(\n",
    "    n_features=5, \n",
    "    n_redundant=0, \n",
    "    n_informative=5,\n",
    "    n_clusters_per_class=1,\n",
    ")"
   ]
  },
  {
   "cell_type": "code",
   "execution_count": 3,
   "metadata": {
    "colab": {
     "base_uri": "https://localhost:8080/",
     "height": 223
    },
    "id": "OksCU9vaY5-L",
    "outputId": "803427a6-cedd-49a3-a5be-d92df2cab2a0"
   },
   "outputs": [
    {
     "name": "stdout",
     "output_type": "stream",
     "text": [
      "(100, 6)\n"
     ]
    },
    {
     "data": {
      "text/html": [
       "<div>\n",
       "<style scoped>\n",
       "    .dataframe tbody tr th:only-of-type {\n",
       "        vertical-align: middle;\n",
       "    }\n",
       "\n",
       "    .dataframe tbody tr th {\n",
       "        vertical-align: top;\n",
       "    }\n",
       "\n",
       "    .dataframe thead th {\n",
       "        text-align: right;\n",
       "    }\n",
       "</style>\n",
       "<table border=\"1\" class=\"dataframe\">\n",
       "  <thead>\n",
       "    <tr style=\"text-align: right;\">\n",
       "      <th></th>\n",
       "      <th>col1</th>\n",
       "      <th>col2</th>\n",
       "      <th>col3</th>\n",
       "      <th>col4</th>\n",
       "      <th>col5</th>\n",
       "      <th>target</th>\n",
       "    </tr>\n",
       "  </thead>\n",
       "  <tbody>\n",
       "    <tr>\n",
       "      <th>0</th>\n",
       "      <td>0.513355</td>\n",
       "      <td>-1.719211</td>\n",
       "      <td>-1.358102</td>\n",
       "      <td>-0.564751</td>\n",
       "      <td>0.714103</td>\n",
       "      <td>1</td>\n",
       "    </tr>\n",
       "    <tr>\n",
       "      <th>1</th>\n",
       "      <td>1.420893</td>\n",
       "      <td>-2.558280</td>\n",
       "      <td>-2.392380</td>\n",
       "      <td>-1.111437</td>\n",
       "      <td>1.177473</td>\n",
       "      <td>1</td>\n",
       "    </tr>\n",
       "    <tr>\n",
       "      <th>2</th>\n",
       "      <td>-2.523609</td>\n",
       "      <td>-0.980700</td>\n",
       "      <td>1.484807</td>\n",
       "      <td>3.054444</td>\n",
       "      <td>0.218498</td>\n",
       "      <td>0</td>\n",
       "    </tr>\n",
       "    <tr>\n",
       "      <th>3</th>\n",
       "      <td>1.256737</td>\n",
       "      <td>0.152509</td>\n",
       "      <td>-1.755972</td>\n",
       "      <td>-0.100744</td>\n",
       "      <td>3.954430</td>\n",
       "      <td>1</td>\n",
       "    </tr>\n",
       "    <tr>\n",
       "      <th>4</th>\n",
       "      <td>-2.095460</td>\n",
       "      <td>-0.383195</td>\n",
       "      <td>-0.646372</td>\n",
       "      <td>0.399571</td>\n",
       "      <td>1.402411</td>\n",
       "      <td>0</td>\n",
       "    </tr>\n",
       "  </tbody>\n",
       "</table>\n",
       "</div>"
      ],
      "text/plain": [
       "       col1      col2      col3      col4      col5  target\n",
       "0  0.513355 -1.719211 -1.358102 -0.564751  0.714103       1\n",
       "1  1.420893 -2.558280 -2.392380 -1.111437  1.177473       1\n",
       "2 -2.523609 -0.980700  1.484807  3.054444  0.218498       0\n",
       "3  1.256737  0.152509 -1.755972 -0.100744  3.954430       1\n",
       "4 -2.095460 -0.383195 -0.646372  0.399571  1.402411       0"
      ]
     },
     "execution_count": 3,
     "metadata": {},
     "output_type": "execute_result"
    }
   ],
   "source": [
    "df = pd.DataFrame(X, columns=['col1','col2','col3','col4','col5'])\n",
    "df['target'] = y\n",
    "print(df.shape)\n",
    "df.head()"
   ]
  },
  {
   "cell_type": "code",
   "execution_count": 4,
   "metadata": {},
   "outputs": [
    {
     "data": {
      "text/plain": [
       "30.0"
      ]
     },
     "execution_count": 4,
     "metadata": {},
     "output_type": "execute_result"
    }
   ],
   "source": [
    "0.3*df.shape[0]"
   ]
  },
  {
   "cell_type": "code",
   "execution_count": 5,
   "metadata": {
    "id": "bmPSHQpAaZZw"
   },
   "outputs": [],
   "source": [
    "# function for row sampling\n",
    "# Returns 'percent' sample of df, with replacemnt\n",
    "def sample_rows(df, percent):\n",
    "  return df.sample(int(percent*df.shape[0]), replace=True)"
   ]
  },
  {
   "cell_type": "code",
   "execution_count": 6,
   "metadata": {
    "id": "f-ziftsvbJ6j"
   },
   "outputs": [],
   "source": [
    "# function for feature sampling\n",
    "# Returns 'percent' sample of df, with replacemnt\n",
    "def sample_features(df, percent):\n",
    "  cols = random.sample(df.columns.tolist()[:-1], int(percent*(df.shape[1]-1)))\n",
    "  new_df = df[cols]\n",
    "  new_df['target'] = df['target']\n",
    "  return new_df"
   ]
  },
  {
   "cell_type": "code",
   "execution_count": 7,
   "metadata": {
    "id": "yoPV7Lkc50tL"
   },
   "outputs": [],
   "source": [
    "# function for combined sampling\n",
    "def combined_sampling(df, row_percent, col_percent):\n",
    "  new_df = sample_rows(df, row_percent)\n",
    "  return sample_features(new_df, col_percent)"
   ]
  },
  {
   "cell_type": "code",
   "execution_count": 8,
   "metadata": {
    "colab": {
     "base_uri": "https://localhost:8080/"
    },
    "id": "tAi9pPs49VsF",
    "outputId": "97589529-cfce-48d2-fb6d-03c3c6dfcf09"
   },
   "outputs": [
    {
     "data": {
      "text/html": [
       "<div>\n",
       "<style scoped>\n",
       "    .dataframe tbody tr th:only-of-type {\n",
       "        vertical-align: middle;\n",
       "    }\n",
       "\n",
       "    .dataframe tbody tr th {\n",
       "        vertical-align: top;\n",
       "    }\n",
       "\n",
       "    .dataframe thead th {\n",
       "        text-align: right;\n",
       "    }\n",
       "</style>\n",
       "<table border=\"1\" class=\"dataframe\">\n",
       "  <thead>\n",
       "    <tr style=\"text-align: right;\">\n",
       "      <th></th>\n",
       "      <th>col4</th>\n",
       "      <th>col1</th>\n",
       "      <th>target</th>\n",
       "    </tr>\n",
       "  </thead>\n",
       "  <tbody>\n",
       "    <tr>\n",
       "      <th>52</th>\n",
       "      <td>-2.234300</td>\n",
       "      <td>0.831421</td>\n",
       "      <td>1</td>\n",
       "    </tr>\n",
       "    <tr>\n",
       "      <th>26</th>\n",
       "      <td>-0.458799</td>\n",
       "      <td>1.480947</td>\n",
       "      <td>1</td>\n",
       "    </tr>\n",
       "    <tr>\n",
       "      <th>74</th>\n",
       "      <td>-1.626753</td>\n",
       "      <td>1.163102</td>\n",
       "      <td>1</td>\n",
       "    </tr>\n",
       "    <tr>\n",
       "      <th>77</th>\n",
       "      <td>1.251351</td>\n",
       "      <td>0.755088</td>\n",
       "      <td>1</td>\n",
       "    </tr>\n",
       "    <tr>\n",
       "      <th>35</th>\n",
       "      <td>2.488563</td>\n",
       "      <td>-2.428403</td>\n",
       "      <td>0</td>\n",
       "    </tr>\n",
       "  </tbody>\n",
       "</table>\n",
       "</div>"
      ],
      "text/plain": [
       "        col4      col1  target\n",
       "52 -2.234300  0.831421       1\n",
       "26 -0.458799  1.480947       1\n",
       "74 -1.626753  1.163102       1\n",
       "77  1.251351  0.755088       1\n",
       "35  2.488563 -2.428403       0"
      ]
     },
     "execution_count": 8,
     "metadata": {},
     "output_type": "execute_result"
    }
   ],
   "source": [
    "df1 = combined_sampling(df, 0.5, 0.5)\n",
    "df1.head()"
   ]
  },
  {
   "cell_type": "code",
   "execution_count": 9,
   "metadata": {
    "colab": {
     "base_uri": "https://localhost:8080/"
    },
    "id": "Xaq3G-P19Vy6",
    "outputId": "8cd80f49-6579-4031-812e-f2199d1afb0b"
   },
   "outputs": [
    {
     "data": {
      "text/html": [
       "<div>\n",
       "<style scoped>\n",
       "    .dataframe tbody tr th:only-of-type {\n",
       "        vertical-align: middle;\n",
       "    }\n",
       "\n",
       "    .dataframe tbody tr th {\n",
       "        vertical-align: top;\n",
       "    }\n",
       "\n",
       "    .dataframe thead th {\n",
       "        text-align: right;\n",
       "    }\n",
       "</style>\n",
       "<table border=\"1\" class=\"dataframe\">\n",
       "  <thead>\n",
       "    <tr style=\"text-align: right;\">\n",
       "      <th></th>\n",
       "      <th>col5</th>\n",
       "      <th>col1</th>\n",
       "      <th>target</th>\n",
       "    </tr>\n",
       "  </thead>\n",
       "  <tbody>\n",
       "    <tr>\n",
       "      <th>17</th>\n",
       "      <td>1.259198</td>\n",
       "      <td>-0.175624</td>\n",
       "      <td>0</td>\n",
       "    </tr>\n",
       "    <tr>\n",
       "      <th>84</th>\n",
       "      <td>2.285974</td>\n",
       "      <td>0.372879</td>\n",
       "      <td>1</td>\n",
       "    </tr>\n",
       "    <tr>\n",
       "      <th>51</th>\n",
       "      <td>-0.100801</td>\n",
       "      <td>1.756433</td>\n",
       "      <td>1</td>\n",
       "    </tr>\n",
       "    <tr>\n",
       "      <th>22</th>\n",
       "      <td>0.288313</td>\n",
       "      <td>0.358208</td>\n",
       "      <td>0</td>\n",
       "    </tr>\n",
       "    <tr>\n",
       "      <th>10</th>\n",
       "      <td>-1.937072</td>\n",
       "      <td>-2.464729</td>\n",
       "      <td>0</td>\n",
       "    </tr>\n",
       "  </tbody>\n",
       "</table>\n",
       "</div>"
      ],
      "text/plain": [
       "        col5      col1  target\n",
       "17  1.259198 -0.175624       0\n",
       "84  2.285974  0.372879       1\n",
       "51 -0.100801  1.756433       1\n",
       "22  0.288313  0.358208       0\n",
       "10 -1.937072 -2.464729       0"
      ]
     },
     "execution_count": 9,
     "metadata": {},
     "output_type": "execute_result"
    }
   ],
   "source": [
    "df2 = combined_sampling(df, 0.5, 0.5)\n",
    "df2.head()"
   ]
  },
  {
   "cell_type": "code",
   "execution_count": 10,
   "metadata": {
    "colab": {
     "base_uri": "https://localhost:8080/"
    },
    "id": "WgPzMsz-9V5z",
    "outputId": "129228a4-037e-4c73-e81a-47ae83ebd218"
   },
   "outputs": [
    {
     "data": {
      "text/html": [
       "<div>\n",
       "<style scoped>\n",
       "    .dataframe tbody tr th:only-of-type {\n",
       "        vertical-align: middle;\n",
       "    }\n",
       "\n",
       "    .dataframe tbody tr th {\n",
       "        vertical-align: top;\n",
       "    }\n",
       "\n",
       "    .dataframe thead th {\n",
       "        text-align: right;\n",
       "    }\n",
       "</style>\n",
       "<table border=\"1\" class=\"dataframe\">\n",
       "  <thead>\n",
       "    <tr style=\"text-align: right;\">\n",
       "      <th></th>\n",
       "      <th>col4</th>\n",
       "      <th>col3</th>\n",
       "      <th>target</th>\n",
       "    </tr>\n",
       "  </thead>\n",
       "  <tbody>\n",
       "    <tr>\n",
       "      <th>97</th>\n",
       "      <td>0.976499</td>\n",
       "      <td>0.271247</td>\n",
       "      <td>0</td>\n",
       "    </tr>\n",
       "    <tr>\n",
       "      <th>41</th>\n",
       "      <td>0.928390</td>\n",
       "      <td>0.539828</td>\n",
       "      <td>0</td>\n",
       "    </tr>\n",
       "    <tr>\n",
       "      <th>47</th>\n",
       "      <td>-1.223691</td>\n",
       "      <td>-0.295060</td>\n",
       "      <td>1</td>\n",
       "    </tr>\n",
       "    <tr>\n",
       "      <th>90</th>\n",
       "      <td>-2.077000</td>\n",
       "      <td>0.156854</td>\n",
       "      <td>1</td>\n",
       "    </tr>\n",
       "    <tr>\n",
       "      <th>72</th>\n",
       "      <td>-4.886463</td>\n",
       "      <td>2.789956</td>\n",
       "      <td>1</td>\n",
       "    </tr>\n",
       "  </tbody>\n",
       "</table>\n",
       "</div>"
      ],
      "text/plain": [
       "        col4      col3  target\n",
       "97  0.976499  0.271247       0\n",
       "41  0.928390  0.539828       0\n",
       "47 -1.223691 -0.295060       1\n",
       "90 -2.077000  0.156854       1\n",
       "72 -4.886463  2.789956       1"
      ]
     },
     "execution_count": 10,
     "metadata": {},
     "output_type": "execute_result"
    }
   ],
   "source": [
    "df3 = combined_sampling(df, 0.5, 0.5)\n",
    "df3.head()"
   ]
  },
  {
   "cell_type": "code",
   "execution_count": 11,
   "metadata": {
    "colab": {
     "base_uri": "https://localhost:8080/"
    },
    "id": "6XMaiuf59WHb",
    "outputId": "7536fcf6-f0bb-4821-d5e5-592ff3efc8e9"
   },
   "outputs": [
    {
     "name": "stdout",
     "output_type": "stream",
     "text": [
      "Index(['col4', 'col1', 'target'], dtype='object')\n",
      "Index(['col5', 'col1', 'target'], dtype='object')\n",
      "Index(['col4', 'col3', 'target'], dtype='object')\n"
     ]
    }
   ],
   "source": [
    "print(df1.columns)\n",
    "print(df2.columns)\n",
    "print(df3.columns)"
   ]
  },
  {
   "cell_type": "code",
   "execution_count": 12,
   "metadata": {
    "colab": {
     "base_uri": "https://localhost:8080/",
     "height": 1000
    },
    "id": "zIq1H_X99WNj",
    "outputId": "11810499-c52c-4f11-f9cd-15a5c77afb8b"
   },
   "outputs": [
    {
     "data": {
      "text/html": [
       "<div>\n",
       "<style scoped>\n",
       "    .dataframe tbody tr th:only-of-type {\n",
       "        vertical-align: middle;\n",
       "    }\n",
       "\n",
       "    .dataframe tbody tr th {\n",
       "        vertical-align: top;\n",
       "    }\n",
       "\n",
       "    .dataframe thead th {\n",
       "        text-align: right;\n",
       "    }\n",
       "</style>\n",
       "<table border=\"1\" class=\"dataframe\">\n",
       "  <thead>\n",
       "    <tr style=\"text-align: right;\">\n",
       "      <th></th>\n",
       "      <th>col4</th>\n",
       "      <th>col3</th>\n",
       "      <th>target</th>\n",
       "    </tr>\n",
       "  </thead>\n",
       "  <tbody>\n",
       "    <tr>\n",
       "      <th>97</th>\n",
       "      <td>0.976499</td>\n",
       "      <td>0.271247</td>\n",
       "      <td>0</td>\n",
       "    </tr>\n",
       "    <tr>\n",
       "      <th>41</th>\n",
       "      <td>0.928390</td>\n",
       "      <td>0.539828</td>\n",
       "      <td>0</td>\n",
       "    </tr>\n",
       "    <tr>\n",
       "      <th>47</th>\n",
       "      <td>-1.223691</td>\n",
       "      <td>-0.295060</td>\n",
       "      <td>1</td>\n",
       "    </tr>\n",
       "    <tr>\n",
       "      <th>90</th>\n",
       "      <td>-2.077000</td>\n",
       "      <td>0.156854</td>\n",
       "      <td>1</td>\n",
       "    </tr>\n",
       "    <tr>\n",
       "      <th>72</th>\n",
       "      <td>-4.886463</td>\n",
       "      <td>2.789956</td>\n",
       "      <td>1</td>\n",
       "    </tr>\n",
       "    <tr>\n",
       "      <th>47</th>\n",
       "      <td>-1.223691</td>\n",
       "      <td>-0.295060</td>\n",
       "      <td>1</td>\n",
       "    </tr>\n",
       "    <tr>\n",
       "      <th>45</th>\n",
       "      <td>0.475759</td>\n",
       "      <td>-2.189079</td>\n",
       "      <td>1</td>\n",
       "    </tr>\n",
       "    <tr>\n",
       "      <th>73</th>\n",
       "      <td>2.854509</td>\n",
       "      <td>1.923676</td>\n",
       "      <td>0</td>\n",
       "    </tr>\n",
       "    <tr>\n",
       "      <th>70</th>\n",
       "      <td>1.087787</td>\n",
       "      <td>0.557948</td>\n",
       "      <td>0</td>\n",
       "    </tr>\n",
       "    <tr>\n",
       "      <th>62</th>\n",
       "      <td>-1.463526</td>\n",
       "      <td>-0.424442</td>\n",
       "      <td>1</td>\n",
       "    </tr>\n",
       "    <tr>\n",
       "      <th>2</th>\n",
       "      <td>3.054444</td>\n",
       "      <td>1.484807</td>\n",
       "      <td>0</td>\n",
       "    </tr>\n",
       "    <tr>\n",
       "      <th>69</th>\n",
       "      <td>0.902693</td>\n",
       "      <td>-3.671024</td>\n",
       "      <td>1</td>\n",
       "    </tr>\n",
       "    <tr>\n",
       "      <th>46</th>\n",
       "      <td>-1.630027</td>\n",
       "      <td>0.046814</td>\n",
       "      <td>1</td>\n",
       "    </tr>\n",
       "    <tr>\n",
       "      <th>62</th>\n",
       "      <td>-1.463526</td>\n",
       "      <td>-0.424442</td>\n",
       "      <td>1</td>\n",
       "    </tr>\n",
       "    <tr>\n",
       "      <th>58</th>\n",
       "      <td>-0.345608</td>\n",
       "      <td>-0.519851</td>\n",
       "      <td>0</td>\n",
       "    </tr>\n",
       "    <tr>\n",
       "      <th>31</th>\n",
       "      <td>0.668993</td>\n",
       "      <td>-2.555905</td>\n",
       "      <td>1</td>\n",
       "    </tr>\n",
       "    <tr>\n",
       "      <th>56</th>\n",
       "      <td>-1.009414</td>\n",
       "      <td>-0.923942</td>\n",
       "      <td>1</td>\n",
       "    </tr>\n",
       "    <tr>\n",
       "      <th>39</th>\n",
       "      <td>-0.400791</td>\n",
       "      <td>-1.480211</td>\n",
       "      <td>1</td>\n",
       "    </tr>\n",
       "    <tr>\n",
       "      <th>19</th>\n",
       "      <td>-2.029040</td>\n",
       "      <td>0.198653</td>\n",
       "      <td>1</td>\n",
       "    </tr>\n",
       "    <tr>\n",
       "      <th>18</th>\n",
       "      <td>1.419491</td>\n",
       "      <td>1.426830</td>\n",
       "      <td>0</td>\n",
       "    </tr>\n",
       "    <tr>\n",
       "      <th>82</th>\n",
       "      <td>0.641104</td>\n",
       "      <td>-3.436985</td>\n",
       "      <td>1</td>\n",
       "    </tr>\n",
       "    <tr>\n",
       "      <th>18</th>\n",
       "      <td>1.419491</td>\n",
       "      <td>1.426830</td>\n",
       "      <td>0</td>\n",
       "    </tr>\n",
       "    <tr>\n",
       "      <th>65</th>\n",
       "      <td>0.985266</td>\n",
       "      <td>1.936708</td>\n",
       "      <td>0</td>\n",
       "    </tr>\n",
       "    <tr>\n",
       "      <th>48</th>\n",
       "      <td>-3.851204</td>\n",
       "      <td>2.484445</td>\n",
       "      <td>1</td>\n",
       "    </tr>\n",
       "    <tr>\n",
       "      <th>76</th>\n",
       "      <td>-1.618433</td>\n",
       "      <td>-0.241131</td>\n",
       "      <td>1</td>\n",
       "    </tr>\n",
       "    <tr>\n",
       "      <th>3</th>\n",
       "      <td>-0.100744</td>\n",
       "      <td>-1.755972</td>\n",
       "      <td>1</td>\n",
       "    </tr>\n",
       "    <tr>\n",
       "      <th>72</th>\n",
       "      <td>-4.886463</td>\n",
       "      <td>2.789956</td>\n",
       "      <td>1</td>\n",
       "    </tr>\n",
       "    <tr>\n",
       "      <th>69</th>\n",
       "      <td>0.902693</td>\n",
       "      <td>-3.671024</td>\n",
       "      <td>1</td>\n",
       "    </tr>\n",
       "    <tr>\n",
       "      <th>56</th>\n",
       "      <td>-1.009414</td>\n",
       "      <td>-0.923942</td>\n",
       "      <td>1</td>\n",
       "    </tr>\n",
       "    <tr>\n",
       "      <th>17</th>\n",
       "      <td>-0.314817</td>\n",
       "      <td>-0.796869</td>\n",
       "      <td>0</td>\n",
       "    </tr>\n",
       "    <tr>\n",
       "      <th>58</th>\n",
       "      <td>-0.345608</td>\n",
       "      <td>-0.519851</td>\n",
       "      <td>0</td>\n",
       "    </tr>\n",
       "    <tr>\n",
       "      <th>28</th>\n",
       "      <td>-1.485010</td>\n",
       "      <td>-0.102713</td>\n",
       "      <td>1</td>\n",
       "    </tr>\n",
       "    <tr>\n",
       "      <th>65</th>\n",
       "      <td>0.985266</td>\n",
       "      <td>1.936708</td>\n",
       "      <td>0</td>\n",
       "    </tr>\n",
       "    <tr>\n",
       "      <th>44</th>\n",
       "      <td>-0.139877</td>\n",
       "      <td>-2.049771</td>\n",
       "      <td>1</td>\n",
       "    </tr>\n",
       "    <tr>\n",
       "      <th>12</th>\n",
       "      <td>-1.905686</td>\n",
       "      <td>-0.111137</td>\n",
       "      <td>1</td>\n",
       "    </tr>\n",
       "    <tr>\n",
       "      <th>71</th>\n",
       "      <td>4.406105</td>\n",
       "      <td>3.535845</td>\n",
       "      <td>0</td>\n",
       "    </tr>\n",
       "    <tr>\n",
       "      <th>57</th>\n",
       "      <td>-0.157412</td>\n",
       "      <td>-2.711555</td>\n",
       "      <td>1</td>\n",
       "    </tr>\n",
       "    <tr>\n",
       "      <th>64</th>\n",
       "      <td>2.392418</td>\n",
       "      <td>1.702196</td>\n",
       "      <td>0</td>\n",
       "    </tr>\n",
       "    <tr>\n",
       "      <th>68</th>\n",
       "      <td>2.912950</td>\n",
       "      <td>1.109253</td>\n",
       "      <td>0</td>\n",
       "    </tr>\n",
       "    <tr>\n",
       "      <th>8</th>\n",
       "      <td>-2.742036</td>\n",
       "      <td>0.539896</td>\n",
       "      <td>1</td>\n",
       "    </tr>\n",
       "    <tr>\n",
       "      <th>79</th>\n",
       "      <td>0.511747</td>\n",
       "      <td>1.874100</td>\n",
       "      <td>0</td>\n",
       "    </tr>\n",
       "    <tr>\n",
       "      <th>92</th>\n",
       "      <td>0.710507</td>\n",
       "      <td>-3.203995</td>\n",
       "      <td>1</td>\n",
       "    </tr>\n",
       "    <tr>\n",
       "      <th>79</th>\n",
       "      <td>0.511747</td>\n",
       "      <td>1.874100</td>\n",
       "      <td>0</td>\n",
       "    </tr>\n",
       "    <tr>\n",
       "      <th>62</th>\n",
       "      <td>-1.463526</td>\n",
       "      <td>-0.424442</td>\n",
       "      <td>1</td>\n",
       "    </tr>\n",
       "    <tr>\n",
       "      <th>3</th>\n",
       "      <td>-0.100744</td>\n",
       "      <td>-1.755972</td>\n",
       "      <td>1</td>\n",
       "    </tr>\n",
       "    <tr>\n",
       "      <th>92</th>\n",
       "      <td>0.710507</td>\n",
       "      <td>-3.203995</td>\n",
       "      <td>1</td>\n",
       "    </tr>\n",
       "    <tr>\n",
       "      <th>89</th>\n",
       "      <td>0.344597</td>\n",
       "      <td>-0.263490</td>\n",
       "      <td>0</td>\n",
       "    </tr>\n",
       "    <tr>\n",
       "      <th>0</th>\n",
       "      <td>-0.564751</td>\n",
       "      <td>-1.358102</td>\n",
       "      <td>1</td>\n",
       "    </tr>\n",
       "    <tr>\n",
       "      <th>73</th>\n",
       "      <td>2.854509</td>\n",
       "      <td>1.923676</td>\n",
       "      <td>0</td>\n",
       "    </tr>\n",
       "    <tr>\n",
       "      <th>78</th>\n",
       "      <td>-4.115722</td>\n",
       "      <td>2.745868</td>\n",
       "      <td>1</td>\n",
       "    </tr>\n",
       "  </tbody>\n",
       "</table>\n",
       "</div>"
      ],
      "text/plain": [
       "        col4      col3  target\n",
       "97  0.976499  0.271247       0\n",
       "41  0.928390  0.539828       0\n",
       "47 -1.223691 -0.295060       1\n",
       "90 -2.077000  0.156854       1\n",
       "72 -4.886463  2.789956       1\n",
       "47 -1.223691 -0.295060       1\n",
       "45  0.475759 -2.189079       1\n",
       "73  2.854509  1.923676       0\n",
       "70  1.087787  0.557948       0\n",
       "62 -1.463526 -0.424442       1\n",
       "2   3.054444  1.484807       0\n",
       "69  0.902693 -3.671024       1\n",
       "46 -1.630027  0.046814       1\n",
       "62 -1.463526 -0.424442       1\n",
       "58 -0.345608 -0.519851       0\n",
       "31  0.668993 -2.555905       1\n",
       "56 -1.009414 -0.923942       1\n",
       "39 -0.400791 -1.480211       1\n",
       "19 -2.029040  0.198653       1\n",
       "18  1.419491  1.426830       0\n",
       "82  0.641104 -3.436985       1\n",
       "18  1.419491  1.426830       0\n",
       "65  0.985266  1.936708       0\n",
       "48 -3.851204  2.484445       1\n",
       "76 -1.618433 -0.241131       1\n",
       "3  -0.100744 -1.755972       1\n",
       "72 -4.886463  2.789956       1\n",
       "69  0.902693 -3.671024       1\n",
       "56 -1.009414 -0.923942       1\n",
       "17 -0.314817 -0.796869       0\n",
       "58 -0.345608 -0.519851       0\n",
       "28 -1.485010 -0.102713       1\n",
       "65  0.985266  1.936708       0\n",
       "44 -0.139877 -2.049771       1\n",
       "12 -1.905686 -0.111137       1\n",
       "71  4.406105  3.535845       0\n",
       "57 -0.157412 -2.711555       1\n",
       "64  2.392418  1.702196       0\n",
       "68  2.912950  1.109253       0\n",
       "8  -2.742036  0.539896       1\n",
       "79  0.511747  1.874100       0\n",
       "92  0.710507 -3.203995       1\n",
       "79  0.511747  1.874100       0\n",
       "62 -1.463526 -0.424442       1\n",
       "3  -0.100744 -1.755972       1\n",
       "92  0.710507 -3.203995       1\n",
       "89  0.344597 -0.263490       0\n",
       "0  -0.564751 -1.358102       1\n",
       "73  2.854509  1.923676       0\n",
       "78 -4.115722  2.745868       1"
      ]
     },
     "execution_count": 12,
     "metadata": {},
     "output_type": "execute_result"
    }
   ],
   "source": [
    "df3"
   ]
  },
  {
   "cell_type": "code",
   "execution_count": 13,
   "metadata": {
    "id": "Ee9eCA0tbdlo"
   },
   "outputs": [],
   "source": [
    "from sklearn.tree import DecisionTreeClassifier\n",
    "clf1 = DecisionTreeClassifier()\n",
    "clf2 = DecisionTreeClassifier()\n",
    "clf3 = DecisionTreeClassifier()"
   ]
  },
  {
   "cell_type": "code",
   "execution_count": 14,
   "metadata": {
    "colab": {
     "base_uri": "https://localhost:8080/"
    },
    "id": "FsbRwvPGbskE",
    "outputId": "ea00a6c2-c5c9-413b-ec38-071670643e3e"
   },
   "outputs": [
    {
     "data": {
      "text/html": [
       "<style>#sk-container-id-1 {color: black;}#sk-container-id-1 pre{padding: 0;}#sk-container-id-1 div.sk-toggleable {background-color: white;}#sk-container-id-1 label.sk-toggleable__label {cursor: pointer;display: block;width: 100%;margin-bottom: 0;padding: 0.3em;box-sizing: border-box;text-align: center;}#sk-container-id-1 label.sk-toggleable__label-arrow:before {content: \"▸\";float: left;margin-right: 0.25em;color: #696969;}#sk-container-id-1 label.sk-toggleable__label-arrow:hover:before {color: black;}#sk-container-id-1 div.sk-estimator:hover label.sk-toggleable__label-arrow:before {color: black;}#sk-container-id-1 div.sk-toggleable__content {max-height: 0;max-width: 0;overflow: hidden;text-align: left;background-color: #f0f8ff;}#sk-container-id-1 div.sk-toggleable__content pre {margin: 0.2em;color: black;border-radius: 0.25em;background-color: #f0f8ff;}#sk-container-id-1 input.sk-toggleable__control:checked~div.sk-toggleable__content {max-height: 200px;max-width: 100%;overflow: auto;}#sk-container-id-1 input.sk-toggleable__control:checked~label.sk-toggleable__label-arrow:before {content: \"▾\";}#sk-container-id-1 div.sk-estimator input.sk-toggleable__control:checked~label.sk-toggleable__label {background-color: #d4ebff;}#sk-container-id-1 div.sk-label input.sk-toggleable__control:checked~label.sk-toggleable__label {background-color: #d4ebff;}#sk-container-id-1 input.sk-hidden--visually {border: 0;clip: rect(1px 1px 1px 1px);clip: rect(1px, 1px, 1px, 1px);height: 1px;margin: -1px;overflow: hidden;padding: 0;position: absolute;width: 1px;}#sk-container-id-1 div.sk-estimator {font-family: monospace;background-color: #f0f8ff;border: 1px dotted black;border-radius: 0.25em;box-sizing: border-box;margin-bottom: 0.5em;}#sk-container-id-1 div.sk-estimator:hover {background-color: #d4ebff;}#sk-container-id-1 div.sk-parallel-item::after {content: \"\";width: 100%;border-bottom: 1px solid gray;flex-grow: 1;}#sk-container-id-1 div.sk-label:hover label.sk-toggleable__label {background-color: #d4ebff;}#sk-container-id-1 div.sk-serial::before {content: \"\";position: absolute;border-left: 1px solid gray;box-sizing: border-box;top: 0;bottom: 0;left: 50%;z-index: 0;}#sk-container-id-1 div.sk-serial {display: flex;flex-direction: column;align-items: center;background-color: white;padding-right: 0.2em;padding-left: 0.2em;position: relative;}#sk-container-id-1 div.sk-item {position: relative;z-index: 1;}#sk-container-id-1 div.sk-parallel {display: flex;align-items: stretch;justify-content: center;background-color: white;position: relative;}#sk-container-id-1 div.sk-item::before, #sk-container-id-1 div.sk-parallel-item::before {content: \"\";position: absolute;border-left: 1px solid gray;box-sizing: border-box;top: 0;bottom: 0;left: 50%;z-index: -1;}#sk-container-id-1 div.sk-parallel-item {display: flex;flex-direction: column;z-index: 1;position: relative;background-color: white;}#sk-container-id-1 div.sk-parallel-item:first-child::after {align-self: flex-end;width: 50%;}#sk-container-id-1 div.sk-parallel-item:last-child::after {align-self: flex-start;width: 50%;}#sk-container-id-1 div.sk-parallel-item:only-child::after {width: 0;}#sk-container-id-1 div.sk-dashed-wrapped {border: 1px dashed gray;margin: 0 0.4em 0.5em 0.4em;box-sizing: border-box;padding-bottom: 0.4em;background-color: white;}#sk-container-id-1 div.sk-label label {font-family: monospace;font-weight: bold;display: inline-block;line-height: 1.2em;}#sk-container-id-1 div.sk-label-container {text-align: center;}#sk-container-id-1 div.sk-container {/* jupyter's `normalize.less` sets `[hidden] { display: none; }` but bootstrap.min.css set `[hidden] { display: none !important; }` so we also need the `!important` here to be able to override the default hidden behavior on the sphinx rendered scikit-learn.org. See: https://github.com/scikit-learn/scikit-learn/issues/21755 */display: inline-block !important;position: relative;}#sk-container-id-1 div.sk-text-repr-fallback {display: none;}</style><div id=\"sk-container-id-1\" class=\"sk-top-container\"><div class=\"sk-text-repr-fallback\"><pre>DecisionTreeClassifier()</pre><b>In a Jupyter environment, please rerun this cell to show the HTML representation or trust the notebook. <br />On GitHub, the HTML representation is unable to render, please try loading this page with nbviewer.org.</b></div><div class=\"sk-container\" hidden><div class=\"sk-item\"><div class=\"sk-estimator sk-toggleable\"><input class=\"sk-toggleable__control sk-hidden--visually\" id=\"sk-estimator-id-1\" type=\"checkbox\" checked><label for=\"sk-estimator-id-1\" class=\"sk-toggleable__label sk-toggleable__label-arrow\">DecisionTreeClassifier</label><div class=\"sk-toggleable__content\"><pre>DecisionTreeClassifier()</pre></div></div></div></div></div>"
      ],
      "text/plain": [
       "DecisionTreeClassifier()"
      ]
     },
     "execution_count": 14,
     "metadata": {},
     "output_type": "execute_result"
    }
   ],
   "source": [
    "clf1.fit(df1.iloc[:,0:2],df1.iloc[:,-1])\n",
    "clf2.fit(df2.iloc[:,0:2],df2.iloc[:,-1])\n",
    "clf3.fit(df3.iloc[:,0:2],df3.iloc[:,-1])"
   ]
  },
  {
   "cell_type": "code",
   "execution_count": 15,
   "metadata": {
    "id": "1TgG9KBcb75I"
   },
   "outputs": [],
   "source": [
    "from sklearn.tree import plot_tree"
   ]
  },
  {
   "cell_type": "code",
   "execution_count": 16,
   "metadata": {
    "colab": {
     "base_uri": "https://localhost:8080/",
     "height": 542
    },
    "id": "ezaWbbKlcDo8",
    "outputId": "eccea661-a3d3-40f6-f6de-2e90ffd2be78"
   },
   "outputs": [
    {
     "data": {
      "text/plain": [
       "[Text(0.5, 0.9, 'x[1] <= 0.498\\ngini = 0.497\\nsamples = 50\\nvalue = [27, 23]'),\n",
       " Text(0.25, 0.7, 'x[0] <= -1.178\\ngini = 0.142\\nsamples = 26\\nvalue = [24, 2]'),\n",
       " Text(0.125, 0.5, 'gini = 0.0\\nsamples = 2\\nvalue = [0, 2]'),\n",
       " Text(0.375, 0.5, 'gini = 0.0\\nsamples = 24\\nvalue = [24, 0]'),\n",
       " Text(0.75, 0.7, 'x[1] <= 1.08\\ngini = 0.219\\nsamples = 24\\nvalue = [3, 21]'),\n",
       " Text(0.625, 0.5, 'x[0] <= 0.439\\ngini = 0.397\\nsamples = 11\\nvalue = [3, 8]'),\n",
       " Text(0.5, 0.3, 'x[0] <= -1.279\\ngini = 0.5\\nsamples = 6\\nvalue = [3, 3]'),\n",
       " Text(0.375, 0.1, 'gini = 0.0\\nsamples = 3\\nvalue = [0, 3]'),\n",
       " Text(0.625, 0.1, 'gini = 0.0\\nsamples = 3\\nvalue = [3, 0]'),\n",
       " Text(0.75, 0.3, 'gini = 0.0\\nsamples = 5\\nvalue = [0, 5]'),\n",
       " Text(0.875, 0.5, 'gini = 0.0\\nsamples = 13\\nvalue = [0, 13]')]"
      ]
     },
     "execution_count": 16,
     "metadata": {},
     "output_type": "execute_result"
    },
    {
     "data": {
      "image/png": "[encoded data removed]",
      "text/plain": [
       "<Figure size 640x480 with 1 Axes>"
      ]
     },
     "metadata": {},
     "output_type": "display_data"
    }
   ],
   "source": [
    "plot_tree(clf1)"
   ]
  },
  {
   "cell_type": "code",
   "execution_count": 17,
   "metadata": {
    "colab": {
     "base_uri": "https://localhost:8080/",
     "height": 473
    },
    "id": "hYpTwnxOcFgA",
    "outputId": "1191ef5b-7551-402d-8ccb-593eb90ad126"
   },
   "outputs": [
    {
     "data": {
      "text/plain": [
       "[Text(0.3333333333333333, 0.9, 'x[1] <= -0.021\\ngini = 0.497\\nsamples = 50\\nvalue = [23, 27]'),\n",
       " Text(0.16666666666666666, 0.7, 'gini = 0.0\\nsamples = 20\\nvalue = [20, 0]'),\n",
       " Text(0.5, 0.7, 'x[0] <= -1.581\\ngini = 0.18\\nsamples = 30\\nvalue = [3, 27]'),\n",
       " Text(0.3333333333333333, 0.5, 'gini = 0.0\\nsamples = 2\\nvalue = [2, 0]'),\n",
       " Text(0.6666666666666666, 0.5, 'x[1] <= 0.366\\ngini = 0.069\\nsamples = 28\\nvalue = [1, 27]'),\n",
       " Text(0.5, 0.3, 'x[1] <= 0.345\\ngini = 0.375\\nsamples = 4\\nvalue = [1, 3]'),\n",
       " Text(0.3333333333333333, 0.1, 'gini = 0.0\\nsamples = 3\\nvalue = [0, 3]'),\n",
       " Text(0.6666666666666666, 0.1, 'gini = 0.0\\nsamples = 1\\nvalue = [1, 0]'),\n",
       " Text(0.8333333333333334, 0.3, 'gini = 0.0\\nsamples = 24\\nvalue = [0, 24]')]"
      ]
     },
     "execution_count": 17,
     "metadata": {},
     "output_type": "execute_result"
    },
    {
     "data": {
      "image/png": "[encoded data removed]",
      "text/plain": [
       "<Figure size 640x480 with 1 Axes>"
      ]
     },
     "metadata": {},
     "output_type": "display_data"
    }
   ],
   "source": [
    "plot_tree(clf2)"
   ]
  },
  {
   "cell_type": "code",
   "execution_count": 18,
   "metadata": {
    "colab": {
     "base_uri": "https://localhost:8080/",
     "height": 438
    },
    "id": "hoW0vMXScRMk",
    "outputId": "2e9d4596-08e9-46dc-c440-1584ebd9f95a"
   },
   "outputs": [
    {
     "data": {
      "text/plain": [
       "[Text(0.6, 0.875, 'x[0] <= 0.916\\ngini = 0.471\\nsamples = 50\\nvalue = [19, 31]'),\n",
       " Text(0.4, 0.625, 'x[0] <= -0.373\\ngini = 0.272\\nsamples = 37\\nvalue = [6, 31]'),\n",
       " Text(0.2, 0.375, 'gini = 0.0\\nsamples = 20\\nvalue = [0, 20]'),\n",
       " Text(0.6, 0.375, 'x[1] <= -1.276\\ngini = 0.457\\nsamples = 17\\nvalue = [6, 11]'),\n",
       " Text(0.4, 0.125, 'gini = 0.0\\nsamples = 11\\nvalue = [0, 11]'),\n",
       " Text(0.8, 0.125, 'gini = 0.0\\nsamples = 6\\nvalue = [6, 0]'),\n",
       " Text(0.8, 0.625, 'gini = 0.0\\nsamples = 13\\nvalue = [13, 0]')]"
      ]
     },
     "execution_count": 18,
     "metadata": {},
     "output_type": "execute_result"
    },
    {
     "data": {
      "image/png": "[encoded data removed]",
      "text/plain": [
       "<Figure size 640x480 with 1 Axes>"
      ]
     },
     "metadata": {},
     "output_type": "display_data"
    }
   ],
   "source": [
    "plot_tree(clf3)"
   ]
  },
  {
   "cell_type": "code",
   "execution_count": 19,
   "metadata": {
    "colab": {
     "base_uri": "https://localhost:8080/"
    },
    "id": "I6TF3rdncVt0",
    "outputId": "c55af97d-a9fd-4f7d-c740-101551f4fc3d"
   },
   "outputs": [
    {
     "data": {
      "text/plain": [
       "array([0])"
      ]
     },
     "execution_count": 19,
     "metadata": {},
     "output_type": "execute_result"
    }
   ],
   "source": [
    "clf1.predict(np.array([-1.042498,\t-0.064323]).reshape(1,2))"
   ]
  },
  {
   "cell_type": "code",
   "execution_count": 20,
   "metadata": {
    "colab": {
     "base_uri": "https://localhost:8080/"
    },
    "id": "VM7HvDCqiMo0",
    "outputId": "26db8422-8897-48fa-dff6-cf21e9aef41b"
   },
   "outputs": [
    {
     "data": {
      "text/plain": [
       "array([0])"
      ]
     },
     "execution_count": 20,
     "metadata": {},
     "output_type": "execute_result"
    }
   ],
   "source": [
    "clf2.predict(np.array([-1.042498,\t-0.064323]).reshape(1,2))"
   ]
  },
  {
   "cell_type": "code",
   "execution_count": 21,
   "metadata": {
    "colab": {
     "base_uri": "https://localhost:8080/"
    },
    "id": "ppIM05J2iTYg",
    "outputId": "7b181b3f-3ab5-46bc-da57-28b3be2402f0"
   },
   "outputs": [
    {
     "data": {
      "text/plain": [
       "array([1])"
      ]
     },
     "execution_count": 21,
     "metadata": {},
     "output_type": "execute_result"
    }
   ],
   "source": [
    "clf3.predict(np.array([-1.042498,\t-0.064323]).reshape(1,2))"
   ]
  },
  {
   "cell_type": "code",
   "execution_count": 22,
   "metadata": {
    "colab": {
     "base_uri": "https://localhost:8080/",
     "height": 465
    },
    "id": "nIrui56hiU7X",
    "outputId": "64d6f3ff-47dd-43ea-b57f-d94bf14cec1e"
   },
   "outputs": [
    {
     "data": {
      "text/html": [
       "<div>\n",
       "<style scoped>\n",
       "    .dataframe tbody tr th:only-of-type {\n",
       "        vertical-align: middle;\n",
       "    }\n",
       "\n",
       "    .dataframe tbody tr th {\n",
       "        vertical-align: top;\n",
       "    }\n",
       "\n",
       "    .dataframe thead th {\n",
       "        text-align: right;\n",
       "    }\n",
       "</style>\n",
       "<table border=\"1\" class=\"dataframe\">\n",
       "  <thead>\n",
       "    <tr style=\"text-align: right;\">\n",
       "      <th></th>\n",
       "      <th>col1</th>\n",
       "      <th>col2</th>\n",
       "      <th>col3</th>\n",
       "      <th>col4</th>\n",
       "      <th>col5</th>\n",
       "      <th>target</th>\n",
       "    </tr>\n",
       "  </thead>\n",
       "  <tbody>\n",
       "    <tr>\n",
       "      <th>92</th>\n",
       "      <td>0.689522</td>\n",
       "      <td>-1.798347</td>\n",
       "      <td>-3.203995</td>\n",
       "      <td>0.710507</td>\n",
       "      <td>3.081517</td>\n",
       "      <td>1</td>\n",
       "    </tr>\n",
       "    <tr>\n",
       "      <th>68</th>\n",
       "      <td>-3.140304</td>\n",
       "      <td>-1.183822</td>\n",
       "      <td>1.109253</td>\n",
       "      <td>2.912950</td>\n",
       "      <td>0.597985</td>\n",
       "      <td>0</td>\n",
       "    </tr>\n",
       "    <tr>\n",
       "      <th>7</th>\n",
       "      <td>0.862395</td>\n",
       "      <td>-1.753570</td>\n",
       "      <td>-3.358851</td>\n",
       "      <td>0.962747</td>\n",
       "      <td>2.927093</td>\n",
       "      <td>1</td>\n",
       "    </tr>\n",
       "    <tr>\n",
       "      <th>42</th>\n",
       "      <td>-3.144065</td>\n",
       "      <td>1.835609</td>\n",
       "      <td>-0.249163</td>\n",
       "      <td>-0.185247</td>\n",
       "      <td>-1.069047</td>\n",
       "      <td>0</td>\n",
       "    </tr>\n",
       "    <tr>\n",
       "      <th>68</th>\n",
       "      <td>-3.140304</td>\n",
       "      <td>-1.183822</td>\n",
       "      <td>1.109253</td>\n",
       "      <td>2.912950</td>\n",
       "      <td>0.597985</td>\n",
       "      <td>0</td>\n",
       "    </tr>\n",
       "    <tr>\n",
       "      <th>69</th>\n",
       "      <td>0.680448</td>\n",
       "      <td>-3.035266</td>\n",
       "      <td>-3.671024</td>\n",
       "      <td>0.902693</td>\n",
       "      <td>1.365104</td>\n",
       "      <td>1</td>\n",
       "    </tr>\n",
       "    <tr>\n",
       "      <th>80</th>\n",
       "      <td>1.299974</td>\n",
       "      <td>-1.765765</td>\n",
       "      <td>-1.908592</td>\n",
       "      <td>-0.235650</td>\n",
       "      <td>-0.271314</td>\n",
       "      <td>1</td>\n",
       "    </tr>\n",
       "    <tr>\n",
       "      <th>86</th>\n",
       "      <td>-2.827420</td>\n",
       "      <td>0.399889</td>\n",
       "      <td>-0.077461</td>\n",
       "      <td>1.057577</td>\n",
       "      <td>0.518446</td>\n",
       "      <td>0</td>\n",
       "    </tr>\n",
       "    <tr>\n",
       "      <th>89</th>\n",
       "      <td>-1.301057</td>\n",
       "      <td>1.309294</td>\n",
       "      <td>-0.263490</td>\n",
       "      <td>0.344597</td>\n",
       "      <td>0.525310</td>\n",
       "      <td>0</td>\n",
       "    </tr>\n",
       "    <tr>\n",
       "      <th>7</th>\n",
       "      <td>0.862395</td>\n",
       "      <td>-1.753570</td>\n",
       "      <td>-3.358851</td>\n",
       "      <td>0.962747</td>\n",
       "      <td>2.927093</td>\n",
       "      <td>1</td>\n",
       "    </tr>\n",
       "    <tr>\n",
       "      <th>23</th>\n",
       "      <td>1.291356</td>\n",
       "      <td>-1.147709</td>\n",
       "      <td>-1.299219</td>\n",
       "      <td>-1.783190</td>\n",
       "      <td>1.748144</td>\n",
       "      <td>1</td>\n",
       "    </tr>\n",
       "    <tr>\n",
       "      <th>92</th>\n",
       "      <td>0.689522</td>\n",
       "      <td>-1.798347</td>\n",
       "      <td>-3.203995</td>\n",
       "      <td>0.710507</td>\n",
       "      <td>3.081517</td>\n",
       "      <td>1</td>\n",
       "    </tr>\n",
       "    <tr>\n",
       "      <th>27</th>\n",
       "      <td>0.614176</td>\n",
       "      <td>1.237905</td>\n",
       "      <td>2.342505</td>\n",
       "      <td>-3.038086</td>\n",
       "      <td>0.686923</td>\n",
       "      <td>1</td>\n",
       "    </tr>\n",
       "    <tr>\n",
       "      <th>90</th>\n",
       "      <td>1.464373</td>\n",
       "      <td>-0.683212</td>\n",
       "      <td>0.156854</td>\n",
       "      <td>-2.077000</td>\n",
       "      <td>-0.777876</td>\n",
       "      <td>1</td>\n",
       "    </tr>\n",
       "  </tbody>\n",
       "</table>\n",
       "</div>"
      ],
      "text/plain": [
       "        col1      col2      col3      col4      col5  target\n",
       "92  0.689522 -1.798347 -3.203995  0.710507  3.081517       1\n",
       "68 -3.140304 -1.183822  1.109253  2.912950  0.597985       0\n",
       "7   0.862395 -1.753570 -3.358851  0.962747  2.927093       1\n",
       "42 -3.144065  1.835609 -0.249163 -0.185247 -1.069047       0\n",
       "68 -3.140304 -1.183822  1.109253  2.912950  0.597985       0\n",
       "69  0.680448 -3.035266 -3.671024  0.902693  1.365104       1\n",
       "80  1.299974 -1.765765 -1.908592 -0.235650 -0.271314       1\n",
       "86 -2.827420  0.399889 -0.077461  1.057577  0.518446       0\n",
       "89 -1.301057  1.309294 -0.263490  0.344597  0.525310       0\n",
       "7   0.862395 -1.753570 -3.358851  0.962747  2.927093       1\n",
       "23  1.291356 -1.147709 -1.299219 -1.783190  1.748144       1\n",
       "92  0.689522 -1.798347 -3.203995  0.710507  3.081517       1\n",
       "27  0.614176  1.237905  2.342505 -3.038086  0.686923       1\n",
       "90  1.464373 -0.683212  0.156854 -2.077000 -0.777876       1"
      ]
     },
     "execution_count": 22,
     "metadata": {},
     "output_type": "execute_result"
    }
   ],
   "source": [
    "df.sample(14, replace=True)"
   ]
  },
  {
   "cell_type": "code",
   "execution_count": null,
   "metadata": {
    "id": "LCVUEl5okDtB"
   },
   "outputs": [],
   "source": []
  }
 ],
 "metadata": {
  "colab": {
   "name": "rf-learning-tool.ipynb",
   "provenance": []
  },
  "kernelspec": {
   "display_name": "Python 3 (ipykernel)",
   "language": "python",
   "name": "python3"
  },
  "language_info": {
   "codemirror_mode": {
    "name": "ipython",
    "version": 3
   },
   "file_extension": ".py",
   "mimetype": "text/x-python",
   "name": "python",
   "nbconvert_exporter": "python",
   "pygments_lexer": "ipython3",
   "version": "3.11.8"
  }
 },
 "nbformat": 4,
 "nbformat_minor": 4
}
