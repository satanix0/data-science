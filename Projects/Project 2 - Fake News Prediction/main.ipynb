{
 "cells": [
  {
   "cell_type": "markdown",
   "metadata": {},
   "source": [
    "# Fake News Detection Project\n",
    "## Using Logistic Regression\n",
    "\n",
    "\n"
   ]
  },
  {
   "cell_type": "code",
   "execution_count": 30,
   "metadata": {},
   "outputs": [],
   "source": [
    "import pandas as pd\n",
    "import numpy as np\n",
    "import matplotlib.pyplot as plt\n",
    "import seaborn as sns\n",
    "\n",
    "\n",
    "import re\n",
    "from nltk.corpus import stopwords\n",
    "from sklearn. feature_extraction.text import TfidfVectorizer\n",
    "from sklearn.model_selection import train_test_split\n",
    "from sklearn.linear_model import LogisticRegression\n",
    "from sklearn.metrics import accuracy_score"
   ]
  },
  {
   "cell_type": "code",
   "execution_count": 31,
   "metadata": {},
   "outputs": [
    {
     "data": {
      "text/html": [
       "<div>\n",
       "<style scoped>\n",
       "    .dataframe tbody tr th:only-of-type {\n",
       "        vertical-align: middle;\n",
       "    }\n",
       "\n",
       "    .dataframe tbody tr th {\n",
       "        vertical-align: top;\n",
       "    }\n",
       "\n",
       "    .dataframe thead th {\n",
       "        text-align: right;\n",
       "    }\n",
       "</style>\n",
       "<table border=\"1\" class=\"dataframe\">\n",
       "  <thead>\n",
       "    <tr style=\"text-align: right;\">\n",
       "      <th></th>\n",
       "      <th>title</th>\n",
       "      <th>author</th>\n",
       "      <th>text</th>\n",
       "      <th>label</th>\n",
       "    </tr>\n",
       "  </thead>\n",
       "  <tbody>\n",
       "    <tr>\n",
       "      <th>8909</th>\n",
       "      <td>Camera Catches Hillary’s Sick Hidden Message T...</td>\n",
       "      <td>Prissy Holly</td>\n",
       "      <td>Camera Catches Hillary’s Sick Hidden Message T...</td>\n",
       "      <td>1</td>\n",
       "    </tr>\n",
       "    <tr>\n",
       "      <th>1962</th>\n",
       "      <td>Hillary Clinton Would Use SCOTUS Vacancies to ...</td>\n",
       "      <td>Joe Wolverton, II, J.D.</td>\n",
       "      <td>Email \\nJust days before the presidential elec...</td>\n",
       "      <td>1</td>\n",
       "    </tr>\n",
       "    <tr>\n",
       "      <th>3848</th>\n",
       "      <td>‘Arab Spring’ and the Washington-Brussels-Riya...</td>\n",
       "      <td>The Saker</td>\n",
       "      <td>Be the First to Comment!   Search articles</td>\n",
       "      <td>1</td>\n",
       "    </tr>\n",
       "    <tr>\n",
       "      <th>11486</th>\n",
       "      <td>Pour booster les ventes, Dassault offre un por...</td>\n",
       "      <td>NaN</td>\n",
       "      <td>NaN</td>\n",
       "      <td>1</td>\n",
       "    </tr>\n",
       "    <tr>\n",
       "      <th>2397</th>\n",
       "      <td>Donald Trump Meets with Victims of Obamacare a...</td>\n",
       "      <td>Charlie Spiering</td>\n",
       "      <td>President Donald Trump hosted a listening sess...</td>\n",
       "      <td>0</td>\n",
       "    </tr>\n",
       "  </tbody>\n",
       "</table>\n",
       "</div>"
      ],
      "text/plain": [
       "                                                   title  \\\n",
       "8909   Camera Catches Hillary’s Sick Hidden Message T...   \n",
       "1962   Hillary Clinton Would Use SCOTUS Vacancies to ...   \n",
       "3848   ‘Arab Spring’ and the Washington-Brussels-Riya...   \n",
       "11486  Pour booster les ventes, Dassault offre un por...   \n",
       "2397   Donald Trump Meets with Victims of Obamacare a...   \n",
       "\n",
       "                        author  \\\n",
       "8909              Prissy Holly   \n",
       "1962   Joe Wolverton, II, J.D.   \n",
       "3848                 The Saker   \n",
       "11486                      NaN   \n",
       "2397          Charlie Spiering   \n",
       "\n",
       "                                                    text  label  \n",
       "8909   Camera Catches Hillary’s Sick Hidden Message T...      1  \n",
       "1962   Email \\nJust days before the presidential elec...      1  \n",
       "3848          Be the First to Comment!   Search articles      1  \n",
       "11486                                                NaN      1  \n",
       "2397   President Donald Trump hosted a listening sess...      0  "
      ]
     },
     "execution_count": 31,
     "metadata": {},
     "output_type": "execute_result"
    }
   ],
   "source": [
    "train = pd.read_csv('data/train.csv').drop(columns='id')\n",
    "train.sample(5)"
   ]
  },
  {
   "cell_type": "code",
   "execution_count": 32,
   "metadata": {},
   "outputs": [
    {
     "name": "stdout",
     "output_type": "stream",
     "text": [
      "<class 'pandas.core.frame.DataFrame'>\n",
      "RangeIndex: 20800 entries, 0 to 20799\n",
      "Data columns (total 4 columns):\n",
      " #   Column  Non-Null Count  Dtype \n",
      "---  ------  --------------  ----- \n",
      " 0   title   20242 non-null  object\n",
      " 1   author  18843 non-null  object\n",
      " 2   text    20761 non-null  object\n",
      " 3   label   20800 non-null  int64 \n",
      "dtypes: int64(1), object(3)\n",
      "memory usage: 650.1+ KB\n"
     ]
    }
   ],
   "source": [
    "train.info()"
   ]
  },
  {
   "cell_type": "markdown",
   "metadata": {},
   "source": [
    "### Data Preprocessing"
   ]
  },
  {
   "cell_type": "code",
   "execution_count": 33,
   "metadata": {},
   "outputs": [
    {
     "data": {
      "text/plain": [
       "title      558\n",
       "author    1957\n",
       "text        39\n",
       "label        0\n",
       "dtype: int64"
      ]
     },
     "execution_count": 33,
     "metadata": {},
     "output_type": "execute_result"
    }
   ],
   "source": [
    "# Remove missing values\n",
    "train.isna().sum()"
   ]
  },
  {
   "cell_type": "code",
   "execution_count": 34,
   "metadata": {},
   "outputs": [
    {
     "data": {
      "text/plain": [
       "title     0\n",
       "author    0\n",
       "text      0\n",
       "label     0\n",
       "dtype: int64"
      ]
     },
     "execution_count": 34,
     "metadata": {},
     "output_type": "execute_result"
    }
   ],
   "source": [
    "train = train.fillna('')\n",
    "train.isna().sum()"
   ]
  },
  {
   "cell_type": "markdown",
   "metadata": {},
   "source": [
    "### Stemming\n",
    "\n",
    "Stemming is the process of reducing a complex word to its Root i.e. most simplest word <br>\n",
    "example: actor, actress, acting --> act"
   ]
  },
  {
   "cell_type": "code",
   "execution_count": 35,
   "metadata": {},
   "outputs": [],
   "source": [
    "from nltk.corpus import stopwords\n",
    "from nltk.stem import PorterStemmer\n",
    "import re\n",
    "\n",
    "def stemming(content):\n",
    "    \"\"\"\n",
    "    Perform stemming on the given content.\n",
    "    Args:\n",
    "        content (str): The input text to be stemmed.\n",
    "    Returns:\n",
    "        str: The stemmed version of the input text.\n",
    "    \"\"\"\n",
    "    # Initialize the stemmer and preprocess the content\n",
    "    stemmer = PorterStemmer()\n",
    "    # Remove non-alphabetic characters (numerics and special characters) and convert to lowercase\n",
    "    clean_content = re.sub(r'[^a-zA-Z]', ' ', content).lower()\n",
    "\n",
    "    # Split into words and filter out stopwords\n",
    "    filtered_words = [\n",
    "        stemmer.stem(word)\n",
    "        for word in clean_content.split()\n",
    "        if word not in stopwords.words('english')\n",
    "    ]\n",
    "\n",
    "    # Join the stemmed words back into a single string sepreated by empty spaces\n",
    "    return ' '.join(filtered_words)"
   ]
  },
  {
   "cell_type": "code",
   "execution_count": 36,
   "metadata": {},
   "outputs": [
    {
     "data": {
      "text/plain": [
       "'hello dark old friend'"
      ]
     },
     "execution_count": 36,
     "metadata": {},
     "output_type": "execute_result"
    }
   ],
   "source": [
    "# Test the function on the example string\n",
    "ger = \"Hello Darkness! my old friend 123\"\n",
    "stemming(ger)"
   ]
  },
  {
   "cell_type": "code",
   "execution_count": 37,
   "metadata": {},
   "outputs": [
    {
     "data": {
      "text/plain": [
       "array(['House Dem Aide: We Didn’t Even See Comey’s Letter Until Jason Chaffetz Tweeted It - by Darrell Lucus',\n",
       "       'FLYNN: Hillary Clinton, Big Woman on Campus - Breitbart - by Daniel J. Flynn',\n",
       "       'Why the Truth Might Get You Fired - by Consortiumnews.com',\n",
       "       '15 Civilians Killed In Single US Airstrike Have Been Identified - by Jessica Purkiss',\n",
       "       'Iranian woman jailed for fictional unpublished story about woman stoned to death for adultery - by Howard Portnoy'],\n",
       "      dtype=object)"
      ]
     },
     "execution_count": 37,
     "metadata": {},
     "output_type": "execute_result"
    }
   ],
   "source": [
    "train['content'] = train['title'] +' - by ' + train['author']\n",
    "train.iloc[0:5,-1].values"
   ]
  },
  {
   "cell_type": "code",
   "execution_count": 38,
   "metadata": {},
   "outputs": [
    {
     "data": {
      "text/plain": [
       "array(['hous dem aid even see comey letter jason chaffetz tweet darrel lucu',\n",
       "       'flynn hillari clinton big woman campu breitbart daniel j flynn',\n",
       "       'truth might get fire consortiumnew com',\n",
       "       'civilian kill singl us airstrik identifi jessica purkiss',\n",
       "       'iranian woman jail fiction unpublish stori woman stone death adulteri howard portnoy'],\n",
       "      dtype=object)"
      ]
     },
     "execution_count": 38,
     "metadata": {},
     "output_type": "execute_result"
    }
   ],
   "source": [
    "train['content']  = train['content'].apply(func=stemming)\n",
    "train.iloc[0:5, -1].values"
   ]
  },
  {
   "cell_type": "code",
   "execution_count": 39,
   "metadata": {},
   "outputs": [],
   "source": [
    "# Seperate input and target\n",
    "X = train['content'].values\n",
    "y = train['label'].values"
   ]
  },
  {
   "cell_type": "markdown",
   "metadata": {},
   "source": [
    "## Vectorization\n",
    "\n",
    "- As the values are still in text format, we need to convert them in the numeric frm in order to work with ML models\n",
    "- Converting Textual Data to Numeric is called ***Vectorization***\n",
    "- We will use `TfidfVectorizer()`, which  converts a raw count matrix (produced by CountVectorizer) into a TF-IDF (Term Frequency-Inverse Document Frequency) matrix. It applies weighting to each term based on its frequency within the document and across the entire corpus.\n",
    "\n"
   ]
  },
  {
   "cell_type": "code",
   "execution_count": 40,
   "metadata": {},
   "outputs": [],
   "source": [
    "from sklearn.feature_extraction.text import TfidfVectorizer\n",
    "tfidf = TfidfVectorizer()\n",
    "X = tfidf.fit_transform(X)"
   ]
  },
  {
   "cell_type": "code",
   "execution_count": 41,
   "metadata": {},
   "outputs": [
    {
     "data": {
      "text/plain": [
       "17128"
      ]
     },
     "execution_count": 41,
     "metadata": {},
     "output_type": "execute_result"
    }
   ],
   "source": [
    "# 16984 unique words which are not stop words\n",
    "len(tfidf.vocabulary_)"
   ]
  },
  {
   "cell_type": "markdown",
   "metadata": {},
   "source": [
    "### Splitting into Train and validation sets\n"
   ]
  },
  {
   "cell_type": "code",
   "execution_count": 42,
   "metadata": {},
   "outputs": [
    {
     "name": "stdout",
     "output_type": "stream",
     "text": [
      "(14560, 17128)\n",
      "(6240, 17128)\n",
      "(14560,)\n",
      "(6240,)\n"
     ]
    }
   ],
   "source": [
    "# stratify=y make sure that training and validation sets have equal proportion of the different target labels.\n",
    "X_train, X_val, y_train, y_val = train_test_split(\n",
    "    X, y, test_size=0.3, stratify=y, random_state=42)\n",
    "\n",
    "print(X_train.shape)\n",
    "print(X_val.shape)\n",
    "print(y_train.shape)\n",
    "print(y_val.shape)\n"
   ]
  },
  {
   "cell_type": "markdown",
   "metadata": {},
   "source": [
    "### Training ML Model"
   ]
  },
  {
   "cell_type": "code",
   "execution_count": 43,
   "metadata": {},
   "outputs": [],
   "source": [
    "from sklearn.linear_model import LogisticRegression\n",
    "logreg = LogisticRegression(max_iter=200)\n",
    "\n",
    "logreg.fit(X_train, y_train)\n",
    "y_pred_val = logreg.predict(X_val)"
   ]
  },
  {
   "cell_type": "markdown",
   "metadata": {},
   "source": [
    "### Model Evaluation on validation set"
   ]
  },
  {
   "cell_type": "code",
   "execution_count": 44,
   "metadata": {},
   "outputs": [
    {
     "name": "stdout",
     "output_type": "stream",
     "text": [
      "0.9737627651217596\n",
      "              precision    recall  f1-score   support\n",
      "\n",
      "           0       0.99      0.95      0.97      3116\n",
      "           1       0.96      0.99      0.97      3124\n",
      "\n",
      "    accuracy                           0.97      6240\n",
      "   macro avg       0.97      0.97      0.97      6240\n",
      "weighted avg       0.97      0.97      0.97      6240\n",
      "\n"
     ]
    }
   ],
   "source": [
    "from sklearn.metrics import classification_report, f1_score\n",
    "\n",
    "print(f1_score(y_val, y_pred_val))\n",
    "print(classification_report(y_val, y_pred_val))"
   ]
  },
  {
   "cell_type": "markdown",
   "metadata": {},
   "source": [
    "### Hyperparameter Tuning\n",
    "No Need to optimize hyperparameters as the model is already performing really well, The model is highly accurate (97%) and performs well on both classes, as indicated by the high precision, recall, and F1-scores."
   ]
  },
  {
   "cell_type": "markdown",
   "metadata": {},
   "source": [
    "### Final Test on test set"
   ]
  },
  {
   "cell_type": "code",
   "execution_count": 46,
   "metadata": {},
   "outputs": [
    {
     "data": {
      "text/html": [
       "<div>\n",
       "<style scoped>\n",
       "    .dataframe tbody tr th:only-of-type {\n",
       "        vertical-align: middle;\n",
       "    }\n",
       "\n",
       "    .dataframe tbody tr th {\n",
       "        vertical-align: top;\n",
       "    }\n",
       "\n",
       "    .dataframe thead th {\n",
       "        text-align: right;\n",
       "    }\n",
       "</style>\n",
       "<table border=\"1\" class=\"dataframe\">\n",
       "  <thead>\n",
       "    <tr style=\"text-align: right;\">\n",
       "      <th></th>\n",
       "      <th>id</th>\n",
       "      <th>title</th>\n",
       "      <th>author</th>\n",
       "      <th>text</th>\n",
       "    </tr>\n",
       "  </thead>\n",
       "  <tbody>\n",
       "    <tr>\n",
       "      <th>1656</th>\n",
       "      <td>22456</td>\n",
       "      <td>Huma may have violated ‘legal obligation’ rega...</td>\n",
       "      <td>Howard Portnoy</td>\n",
       "      <td>Print \\nRepublican National Committee spokesma...</td>\n",
       "    </tr>\n",
       "    <tr>\n",
       "      <th>1384</th>\n",
       "      <td>22184</td>\n",
       "      <td>US hacking ‘hysteria’ aimed at distracting vot...</td>\n",
       "      <td>admin</td>\n",
       "      <td>US hacking ‘hysteria’ aimed at distracting vot...</td>\n",
       "    </tr>\n",
       "    <tr>\n",
       "      <th>3442</th>\n",
       "      <td>24242</td>\n",
       "      <td>Man gets only one missed call from Mom</td>\n",
       "      <td>NaN</td>\n",
       "      <td>Topics: Parents , Phone calls , mom   \\nLocal ...</td>\n",
       "    </tr>\n",
       "    <tr>\n",
       "      <th>797</th>\n",
       "      <td>21597</td>\n",
       "      <td>Must See Documentary on the July 2016 Turkish ...</td>\n",
       "      <td>Jafe Arnoldski (noreply@blogger.com)</td>\n",
       "      <td>October 28, 2016 - \\nKatehon - \\n\\n\\n\\nIn this...</td>\n",
       "    </tr>\n",
       "    <tr>\n",
       "      <th>493</th>\n",
       "      <td>21293</td>\n",
       "      <td>North Dakota’s Public Bank Is Funding Police R...</td>\n",
       "      <td>NaN</td>\n",
       "      <td>North Dakota’s Public Bank Is Funding Police R...</td>\n",
       "    </tr>\n",
       "  </tbody>\n",
       "</table>\n",
       "</div>"
      ],
      "text/plain": [
       "         id                                              title  \\\n",
       "1656  22456  Huma may have violated ‘legal obligation’ rega...   \n",
       "1384  22184  US hacking ‘hysteria’ aimed at distracting vot...   \n",
       "3442  24242             Man gets only one missed call from Mom   \n",
       "797   21597  Must See Documentary on the July 2016 Turkish ...   \n",
       "493   21293  North Dakota’s Public Bank Is Funding Police R...   \n",
       "\n",
       "                                    author  \\\n",
       "1656                        Howard Portnoy   \n",
       "1384                                 admin   \n",
       "3442                                   NaN   \n",
       "797   Jafe Arnoldski (noreply@blogger.com)   \n",
       "493                                    NaN   \n",
       "\n",
       "                                                   text  \n",
       "1656  Print \\nRepublican National Committee spokesma...  \n",
       "1384  US hacking ‘hysteria’ aimed at distracting vot...  \n",
       "3442  Topics: Parents , Phone calls , mom   \\nLocal ...  \n",
       "797   October 28, 2016 - \\nKatehon - \\n\\n\\n\\nIn this...  \n",
       "493   North Dakota’s Public Bank Is Funding Police R...  "
      ]
     },
     "execution_count": 46,
     "metadata": {},
     "output_type": "execute_result"
    }
   ],
   "source": [
    "test = pd.read_csv('data/test.csv')\n",
    "test.sample(5)"
   ]
  },
  {
   "cell_type": "code",
   "execution_count": 47,
   "metadata": {},
   "outputs": [
    {
     "data": {
      "text/plain": [
       "title      0\n",
       "author     0\n",
       "text       0\n",
       "label      0\n",
       "content    0\n",
       "dtype: int64"
      ]
     },
     "execution_count": 47,
     "metadata": {},
     "output_type": "execute_result"
    }
   ],
   "source": [
    "train.isna().sum()"
   ]
  }
 ],
 "metadata": {
  "kernelspec": {
   "display_name": "datascience",
   "language": "python",
   "name": "python3"
  },
  "language_info": {
   "codemirror_mode": {
    "name": "ipython",
    "version": 3
   },
   "file_extension": ".py",
   "mimetype": "text/x-python",
   "name": "python",
   "nbconvert_exporter": "python",
   "pygments_lexer": "ipython3",
   "version": "3.11.9"
  }
 },
 "nbformat": 4,
 "nbformat_minor": 2
}
