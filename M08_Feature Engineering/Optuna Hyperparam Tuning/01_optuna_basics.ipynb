{
 "cells": [
  {
   "cell_type": "code",
   "execution_count": 1,
   "id": "97a36140",
   "metadata": {},
   "outputs": [
    {
     "data": {
      "text/html": [
       "<div>\n",
       "<style scoped>\n",
       "    .dataframe tbody tr th:only-of-type {\n",
       "        vertical-align: middle;\n",
       "    }\n",
       "\n",
       "    .dataframe tbody tr th {\n",
       "        vertical-align: top;\n",
       "    }\n",
       "\n",
       "    .dataframe thead th {\n",
       "        text-align: right;\n",
       "    }\n",
       "</style>\n",
       "<table border=\"1\" class=\"dataframe\">\n",
       "  <thead>\n",
       "    <tr style=\"text-align: right;\">\n",
       "      <th></th>\n",
       "      <th>Pregnancies</th>\n",
       "      <th>Glucose</th>\n",
       "      <th>BloodPressure</th>\n",
       "      <th>SkinThickness</th>\n",
       "      <th>Insulin</th>\n",
       "      <th>BMI</th>\n",
       "      <th>DiabetesPedigreeFunction</th>\n",
       "      <th>Age</th>\n",
       "      <th>Outcome</th>\n",
       "    </tr>\n",
       "  </thead>\n",
       "  <tbody>\n",
       "    <tr>\n",
       "      <th>577</th>\n",
       "      <td>2</td>\n",
       "      <td>118</td>\n",
       "      <td>80</td>\n",
       "      <td>0</td>\n",
       "      <td>0</td>\n",
       "      <td>42.9</td>\n",
       "      <td>0.693</td>\n",
       "      <td>21</td>\n",
       "      <td>1</td>\n",
       "    </tr>\n",
       "    <tr>\n",
       "      <th>757</th>\n",
       "      <td>0</td>\n",
       "      <td>123</td>\n",
       "      <td>72</td>\n",
       "      <td>0</td>\n",
       "      <td>0</td>\n",
       "      <td>36.3</td>\n",
       "      <td>0.258</td>\n",
       "      <td>52</td>\n",
       "      <td>1</td>\n",
       "    </tr>\n",
       "    <tr>\n",
       "      <th>242</th>\n",
       "      <td>3</td>\n",
       "      <td>139</td>\n",
       "      <td>54</td>\n",
       "      <td>0</td>\n",
       "      <td>0</td>\n",
       "      <td>25.6</td>\n",
       "      <td>0.402</td>\n",
       "      <td>22</td>\n",
       "      <td>1</td>\n",
       "    </tr>\n",
       "    <tr>\n",
       "      <th>267</th>\n",
       "      <td>2</td>\n",
       "      <td>128</td>\n",
       "      <td>64</td>\n",
       "      <td>42</td>\n",
       "      <td>0</td>\n",
       "      <td>40.0</td>\n",
       "      <td>1.101</td>\n",
       "      <td>24</td>\n",
       "      <td>0</td>\n",
       "    </tr>\n",
       "    <tr>\n",
       "      <th>224</th>\n",
       "      <td>1</td>\n",
       "      <td>100</td>\n",
       "      <td>66</td>\n",
       "      <td>15</td>\n",
       "      <td>56</td>\n",
       "      <td>23.6</td>\n",
       "      <td>0.666</td>\n",
       "      <td>26</td>\n",
       "      <td>0</td>\n",
       "    </tr>\n",
       "  </tbody>\n",
       "</table>\n",
       "</div>"
      ],
      "text/plain": [
       "     Pregnancies  Glucose  BloodPressure  SkinThickness  Insulin   BMI  \\\n",
       "577            2      118             80              0        0  42.9   \n",
       "757            0      123             72              0        0  36.3   \n",
       "242            3      139             54              0        0  25.6   \n",
       "267            2      128             64             42        0  40.0   \n",
       "224            1      100             66             15       56  23.6   \n",
       "\n",
       "     DiabetesPedigreeFunction  Age  Outcome  \n",
       "577                     0.693   21        1  \n",
       "757                     0.258   52        1  \n",
       "242                     0.402   22        1  \n",
       "267                     1.101   24        0  \n",
       "224                     0.666   26        0  "
      ]
     },
     "execution_count": 1,
     "metadata": {},
     "output_type": "execute_result"
    }
   ],
   "source": [
    "# Import necessary libraries\n",
    "import optuna\n",
    "from sklearn.datasets import load_diabetes\n",
    "from sklearn.model_selection import train_test_split\n",
    "from sklearn.preprocessing import StandardScaler\n",
    "\n",
    "# Load the Pima Indian Diabetes dataset from sklearn\n",
    "# Note: Scikit-learn's built-in 'load_diabetes' is a regression dataset.\n",
    "# We will load the actual diabetes dataset from an external source\n",
    "import pandas as pd\n",
    "\n",
    "# Load the Pima Indian Diabetes dataset (from UCI repository)\n",
    "url = \"https://raw.githubusercontent.com/jbrownlee/Datasets/master/pima-indians-diabetes.data.csv\"\n",
    "columns = ['Pregnancies', 'Glucose', 'BloodPressure', 'SkinThickness', 'Insulin', 'BMI',\n",
    "           'DiabetesPedigreeFunction', 'Age', 'Outcome']\n",
    "\n",
    "# Load the dataset\n",
    "df = pd.read_csv(url, names=columns)\n",
    "\n",
    "df.sample(5)"
   ]
  },
  {
   "cell_type": "code",
   "execution_count": 2,
   "id": "8fcf4a66",
   "metadata": {},
   "outputs": [
    {
     "data": {
      "text/plain": [
       "Pregnancies                 0\n",
       "Glucose                     0\n",
       "BloodPressure               0\n",
       "SkinThickness               0\n",
       "Insulin                     0\n",
       "BMI                         0\n",
       "DiabetesPedigreeFunction    0\n",
       "Age                         0\n",
       "Outcome                     0\n",
       "dtype: int64"
      ]
     },
     "execution_count": 2,
     "metadata": {},
     "output_type": "execute_result"
    }
   ],
   "source": [
    "df.isna().sum()"
   ]
  },
  {
   "cell_type": "code",
   "execution_count": 3,
   "id": "120bfd61",
   "metadata": {},
   "outputs": [
    {
     "name": "stdout",
     "output_type": "stream",
     "text": [
      "Pregnancies                 0\n",
      "Glucose                     0\n",
      "BloodPressure               0\n",
      "SkinThickness               0\n",
      "Insulin                     0\n",
      "BMI                         0\n",
      "DiabetesPedigreeFunction    0\n",
      "Age                         0\n",
      "Outcome                     0\n",
      "dtype: int64\n"
     ]
    }
   ],
   "source": [
    "import numpy as np\n",
    "\n",
    "# Replace zero values with NaN, in columns where zero is not a valid value\n",
    "cols_with_zero_vals = ['Glucose', 'BloodPressure',\n",
    "                       'SkinThickness', 'Insulin', 'BMI']\n",
    "df[cols_with_zero_vals] = df[cols_with_zero_vals].replace(0, np.nan)\n",
    "\n",
    "# Impute the missing values with the mean of the respective column\n",
    "df.fillna(df.mean(), inplace=True)\n",
    "\n",
    "# Check if there are any remaining missing values\n",
    "print(df.isnull().sum())"
   ]
  },
  {
   "cell_type": "code",
   "execution_count": 4,
   "id": "6f919bbc",
   "metadata": {},
   "outputs": [
    {
     "data": {
      "text/plain": [
       "((537, 8), (231, 8), (537,), (231,))"
      ]
     },
     "execution_count": 4,
     "metadata": {},
     "output_type": "execute_result"
    }
   ],
   "source": [
    "# Split the dataset into features and target variable\n",
    "X = df.drop('Outcome', axis=1)\n",
    "y = df['Outcome']\n",
    "# Split the dataset into training and testing sets\n",
    "X_train, X_test, y_train, y_test = train_test_split(\n",
    "    X, y, test_size=0.3, random_state=42)\n",
    "\n",
    "# scale the features\n",
    "scaler = StandardScaler()\n",
    "X_train = scaler.fit_transform(X_train)\n",
    "X_test = scaler.transform(X_test)\n",
    "\n",
    "X_train.shape, X_test.shape, y_train.shape, y_test.shape"
   ]
  },
  {
   "cell_type": "markdown",
   "id": "a96ef891",
   "metadata": {},
   "source": [
    "## Tuning hyperparams using Optuna"
   ]
  },
  {
   "cell_type": "markdown",
   "id": "7e846d1a",
   "metadata": {},
   "source": [
    "### Step 1: Define Objective Function\n",
    "The objective function tells Optuna:\n",
    "- What hyperparameters to tune\n",
    "- How to evaluate performance\n"
   ]
  },
  {
   "cell_type": "code",
   "execution_count": 5,
   "id": "e748bf74",
   "metadata": {},
   "outputs": [],
   "source": [
    "from sklearn.ensemble import RandomForestClassifier\n",
    "from sklearn.model_selection import cross_val_score\n",
    "\n",
    "\n",
    "def objective(trial):\n",
    "    # Suggest values for the hyperparameters to tune\n",
    "    n_estimators = trial.suggest_int('n_estimators', 50, 200)\n",
    "    max_depth = trial.suggest_int('max_depth', 3, 20)\n",
    "\n",
    "    # Create a RandomForestClassifier with the suggested hyperparameters\n",
    "    model = RandomForestClassifier(\n",
    "        n_estimators=n_estimators,\n",
    "        max_depth=max_depth,\n",
    "        random_state=42\n",
    "    )\n",
    "\n",
    "    score = cross_val_score(model, X_train, y_train, cv=5, scoring='accuracy')\n",
    "    return score.mean()"
   ]
  },
  {
   "cell_type": "markdown",
   "id": "113d1213",
   "metadata": {},
   "source": [
    "### Step 2: Create and Optimize the Study"
   ]
  },
  {
   "cell_type": "code",
   "execution_count": 6,
   "id": "ef22cd09",
   "metadata": {},
   "outputs": [
    {
     "name": "stderr",
     "output_type": "stream",
     "text": [
      "[I 2025-06-05 16:27:10,883] A new study created in memory with name: no-name-dcd6001c-8491-47ed-ae41-3d2b9be2631e\n",
      "[I 2025-06-05 16:27:14,000] Trial 0 finished with value: 0.7559190031152648 and parameters: {'n_estimators': 117, 'max_depth': 12}. Best is trial 0 with value: 0.7559190031152648.\n",
      "[I 2025-06-05 16:27:18,593] Trial 1 finished with value: 0.7634302526825891 and parameters: {'n_estimators': 162, 'max_depth': 7}. Best is trial 1 with value: 0.7634302526825891.\n",
      "[I 2025-06-05 16:27:21,517] Trial 2 finished with value: 0.7633956386292835 and parameters: {'n_estimators': 94, 'max_depth': 14}. Best is trial 1 with value: 0.7634302526825891.\n",
      "[I 2025-06-05 16:27:25,286] Trial 3 finished with value: 0.7671512634129456 and parameters: {'n_estimators': 146, 'max_depth': 16}. Best is trial 3 with value: 0.7671512634129456.\n",
      "[I 2025-06-05 16:27:27,395] Trial 4 finished with value: 0.7615437867774315 and parameters: {'n_estimators': 92, 'max_depth': 7}. Best is trial 3 with value: 0.7671512634129456.\n",
      "[I 2025-06-05 16:27:30,546] Trial 5 finished with value: 0.7615264797507788 and parameters: {'n_estimators': 117, 'max_depth': 6}. Best is trial 3 with value: 0.7671512634129456.\n",
      "[I 2025-06-05 16:27:35,997] Trial 6 finished with value: 0.763430252682589 and parameters: {'n_estimators': 189, 'max_depth': 8}. Best is trial 3 with value: 0.7671512634129456.\n",
      "[I 2025-06-05 16:27:40,371] Trial 7 finished with value: 0.7540152301834544 and parameters: {'n_estimators': 165, 'max_depth': 12}. Best is trial 3 with value: 0.7671512634129456.\n",
      "[I 2025-06-05 16:27:44,184] Trial 8 finished with value: 0.7633956386292835 and parameters: {'n_estimators': 154, 'max_depth': 17}. Best is trial 3 with value: 0.7671512634129456.\n",
      "[I 2025-06-05 16:27:48,083] Trial 9 finished with value: 0.7577708549671166 and parameters: {'n_estimators': 139, 'max_depth': 12}. Best is trial 3 with value: 0.7671512634129456.\n",
      "[I 2025-06-05 16:27:50,037] Trial 10 finished with value: 0.7615437867774316 and parameters: {'n_estimators': 57, 'max_depth': 20}. Best is trial 3 with value: 0.7671512634129456.\n",
      "[I 2025-06-05 16:27:54,733] Trial 11 finished with value: 0.7522672204915196 and parameters: {'n_estimators': 196, 'max_depth': 3}. Best is trial 3 with value: 0.7671512634129456.\n",
      "[I 2025-06-05 16:27:58,990] Trial 12 finished with value: 0.7690031152647976 and parameters: {'n_estimators': 168, 'max_depth': 16}. Best is trial 12 with value: 0.7690031152647976.\n",
      "[I 2025-06-05 16:28:03,253] Trial 13 finished with value: 0.7690031152647976 and parameters: {'n_estimators': 180, 'max_depth': 16}. Best is trial 12 with value: 0.7690031152647976.\n",
      "[I 2025-06-05 16:28:08,513] Trial 14 finished with value: 0.7653167185877466 and parameters: {'n_estimators': 181, 'max_depth': 19}. Best is trial 12 with value: 0.7690031152647976.\n",
      "[I 2025-06-05 16:28:11,706] Trial 15 finished with value: 0.7671685704395984 and parameters: {'n_estimators': 176, 'max_depth': 17}. Best is trial 12 with value: 0.7690031152647976.\n",
      "[I 2025-06-05 16:28:13,537] Trial 16 finished with value: 0.7596746278989268 and parameters: {'n_estimators': 135, 'max_depth': 15}. Best is trial 12 with value: 0.7690031152647976.\n",
      "[I 2025-06-05 16:28:15,793] Trial 17 finished with value: 0.7633956386292835 and parameters: {'n_estimators': 172, 'max_depth': 10}. Best is trial 12 with value: 0.7690031152647976.\n",
      "[I 2025-06-05 16:28:18,287] Trial 18 finished with value: 0.7671685704395984 and parameters: {'n_estimators': 190, 'max_depth': 18}. Best is trial 12 with value: 0.7690031152647976.\n",
      "[I 2025-06-05 16:28:20,595] Trial 19 finished with value: 0.7652994115610937 and parameters: {'n_estimators': 200, 'max_depth': 15}. Best is trial 12 with value: 0.7690031152647976.\n",
      "[I 2025-06-05 16:28:22,358] Trial 20 finished with value: 0.761509172724126 and parameters: {'n_estimators': 156, 'max_depth': 14}. Best is trial 12 with value: 0.7690031152647976.\n",
      "[I 2025-06-05 16:28:25,109] Trial 21 finished with value: 0.770889581169955 and parameters: {'n_estimators': 177, 'max_depth': 17}. Best is trial 21 with value: 0.770889581169955.\n",
      "[I 2025-06-05 16:28:26,927] Trial 22 finished with value: 0.7690204222914503 and parameters: {'n_estimators': 182, 'max_depth': 20}. Best is trial 21 with value: 0.770889581169955.\n",
      "[I 2025-06-05 16:28:28,463] Trial 23 finished with value: 0.770889581169955 and parameters: {'n_estimators': 168, 'max_depth': 20}. Best is trial 21 with value: 0.770889581169955.\n",
      "[I 2025-06-05 16:28:29,774] Trial 24 finished with value: 0.7597092419522327 and parameters: {'n_estimators': 131, 'max_depth': 20}. Best is trial 21 with value: 0.770889581169955.\n",
      "[I 2025-06-05 16:28:31,158] Trial 25 finished with value: 0.7633956386292835 and parameters: {'n_estimators': 153, 'max_depth': 19}. Best is trial 21 with value: 0.770889581169955.\n",
      "[I 2025-06-05 16:28:32,933] Trial 26 finished with value: 0.7690204222914503 and parameters: {'n_estimators': 181, 'max_depth': 20}. Best is trial 21 with value: 0.770889581169955.\n",
      "[I 2025-06-05 16:28:34,677] Trial 27 finished with value: 0.7671685704395984 and parameters: {'n_estimators': 187, 'max_depth': 18}. Best is trial 21 with value: 0.770889581169955.\n",
      "[I 2025-06-05 16:28:35,593] Trial 28 finished with value: 0.7615610938040845 and parameters: {'n_estimators': 94, 'max_depth': 18}. Best is trial 21 with value: 0.770889581169955.\n",
      "[I 2025-06-05 16:28:36,694] Trial 29 finished with value: 0.7559709241952233 and parameters: {'n_estimators': 119, 'max_depth': 19}. Best is trial 21 with value: 0.770889581169955.\n",
      "[I 2025-06-05 16:28:38,133] Trial 30 finished with value: 0.7671339563862929 and parameters: {'n_estimators': 148, 'max_depth': 20}. Best is trial 21 with value: 0.770889581169955.\n",
      "[I 2025-06-05 16:28:39,706] Trial 31 finished with value: 0.7671512634129456 and parameters: {'n_estimators': 175, 'max_depth': 20}. Best is trial 21 with value: 0.770889581169955.\n",
      "[I 2025-06-05 16:28:41,214] Trial 32 finished with value: 0.765282104534441 and parameters: {'n_estimators': 164, 'max_depth': 18}. Best is trial 21 with value: 0.770889581169955.\n",
      "[I 2025-06-05 16:28:43,364] Trial 33 finished with value: 0.7690204222914503 and parameters: {'n_estimators': 185, 'max_depth': 19}. Best is trial 21 with value: 0.770889581169955.\n",
      "[I 2025-06-05 16:28:46,082] Trial 34 finished with value: 0.7671685704395984 and parameters: {'n_estimators': 199, 'max_depth': 17}. Best is trial 21 with value: 0.770889581169955.\n",
      "[I 2025-06-05 16:28:47,694] Trial 35 finished with value: 0.7690204222914503 and parameters: {'n_estimators': 161, 'max_depth': 20}. Best is trial 21 with value: 0.770889581169955.\n",
      "[I 2025-06-05 16:28:48,635] Trial 36 finished with value: 0.7633956386292835 and parameters: {'n_estimators': 104, 'max_depth': 13}. Best is trial 21 with value: 0.770889581169955.\n",
      "[I 2025-06-05 16:28:49,203] Trial 37 finished with value: 0.7540671512634128 and parameters: {'n_estimators': 62, 'max_depth': 10}. Best is trial 21 with value: 0.770889581169955.\n",
      "[I 2025-06-05 16:28:50,514] Trial 38 finished with value: 0.765282104534441 and parameters: {'n_estimators': 143, 'max_depth': 19}. Best is trial 21 with value: 0.770889581169955.\n",
      "[I 2025-06-05 16:28:53,163] Trial 39 finished with value: 0.7671685704395984 and parameters: {'n_estimators': 191, 'max_depth': 17}. Best is trial 21 with value: 0.770889581169955.\n",
      "[I 2025-06-05 16:28:54,805] Trial 40 finished with value: 0.7615610938040844 and parameters: {'n_estimators': 170, 'max_depth': 15}. Best is trial 21 with value: 0.770889581169955.\n",
      "[I 2025-06-05 16:28:56,732] Trial 41 finished with value: 0.7690204222914503 and parameters: {'n_estimators': 185, 'max_depth': 19}. Best is trial 21 with value: 0.770889581169955.\n",
      "[I 2025-06-05 16:28:58,579] Trial 42 finished with value: 0.7671685704395984 and parameters: {'n_estimators': 180, 'max_depth': 18}. Best is trial 21 with value: 0.770889581169955.\n",
      "[I 2025-06-05 16:29:00,033] Trial 43 finished with value: 0.7671512634129456 and parameters: {'n_estimators': 163, 'max_depth': 20}. Best is trial 21 with value: 0.770889581169955.\n",
      "[I 2025-06-05 16:29:01,963] Trial 44 finished with value: 0.7652994115610937 and parameters: {'n_estimators': 195, 'max_depth': 19}. Best is trial 21 with value: 0.770889581169955.\n",
      "[I 2025-06-05 16:29:05,303] Trial 45 finished with value: 0.7671512634129456 and parameters: {'n_estimators': 175, 'max_depth': 17}. Best is trial 21 with value: 0.770889581169955.\n",
      "[I 2025-06-05 16:29:06,988] Trial 46 finished with value: 0.7690204222914503 and parameters: {'n_estimators': 184, 'max_depth': 20}. Best is trial 21 with value: 0.770889581169955.\n",
      "[I 2025-06-05 16:29:08,284] Trial 47 finished with value: 0.7522326064382139 and parameters: {'n_estimators': 157, 'max_depth': 5}. Best is trial 21 with value: 0.770889581169955.\n",
      "[I 2025-06-05 16:29:10,054] Trial 48 finished with value: 0.7652994115610937 and parameters: {'n_estimators': 192, 'max_depth': 16}. Best is trial 21 with value: 0.770889581169955.\n",
      "[I 2025-06-05 16:29:11,728] Trial 49 finished with value: 0.7671685704395985 and parameters: {'n_estimators': 169, 'max_depth': 19}. Best is trial 21 with value: 0.770889581169955.\n"
     ]
    }
   ],
   "source": [
    "study = optuna.create_study(\n",
    "    direction='maximize', sampler=optuna.samplers.TPESampler())\n",
    "study.optimize(objective, n_trials=50)"
   ]
  },
  {
   "cell_type": "markdown",
   "id": "a8a7d345",
   "metadata": {},
   "source": [
    "### Step 3: Review the Best Parameters"
   ]
  },
  {
   "cell_type": "code",
   "execution_count": 7,
   "id": "7ea0fa58",
   "metadata": {},
   "outputs": [
    {
     "name": "stdout",
     "output_type": "stream",
     "text": [
      "Best hyperparameters:  {'n_estimators': 177, 'max_depth': 17}\n",
      "Best accuracy:  0.770889581169955\n"
     ]
    }
   ],
   "source": [
    "print(\"Best hyperparameters: \", study.best_params)\n",
    "print(\"Best accuracy: \", study.best_value)"
   ]
  },
  {
   "cell_type": "code",
   "execution_count": 8,
   "id": "c90d54ac",
   "metadata": {},
   "outputs": [
    {
     "name": "stdout",
     "output_type": "stream",
     "text": [
      "Test accuracy: 0.7446\n"
     ]
    }
   ],
   "source": [
    "from sklearn.metrics import accuracy_score\n",
    "\n",
    "best_model = RandomForestClassifier(**study.best_trial.params, random_state=42)\n",
    "best_model.fit(X_train, y_train)\n",
    "\n",
    "y_pred = best_model.predict(X_test)\n",
    "accuracy = accuracy_score(y_test, y_pred)\n",
    "print(f\"Test accuracy: {accuracy:.4f}\")"
   ]
  },
  {
   "cell_type": "markdown",
   "id": "d03a5754",
   "metadata": {},
   "source": [
    "## Samplers in Optuna\n",
    "Other samplers in Optuna are:\n",
    "- `optuna.samplers.RandomSampler()`\n",
    "    - Samples hyperparameters completely randomly from the defined distribution.\n",
    "- `optuna.samplers.GridSampler(search_space)`\n",
    "    - just brute-force; Tries every combination from the grid exactly once.\n",
    "    - `search_space`: param_grid Dict"
   ]
  },
  {
   "cell_type": "markdown",
   "id": "5f6142a7",
   "metadata": {},
   "source": [
    "## Optuna Visualization"
   ]
  },
  {
   "cell_type": "code",
   "execution_count": 9,
   "id": "577b388e",
   "metadata": {},
   "outputs": [],
   "source": [
    "from optuna.visualization import plot_optimization_history, plot_parallel_coordinate, plot_slice, plot_contour, plot_param_importances"
   ]
  },
  {
   "cell_type": "code",
   "execution_count": 10,
   "id": "f248c4c1",
   "metadata": {},
   "outputs": [
    {
     "data": {
      "application/vnd.plotly.v1+json": {
       "config": {
        "plotlyServerURL": "https://plot.ly"
       },
       "data": [
        {
         "mode": "markers",
         "name": "Objective Value",
         "type": "scatter",
         "x": [
          0,
          1,
          2,
          3,
          4,
          5,
          6,
          7,
          8,
          9,
          10,
          11,
          12,
          13,
          14,
          15,
          16,
          17,
          18,
          19,
          20,
          21,
          22,
          23,
          24,
          25,
          26,
          27,
          28,
          29,
          30,
          31,
          32,
          33,
          34,
          35,
          36,
          37,
          38,
          39,
          40,
          41,
          42,
          43,
          44,
          45,
          46,
          47,
          48,
          49
         ],
         "y": [
          0.7559190031152648,
          0.7634302526825891,
          0.7633956386292835,
          0.7671512634129456,
          0.7615437867774315,
          0.7615264797507788,
          0.763430252682589,
          0.7540152301834544,
          0.7633956386292835,
          0.7577708549671166,
          0.7615437867774316,
          0.7522672204915196,
          0.7690031152647976,
          0.7690031152647976,
          0.7653167185877466,
          0.7671685704395984,
          0.7596746278989268,
          0.7633956386292835,
          0.7671685704395984,
          0.7652994115610937,
          0.761509172724126,
          0.770889581169955,
          0.7690204222914503,
          0.770889581169955,
          0.7597092419522327,
          0.7633956386292835,
          0.7690204222914503,
          0.7671685704395984,
          0.7615610938040845,
          0.7559709241952233,
          0.7671339563862929,
          0.7671512634129456,
          0.765282104534441,
          0.7690204222914503,
          0.7671685704395984,
          0.7690204222914503,
          0.7633956386292835,
          0.7540671512634128,
          0.765282104534441,
          0.7671685704395984,
          0.7615610938040844,
          0.7690204222914503,
          0.7671685704395984,
          0.7671512634129456,
          0.7652994115610937,
          0.7671512634129456,
          0.7690204222914503,
          0.7522326064382139,
          0.7652994115610937,
          0.7671685704395985
         ]
        },
        {
         "mode": "lines",
         "name": "Best Value",
         "type": "scatter",
         "x": [
          0,
          1,
          2,
          3,
          4,
          5,
          6,
          7,
          8,
          9,
          10,
          11,
          12,
          13,
          14,
          15,
          16,
          17,
          18,
          19,
          20,
          21,
          22,
          23,
          24,
          25,
          26,
          27,
          28,
          29,
          30,
          31,
          32,
          33,
          34,
          35,
          36,
          37,
          38,
          39,
          40,
          41,
          42,
          43,
          44,
          45,
          46,
          47,
          48,
          49
         ],
         "y": [
          0.7559190031152648,
          0.7634302526825891,
          0.7634302526825891,
          0.7671512634129456,
          0.7671512634129456,
          0.7671512634129456,
          0.7671512634129456,
          0.7671512634129456,
          0.7671512634129456,
          0.7671512634129456,
          0.7671512634129456,
          0.7671512634129456,
          0.7690031152647976,
          0.7690031152647976,
          0.7690031152647976,
          0.7690031152647976,
          0.7690031152647976,
          0.7690031152647976,
          0.7690031152647976,
          0.7690031152647976,
          0.7690031152647976,
          0.770889581169955,
          0.770889581169955,
          0.770889581169955,
          0.770889581169955,
          0.770889581169955,
          0.770889581169955,
          0.770889581169955,
          0.770889581169955,
          0.770889581169955,
          0.770889581169955,
          0.770889581169955,
          0.770889581169955,
          0.770889581169955,
          0.770889581169955,
          0.770889581169955,
          0.770889581169955,
          0.770889581169955,
          0.770889581169955,
          0.770889581169955,
          0.770889581169955,
          0.770889581169955,
          0.770889581169955,
          0.770889581169955,
          0.770889581169955,
          0.770889581169955,
          0.770889581169955,
          0.770889581169955,
          0.770889581169955,
          0.770889581169955
         ]
        },
        {
         "marker": {
          "color": "#cccccc"
         },
         "mode": "markers",
         "name": "Infeasible Trial",
         "showlegend": false,
         "type": "scatter",
         "x": [],
         "y": []
        }
       ],
       "layout": {
        "template": {
         "data": {
          "bar": [
           {
            "error_x": {
             "color": "#2a3f5f"
            },
            "error_y": {
             "color": "#2a3f5f"
            },
            "marker": {
             "line": {
              "color": "#E5ECF6",
              "width": 0.5
             },
             "pattern": {
              "fillmode": "overlay",
              "size": 10,
              "solidity": 0.2
             }
            },
            "type": "bar"
           }
          ],
          "barpolar": [
           {
            "marker": {
             "line": {
              "color": "#E5ECF6",
              "width": 0.5
             },
             "pattern": {
              "fillmode": "overlay",
              "size": 10,
              "solidity": 0.2
             }
            },
            "type": "barpolar"
           }
          ],
          "carpet": [
           {
            "aaxis": {
             "endlinecolor": "#2a3f5f",
             "gridcolor": "white",
             "linecolor": "white",
             "minorgridcolor": "white",
             "startlinecolor": "#2a3f5f"
            },
            "baxis": {
             "endlinecolor": "#2a3f5f",
             "gridcolor": "white",
             "linecolor": "white",
             "minorgridcolor": "white",
             "startlinecolor": "#2a3f5f"
            },
            "type": "carpet"
           }
          ],
          "choropleth": [
           {
            "colorbar": {
             "outlinewidth": 0,
             "ticks": ""
            },
            "type": "choropleth"
           }
          ],
          "contour": [
           {
            "colorbar": {
             "outlinewidth": 0,
             "ticks": ""
            },
            "colorscale": [
             [
              0,
              "#0d0887"
             ],
             [
              0.1111111111111111,
              "#46039f"
             ],
             [
              0.2222222222222222,
              "#7201a8"
             ],
             [
              0.3333333333333333,
              "#9c179e"
             ],
             [
              0.4444444444444444,
              "#bd3786"
             ],
             [
              0.5555555555555556,
              "#d8576b"
             ],
             [
              0.6666666666666666,
              "#ed7953"
             ],
             [
              0.7777777777777778,
              "#fb9f3a"
             ],
             [
              0.8888888888888888,
              "#fdca26"
             ],
             [
              1,
              "#f0f921"
             ]
            ],
            "type": "contour"
           }
          ],
          "contourcarpet": [
           {
            "colorbar": {
             "outlinewidth": 0,
             "ticks": ""
            },
            "type": "contourcarpet"
           }
          ],
          "heatmap": [
           {
            "colorbar": {
             "outlinewidth": 0,
             "ticks": ""
            },
            "colorscale": [
             [
              0,
              "#0d0887"
             ],
             [
              0.1111111111111111,
              "#46039f"
             ],
             [
              0.2222222222222222,
              "#7201a8"
             ],
             [
              0.3333333333333333,
              "#9c179e"
             ],
             [
              0.4444444444444444,
              "#bd3786"
             ],
             [
              0.5555555555555556,
              "#d8576b"
             ],
             [
              0.6666666666666666,
              "#ed7953"
             ],
             [
              0.7777777777777778,
              "#fb9f3a"
             ],
             [
              0.8888888888888888,
              "#fdca26"
             ],
             [
              1,
              "#f0f921"
             ]
            ],
            "type": "heatmap"
           }
          ],
          "heatmapgl": [
           {
            "colorbar": {
             "outlinewidth": 0,
             "ticks": ""
            },
            "colorscale": [
             [
              0,
              "#0d0887"
             ],
             [
              0.1111111111111111,
              "#46039f"
             ],
             [
              0.2222222222222222,
              "#7201a8"
             ],
             [
              0.3333333333333333,
              "#9c179e"
             ],
             [
              0.4444444444444444,
              "#bd3786"
             ],
             [
              0.5555555555555556,
              "#d8576b"
             ],
             [
              0.6666666666666666,
              "#ed7953"
             ],
             [
              0.7777777777777778,
              "#fb9f3a"
             ],
             [
              0.8888888888888888,
              "#fdca26"
             ],
             [
              1,
              "#f0f921"
             ]
            ],
            "type": "heatmapgl"
           }
          ],
          "histogram": [
           {
            "marker": {
             "pattern": {
              "fillmode": "overlay",
              "size": 10,
              "solidity": 0.2
             }
            },
            "type": "histogram"
           }
          ],
          "histogram2d": [
           {
            "colorbar": {
             "outlinewidth": 0,
             "ticks": ""
            },
            "colorscale": [
             [
              0,
              "#0d0887"
             ],
             [
              0.1111111111111111,
              "#46039f"
             ],
             [
              0.2222222222222222,
              "#7201a8"
             ],
             [
              0.3333333333333333,
              "#9c179e"
             ],
             [
              0.4444444444444444,
              "#bd3786"
             ],
             [
              0.5555555555555556,
              "#d8576b"
             ],
             [
              0.6666666666666666,
              "#ed7953"
             ],
             [
              0.7777777777777778,
              "#fb9f3a"
             ],
             [
              0.8888888888888888,
              "#fdca26"
             ],
             [
              1,
              "#f0f921"
             ]
            ],
            "type": "histogram2d"
           }
          ],
          "histogram2dcontour": [
           {
            "colorbar": {
             "outlinewidth": 0,
             "ticks": ""
            },
            "colorscale": [
             [
              0,
              "#0d0887"
             ],
             [
              0.1111111111111111,
              "#46039f"
             ],
             [
              0.2222222222222222,
              "#7201a8"
             ],
             [
              0.3333333333333333,
              "#9c179e"
             ],
             [
              0.4444444444444444,
              "#bd3786"
             ],
             [
              0.5555555555555556,
              "#d8576b"
             ],
             [
              0.6666666666666666,
              "#ed7953"
             ],
             [
              0.7777777777777778,
              "#fb9f3a"
             ],
             [
              0.8888888888888888,
              "#fdca26"
             ],
             [
              1,
              "#f0f921"
             ]
            ],
            "type": "histogram2dcontour"
           }
          ],
          "mesh3d": [
           {
            "colorbar": {
             "outlinewidth": 0,
             "ticks": ""
            },
            "type": "mesh3d"
           }
          ],
          "parcoords": [
           {
            "line": {
             "colorbar": {
              "outlinewidth": 0,
              "ticks": ""
             }
            },
            "type": "parcoords"
           }
          ],
          "pie": [
           {
            "automargin": true,
            "type": "pie"
           }
          ],
          "scatter": [
           {
            "fillpattern": {
             "fillmode": "overlay",
             "size": 10,
             "solidity": 0.2
            },
            "type": "scatter"
           }
          ],
          "scatter3d": [
           {
            "line": {
             "colorbar": {
              "outlinewidth": 0,
              "ticks": ""
             }
            },
            "marker": {
             "colorbar": {
              "outlinewidth": 0,
              "ticks": ""
             }
            },
            "type": "scatter3d"
           }
          ],
          "scattercarpet": [
           {
            "marker": {
             "colorbar": {
              "outlinewidth": 0,
              "ticks": ""
             }
            },
            "type": "scattercarpet"
           }
          ],
          "scattergeo": [
           {
            "marker": {
             "colorbar": {
              "outlinewidth": 0,
              "ticks": ""
             }
            },
            "type": "scattergeo"
           }
          ],
          "scattergl": [
           {
            "marker": {
             "colorbar": {
              "outlinewidth": 0,
              "ticks": ""
             }
            },
            "type": "scattergl"
           }
          ],
          "scattermapbox": [
           {
            "marker": {
             "colorbar": {
              "outlinewidth": 0,
              "ticks": ""
             }
            },
            "type": "scattermapbox"
           }
          ],
          "scatterpolar": [
           {
            "marker": {
             "colorbar": {
              "outlinewidth": 0,
              "ticks": ""
             }
            },
            "type": "scatterpolar"
           }
          ],
          "scatterpolargl": [
           {
            "marker": {
             "colorbar": {
              "outlinewidth": 0,
              "ticks": ""
             }
            },
            "type": "scatterpolargl"
           }
          ],
          "scatterternary": [
           {
            "marker": {
             "colorbar": {
              "outlinewidth": 0,
              "ticks": ""
             }
            },
            "type": "scatterternary"
           }
          ],
          "surface": [
           {
            "colorbar": {
             "outlinewidth": 0,
             "ticks": ""
            },
            "colorscale": [
             [
              0,
              "#0d0887"
             ],
             [
              0.1111111111111111,
              "#46039f"
             ],
             [
              0.2222222222222222,
              "#7201a8"
             ],
             [
              0.3333333333333333,
              "#9c179e"
             ],
             [
              0.4444444444444444,
              "#bd3786"
             ],
             [
              0.5555555555555556,
              "#d8576b"
             ],
             [
              0.6666666666666666,
              "#ed7953"
             ],
             [
              0.7777777777777778,
              "#fb9f3a"
             ],
             [
              0.8888888888888888,
              "#fdca26"
             ],
             [
              1,
              "#f0f921"
             ]
            ],
            "type": "surface"
           }
          ],
          "table": [
           {
            "cells": {
             "fill": {
              "color": "#EBF0F8"
             },
             "line": {
              "color": "white"
             }
            },
            "header": {
             "fill": {
              "color": "#C8D4E3"
             },
             "line": {
              "color": "white"
             }
            },
            "type": "table"
           }
          ]
         },
         "layout": {
          "annotationdefaults": {
           "arrowcolor": "#2a3f5f",
           "arrowhead": 0,
           "arrowwidth": 1
          },
          "autotypenumbers": "strict",
          "coloraxis": {
           "colorbar": {
            "outlinewidth": 0,
            "ticks": ""
           }
          },
          "colorscale": {
           "diverging": [
            [
             0,
             "#8e0152"
            ],
            [
             0.1,
             "#c51b7d"
            ],
            [
             0.2,
             "#de77ae"
            ],
            [
             0.3,
             "#f1b6da"
            ],
            [
             0.4,
             "#fde0ef"
            ],
            [
             0.5,
             "#f7f7f7"
            ],
            [
             0.6,
             "#e6f5d0"
            ],
            [
             0.7,
             "#b8e186"
            ],
            [
             0.8,
             "#7fbc41"
            ],
            [
             0.9,
             "#4d9221"
            ],
            [
             1,
             "#276419"
            ]
           ],
           "sequential": [
            [
             0,
             "#0d0887"
            ],
            [
             0.1111111111111111,
             "#46039f"
            ],
            [
             0.2222222222222222,
             "#7201a8"
            ],
            [
             0.3333333333333333,
             "#9c179e"
            ],
            [
             0.4444444444444444,
             "#bd3786"
            ],
            [
             0.5555555555555556,
             "#d8576b"
            ],
            [
             0.6666666666666666,
             "#ed7953"
            ],
            [
             0.7777777777777778,
             "#fb9f3a"
            ],
            [
             0.8888888888888888,
             "#fdca26"
            ],
            [
             1,
             "#f0f921"
            ]
           ],
           "sequentialminus": [
            [
             0,
             "#0d0887"
            ],
            [
             0.1111111111111111,
             "#46039f"
            ],
            [
             0.2222222222222222,
             "#7201a8"
            ],
            [
             0.3333333333333333,
             "#9c179e"
            ],
            [
             0.4444444444444444,
             "#bd3786"
            ],
            [
             0.5555555555555556,
             "#d8576b"
            ],
            [
             0.6666666666666666,
             "#ed7953"
            ],
            [
             0.7777777777777778,
             "#fb9f3a"
            ],
            [
             0.8888888888888888,
             "#fdca26"
            ],
            [
             1,
             "#f0f921"
            ]
           ]
          },
          "colorway": [
           "#636efa",
           "#EF553B",
           "#00cc96",
           "#ab63fa",
           "#FFA15A",
           "#19d3f3",
           "#FF6692",
           "#B6E880",
           "#FF97FF",
           "#FECB52"
          ],
          "font": {
           "color": "#2a3f5f"
          },
          "geo": {
           "bgcolor": "white",
           "lakecolor": "white",
           "landcolor": "#E5ECF6",
           "showlakes": true,
           "showland": true,
           "subunitcolor": "white"
          },
          "hoverlabel": {
           "align": "left"
          },
          "hovermode": "closest",
          "mapbox": {
           "style": "light"
          },
          "paper_bgcolor": "white",
          "plot_bgcolor": "#E5ECF6",
          "polar": {
           "angularaxis": {
            "gridcolor": "white",
            "linecolor": "white",
            "ticks": ""
           },
           "bgcolor": "#E5ECF6",
           "radialaxis": {
            "gridcolor": "white",
            "linecolor": "white",
            "ticks": ""
           }
          },
          "scene": {
           "xaxis": {
            "backgroundcolor": "#E5ECF6",
            "gridcolor": "white",
            "gridwidth": 2,
            "linecolor": "white",
            "showbackground": true,
            "ticks": "",
            "zerolinecolor": "white"
           },
           "yaxis": {
            "backgroundcolor": "#E5ECF6",
            "gridcolor": "white",
            "gridwidth": 2,
            "linecolor": "white",
            "showbackground": true,
            "ticks": "",
            "zerolinecolor": "white"
           },
           "zaxis": {
            "backgroundcolor": "#E5ECF6",
            "gridcolor": "white",
            "gridwidth": 2,
            "linecolor": "white",
            "showbackground": true,
            "ticks": "",
            "zerolinecolor": "white"
           }
          },
          "shapedefaults": {
           "line": {
            "color": "#2a3f5f"
           }
          },
          "ternary": {
           "aaxis": {
            "gridcolor": "white",
            "linecolor": "white",
            "ticks": ""
           },
           "baxis": {
            "gridcolor": "white",
            "linecolor": "white",
            "ticks": ""
           },
           "bgcolor": "#E5ECF6",
           "caxis": {
            "gridcolor": "white",
            "linecolor": "white",
            "ticks": ""
           }
          },
          "title": {
           "x": 0.05
          },
          "xaxis": {
           "automargin": true,
           "gridcolor": "white",
           "linecolor": "white",
           "ticks": "",
           "title": {
            "standoff": 15
           },
           "zerolinecolor": "white",
           "zerolinewidth": 2
          },
          "yaxis": {
           "automargin": true,
           "gridcolor": "white",
           "linecolor": "white",
           "ticks": "",
           "title": {
            "standoff": 15
           },
           "zerolinecolor": "white",
           "zerolinewidth": 2
          }
         }
        },
        "title": {
         "text": "Optimization History Plot"
        },
        "xaxis": {
         "title": {
          "text": "Trial"
         }
        },
        "yaxis": {
         "title": {
          "text": "Objective Value"
         }
        }
       }
      }
     },
     "metadata": {},
     "output_type": "display_data"
    }
   ],
   "source": [
    "# 1. Optimization History\n",
    "plot_optimization_history(study).show()"
   ]
  },
  {
   "cell_type": "code",
   "execution_count": 11,
   "id": "f875ce3c",
   "metadata": {},
   "outputs": [
    {
     "data": {
      "application/vnd.plotly.v1+json": {
       "config": {
        "plotlyServerURL": "https://plot.ly"
       },
       "data": [
        {
         "dimensions": [
          {
           "label": "Objective Value",
           "range": [
            0.7522326064382139,
            0.770889581169955
           ],
           "values": [
            0.7559190031152648,
            0.7634302526825891,
            0.7633956386292835,
            0.7671512634129456,
            0.7615437867774315,
            0.7615264797507788,
            0.763430252682589,
            0.7540152301834544,
            0.7633956386292835,
            0.7577708549671166,
            0.7615437867774316,
            0.7522672204915196,
            0.7690031152647976,
            0.7690031152647976,
            0.7653167185877466,
            0.7671685704395984,
            0.7596746278989268,
            0.7633956386292835,
            0.7671685704395984,
            0.7652994115610937,
            0.761509172724126,
            0.770889581169955,
            0.7690204222914503,
            0.770889581169955,
            0.7597092419522327,
            0.7633956386292835,
            0.7690204222914503,
            0.7671685704395984,
            0.7615610938040845,
            0.7559709241952233,
            0.7671339563862929,
            0.7671512634129456,
            0.765282104534441,
            0.7690204222914503,
            0.7671685704395984,
            0.7690204222914503,
            0.7633956386292835,
            0.7540671512634128,
            0.765282104534441,
            0.7671685704395984,
            0.7615610938040844,
            0.7690204222914503,
            0.7671685704395984,
            0.7671512634129456,
            0.7652994115610937,
            0.7671512634129456,
            0.7690204222914503,
            0.7522326064382139,
            0.7652994115610937,
            0.7671685704395985
           ]
          },
          {
           "label": "max_depth",
           "range": [
            3,
            20
           ],
           "values": [
            12,
            7,
            14,
            16,
            7,
            6,
            8,
            12,
            17,
            12,
            20,
            3,
            16,
            16,
            19,
            17,
            15,
            10,
            18,
            15,
            14,
            17,
            20,
            20,
            20,
            19,
            20,
            18,
            18,
            19,
            20,
            20,
            18,
            19,
            17,
            20,
            13,
            10,
            19,
            17,
            15,
            19,
            18,
            20,
            19,
            17,
            20,
            5,
            16,
            19
           ]
          },
          {
           "label": "n_estimators",
           "range": [
            57,
            200
           ],
           "values": [
            117,
            162,
            94,
            146,
            92,
            117,
            189,
            165,
            154,
            139,
            57,
            196,
            168,
            180,
            181,
            176,
            135,
            172,
            190,
            200,
            156,
            177,
            182,
            168,
            131,
            153,
            181,
            187,
            94,
            119,
            148,
            175,
            164,
            185,
            199,
            161,
            104,
            62,
            143,
            191,
            170,
            185,
            180,
            163,
            195,
            175,
            184,
            157,
            192,
            169
           ]
          }
         ],
         "labelangle": 30,
         "labelside": "bottom",
         "line": {
          "color": [
           0.7559190031152648,
           0.7634302526825891,
           0.7633956386292835,
           0.7671512634129456,
           0.7615437867774315,
           0.7615264797507788,
           0.763430252682589,
           0.7540152301834544,
           0.7633956386292835,
           0.7577708549671166,
           0.7615437867774316,
           0.7522672204915196,
           0.7690031152647976,
           0.7690031152647976,
           0.7653167185877466,
           0.7671685704395984,
           0.7596746278989268,
           0.7633956386292835,
           0.7671685704395984,
           0.7652994115610937,
           0.761509172724126,
           0.770889581169955,
           0.7690204222914503,
           0.770889581169955,
           0.7597092419522327,
           0.7633956386292835,
           0.7690204222914503,
           0.7671685704395984,
           0.7615610938040845,
           0.7559709241952233,
           0.7671339563862929,
           0.7671512634129456,
           0.765282104534441,
           0.7690204222914503,
           0.7671685704395984,
           0.7690204222914503,
           0.7633956386292835,
           0.7540671512634128,
           0.765282104534441,
           0.7671685704395984,
           0.7615610938040844,
           0.7690204222914503,
           0.7671685704395984,
           0.7671512634129456,
           0.7652994115610937,
           0.7671512634129456,
           0.7690204222914503,
           0.7522326064382139,
           0.7652994115610937,
           0.7671685704395985
          ],
          "colorbar": {
           "title": {
            "text": "Objective Value"
           }
          },
          "colorscale": [
           [
            0,
            "rgb(247,251,255)"
           ],
           [
            0.125,
            "rgb(222,235,247)"
           ],
           [
            0.25,
            "rgb(198,219,239)"
           ],
           [
            0.375,
            "rgb(158,202,225)"
           ],
           [
            0.5,
            "rgb(107,174,214)"
           ],
           [
            0.625,
            "rgb(66,146,198)"
           ],
           [
            0.75,
            "rgb(33,113,181)"
           ],
           [
            0.875,
            "rgb(8,81,156)"
           ],
           [
            1,
            "rgb(8,48,107)"
           ]
          ],
          "reversescale": false,
          "showscale": true
         },
         "type": "parcoords"
        }
       ],
       "layout": {
        "template": {
         "data": {
          "bar": [
           {
            "error_x": {
             "color": "#2a3f5f"
            },
            "error_y": {
             "color": "#2a3f5f"
            },
            "marker": {
             "line": {
              "color": "#E5ECF6",
              "width": 0.5
             },
             "pattern": {
              "fillmode": "overlay",
              "size": 10,
              "solidity": 0.2
             }
            },
            "type": "bar"
           }
          ],
          "barpolar": [
           {
            "marker": {
             "line": {
              "color": "#E5ECF6",
              "width": 0.5
             },
             "pattern": {
              "fillmode": "overlay",
              "size": 10,
              "solidity": 0.2
             }
            },
            "type": "barpolar"
           }
          ],
          "carpet": [
           {
            "aaxis": {
             "endlinecolor": "#2a3f5f",
             "gridcolor": "white",
             "linecolor": "white",
             "minorgridcolor": "white",
             "startlinecolor": "#2a3f5f"
            },
            "baxis": {
             "endlinecolor": "#2a3f5f",
             "gridcolor": "white",
             "linecolor": "white",
             "minorgridcolor": "white",
             "startlinecolor": "#2a3f5f"
            },
            "type": "carpet"
           }
          ],
          "choropleth": [
           {
            "colorbar": {
             "outlinewidth": 0,
             "ticks": ""
            },
            "type": "choropleth"
           }
          ],
          "contour": [
           {
            "colorbar": {
             "outlinewidth": 0,
             "ticks": ""
            },
            "colorscale": [
             [
              0,
              "#0d0887"
             ],
             [
              0.1111111111111111,
              "#46039f"
             ],
             [
              0.2222222222222222,
              "#7201a8"
             ],
             [
              0.3333333333333333,
              "#9c179e"
             ],
             [
              0.4444444444444444,
              "#bd3786"
             ],
             [
              0.5555555555555556,
              "#d8576b"
             ],
             [
              0.6666666666666666,
              "#ed7953"
             ],
             [
              0.7777777777777778,
              "#fb9f3a"
             ],
             [
              0.8888888888888888,
              "#fdca26"
             ],
             [
              1,
              "#f0f921"
             ]
            ],
            "type": "contour"
           }
          ],
          "contourcarpet": [
           {
            "colorbar": {
             "outlinewidth": 0,
             "ticks": ""
            },
            "type": "contourcarpet"
           }
          ],
          "heatmap": [
           {
            "colorbar": {
             "outlinewidth": 0,
             "ticks": ""
            },
            "colorscale": [
             [
              0,
              "#0d0887"
             ],
             [
              0.1111111111111111,
              "#46039f"
             ],
             [
              0.2222222222222222,
              "#7201a8"
             ],
             [
              0.3333333333333333,
              "#9c179e"
             ],
             [
              0.4444444444444444,
              "#bd3786"
             ],
             [
              0.5555555555555556,
              "#d8576b"
             ],
             [
              0.6666666666666666,
              "#ed7953"
             ],
             [
              0.7777777777777778,
              "#fb9f3a"
             ],
             [
              0.8888888888888888,
              "#fdca26"
             ],
             [
              1,
              "#f0f921"
             ]
            ],
            "type": "heatmap"
           }
          ],
          "heatmapgl": [
           {
            "colorbar": {
             "outlinewidth": 0,
             "ticks": ""
            },
            "colorscale": [
             [
              0,
              "#0d0887"
             ],
             [
              0.1111111111111111,
              "#46039f"
             ],
             [
              0.2222222222222222,
              "#7201a8"
             ],
             [
              0.3333333333333333,
              "#9c179e"
             ],
             [
              0.4444444444444444,
              "#bd3786"
             ],
             [
              0.5555555555555556,
              "#d8576b"
             ],
             [
              0.6666666666666666,
              "#ed7953"
             ],
             [
              0.7777777777777778,
              "#fb9f3a"
             ],
             [
              0.8888888888888888,
              "#fdca26"
             ],
             [
              1,
              "#f0f921"
             ]
            ],
            "type": "heatmapgl"
           }
          ],
          "histogram": [
           {
            "marker": {
             "pattern": {
              "fillmode": "overlay",
              "size": 10,
              "solidity": 0.2
             }
            },
            "type": "histogram"
           }
          ],
          "histogram2d": [
           {
            "colorbar": {
             "outlinewidth": 0,
             "ticks": ""
            },
            "colorscale": [
             [
              0,
              "#0d0887"
             ],
             [
              0.1111111111111111,
              "#46039f"
             ],
             [
              0.2222222222222222,
              "#7201a8"
             ],
             [
              0.3333333333333333,
              "#9c179e"
             ],
             [
              0.4444444444444444,
              "#bd3786"
             ],
             [
              0.5555555555555556,
              "#d8576b"
             ],
             [
              0.6666666666666666,
              "#ed7953"
             ],
             [
              0.7777777777777778,
              "#fb9f3a"
             ],
             [
              0.8888888888888888,
              "#fdca26"
             ],
             [
              1,
              "#f0f921"
             ]
            ],
            "type": "histogram2d"
           }
          ],
          "histogram2dcontour": [
           {
            "colorbar": {
             "outlinewidth": 0,
             "ticks": ""
            },
            "colorscale": [
             [
              0,
              "#0d0887"
             ],
             [
              0.1111111111111111,
              "#46039f"
             ],
             [
              0.2222222222222222,
              "#7201a8"
             ],
             [
              0.3333333333333333,
              "#9c179e"
             ],
             [
              0.4444444444444444,
              "#bd3786"
             ],
             [
              0.5555555555555556,
              "#d8576b"
             ],
             [
              0.6666666666666666,
              "#ed7953"
             ],
             [
              0.7777777777777778,
              "#fb9f3a"
             ],
             [
              0.8888888888888888,
              "#fdca26"
             ],
             [
              1,
              "#f0f921"
             ]
            ],
            "type": "histogram2dcontour"
           }
          ],
          "mesh3d": [
           {
            "colorbar": {
             "outlinewidth": 0,
             "ticks": ""
            },
            "type": "mesh3d"
           }
          ],
          "parcoords": [
           {
            "line": {
             "colorbar": {
              "outlinewidth": 0,
              "ticks": ""
             }
            },
            "type": "parcoords"
           }
          ],
          "pie": [
           {
            "automargin": true,
            "type": "pie"
           }
          ],
          "scatter": [
           {
            "fillpattern": {
             "fillmode": "overlay",
             "size": 10,
             "solidity": 0.2
            },
            "type": "scatter"
           }
          ],
          "scatter3d": [
           {
            "line": {
             "colorbar": {
              "outlinewidth": 0,
              "ticks": ""
             }
            },
            "marker": {
             "colorbar": {
              "outlinewidth": 0,
              "ticks": ""
             }
            },
            "type": "scatter3d"
           }
          ],
          "scattercarpet": [
           {
            "marker": {
             "colorbar": {
              "outlinewidth": 0,
              "ticks": ""
             }
            },
            "type": "scattercarpet"
           }
          ],
          "scattergeo": [
           {
            "marker": {
             "colorbar": {
              "outlinewidth": 0,
              "ticks": ""
             }
            },
            "type": "scattergeo"
           }
          ],
          "scattergl": [
           {
            "marker": {
             "colorbar": {
              "outlinewidth": 0,
              "ticks": ""
             }
            },
            "type": "scattergl"
           }
          ],
          "scattermapbox": [
           {
            "marker": {
             "colorbar": {
              "outlinewidth": 0,
              "ticks": ""
             }
            },
            "type": "scattermapbox"
           }
          ],
          "scatterpolar": [
           {
            "marker": {
             "colorbar": {
              "outlinewidth": 0,
              "ticks": ""
             }
            },
            "type": "scatterpolar"
           }
          ],
          "scatterpolargl": [
           {
            "marker": {
             "colorbar": {
              "outlinewidth": 0,
              "ticks": ""
             }
            },
            "type": "scatterpolargl"
           }
          ],
          "scatterternary": [
           {
            "marker": {
             "colorbar": {
              "outlinewidth": 0,
              "ticks": ""
             }
            },
            "type": "scatterternary"
           }
          ],
          "surface": [
           {
            "colorbar": {
             "outlinewidth": 0,
             "ticks": ""
            },
            "colorscale": [
             [
              0,
              "#0d0887"
             ],
             [
              0.1111111111111111,
              "#46039f"
             ],
             [
              0.2222222222222222,
              "#7201a8"
             ],
             [
              0.3333333333333333,
              "#9c179e"
             ],
             [
              0.4444444444444444,
              "#bd3786"
             ],
             [
              0.5555555555555556,
              "#d8576b"
             ],
             [
              0.6666666666666666,
              "#ed7953"
             ],
             [
              0.7777777777777778,
              "#fb9f3a"
             ],
             [
              0.8888888888888888,
              "#fdca26"
             ],
             [
              1,
              "#f0f921"
             ]
            ],
            "type": "surface"
           }
          ],
          "table": [
           {
            "cells": {
             "fill": {
              "color": "#EBF0F8"
             },
             "line": {
              "color": "white"
             }
            },
            "header": {
             "fill": {
              "color": "#C8D4E3"
             },
             "line": {
              "color": "white"
             }
            },
            "type": "table"
           }
          ]
         },
         "layout": {
          "annotationdefaults": {
           "arrowcolor": "#2a3f5f",
           "arrowhead": 0,
           "arrowwidth": 1
          },
          "autotypenumbers": "strict",
          "coloraxis": {
           "colorbar": {
            "outlinewidth": 0,
            "ticks": ""
           }
          },
          "colorscale": {
           "diverging": [
            [
             0,
             "#8e0152"
            ],
            [
             0.1,
             "#c51b7d"
            ],
            [
             0.2,
             "#de77ae"
            ],
            [
             0.3,
             "#f1b6da"
            ],
            [
             0.4,
             "#fde0ef"
            ],
            [
             0.5,
             "#f7f7f7"
            ],
            [
             0.6,
             "#e6f5d0"
            ],
            [
             0.7,
             "#b8e186"
            ],
            [
             0.8,
             "#7fbc41"
            ],
            [
             0.9,
             "#4d9221"
            ],
            [
             1,
             "#276419"
            ]
           ],
           "sequential": [
            [
             0,
             "#0d0887"
            ],
            [
             0.1111111111111111,
             "#46039f"
            ],
            [
             0.2222222222222222,
             "#7201a8"
            ],
            [
             0.3333333333333333,
             "#9c179e"
            ],
            [
             0.4444444444444444,
             "#bd3786"
            ],
            [
             0.5555555555555556,
             "#d8576b"
            ],
            [
             0.6666666666666666,
             "#ed7953"
            ],
            [
             0.7777777777777778,
             "#fb9f3a"
            ],
            [
             0.8888888888888888,
             "#fdca26"
            ],
            [
             1,
             "#f0f921"
            ]
           ],
           "sequentialminus": [
            [
             0,
             "#0d0887"
            ],
            [
             0.1111111111111111,
             "#46039f"
            ],
            [
             0.2222222222222222,
             "#7201a8"
            ],
            [
             0.3333333333333333,
             "#9c179e"
            ],
            [
             0.4444444444444444,
             "#bd3786"
            ],
            [
             0.5555555555555556,
             "#d8576b"
            ],
            [
             0.6666666666666666,
             "#ed7953"
            ],
            [
             0.7777777777777778,
             "#fb9f3a"
            ],
            [
             0.8888888888888888,
             "#fdca26"
            ],
            [
             1,
             "#f0f921"
            ]
           ]
          },
          "colorway": [
           "#636efa",
           "#EF553B",
           "#00cc96",
           "#ab63fa",
           "#FFA15A",
           "#19d3f3",
           "#FF6692",
           "#B6E880",
           "#FF97FF",
           "#FECB52"
          ],
          "font": {
           "color": "#2a3f5f"
          },
          "geo": {
           "bgcolor": "white",
           "lakecolor": "white",
           "landcolor": "#E5ECF6",
           "showlakes": true,
           "showland": true,
           "subunitcolor": "white"
          },
          "hoverlabel": {
           "align": "left"
          },
          "hovermode": "closest",
          "mapbox": {
           "style": "light"
          },
          "paper_bgcolor": "white",
          "plot_bgcolor": "#E5ECF6",
          "polar": {
           "angularaxis": {
            "gridcolor": "white",
            "linecolor": "white",
            "ticks": ""
           },
           "bgcolor": "#E5ECF6",
           "radialaxis": {
            "gridcolor": "white",
            "linecolor": "white",
            "ticks": ""
           }
          },
          "scene": {
           "xaxis": {
            "backgroundcolor": "#E5ECF6",
            "gridcolor": "white",
            "gridwidth": 2,
            "linecolor": "white",
            "showbackground": true,
            "ticks": "",
            "zerolinecolor": "white"
           },
           "yaxis": {
            "backgroundcolor": "#E5ECF6",
            "gridcolor": "white",
            "gridwidth": 2,
            "linecolor": "white",
            "showbackground": true,
            "ticks": "",
            "zerolinecolor": "white"
           },
           "zaxis": {
            "backgroundcolor": "#E5ECF6",
            "gridcolor": "white",
            "gridwidth": 2,
            "linecolor": "white",
            "showbackground": true,
            "ticks": "",
            "zerolinecolor": "white"
           }
          },
          "shapedefaults": {
           "line": {
            "color": "#2a3f5f"
           }
          },
          "ternary": {
           "aaxis": {
            "gridcolor": "white",
            "linecolor": "white",
            "ticks": ""
           },
           "baxis": {
            "gridcolor": "white",
            "linecolor": "white",
            "ticks": ""
           },
           "bgcolor": "#E5ECF6",
           "caxis": {
            "gridcolor": "white",
            "linecolor": "white",
            "ticks": ""
           }
          },
          "title": {
           "x": 0.05
          },
          "xaxis": {
           "automargin": true,
           "gridcolor": "white",
           "linecolor": "white",
           "ticks": "",
           "title": {
            "standoff": 15
           },
           "zerolinecolor": "white",
           "zerolinewidth": 2
          },
          "yaxis": {
           "automargin": true,
           "gridcolor": "white",
           "linecolor": "white",
           "ticks": "",
           "title": {
            "standoff": 15
           },
           "zerolinecolor": "white",
           "zerolinewidth": 2
          }
         }
        },
        "title": {
         "text": "Parallel Coordinate Plot"
        }
       }
      }
     },
     "metadata": {},
     "output_type": "display_data"
    }
   ],
   "source": [
    "# 2. Parallel Coordinates Plot\n",
    "plot_parallel_coordinate(study).show()"
   ]
  },
  {
   "cell_type": "code",
   "execution_count": 12,
   "id": "41e4452a",
   "metadata": {},
   "outputs": [
    {
     "data": {
      "application/vnd.plotly.v1+json": {
       "config": {
        "plotlyServerURL": "https://plot.ly"
       },
       "data": [
        {
         "marker": {
          "color": [
           0,
           1,
           2,
           3,
           4,
           5,
           6,
           7,
           8,
           9,
           10,
           11,
           12,
           13,
           14,
           15,
           16,
           17,
           18,
           19,
           20,
           21,
           22,
           23,
           24,
           25,
           26,
           27,
           28,
           29,
           30,
           31,
           32,
           33,
           34,
           35,
           36,
           37,
           38,
           39,
           40,
           41,
           42,
           43,
           44,
           45,
           46,
           47,
           48,
           49
          ],
          "colorbar": {
           "title": {
            "text": "Trial"
           },
           "x": 1,
           "xpad": 40
          },
          "colorscale": [
           [
            0,
            "rgb(247,251,255)"
           ],
           [
            0.125,
            "rgb(222,235,247)"
           ],
           [
            0.25,
            "rgb(198,219,239)"
           ],
           [
            0.375,
            "rgb(158,202,225)"
           ],
           [
            0.5,
            "rgb(107,174,214)"
           ],
           [
            0.625,
            "rgb(66,146,198)"
           ],
           [
            0.75,
            "rgb(33,113,181)"
           ],
           [
            0.875,
            "rgb(8,81,156)"
           ],
           [
            1,
            "rgb(8,48,107)"
           ]
          ],
          "line": {
           "color": "Grey",
           "width": 0.5
          },
          "showscale": true
         },
         "mode": "markers",
         "name": "Feasible Trial",
         "showlegend": false,
         "type": "scatter",
         "x": [
          12,
          7,
          14,
          16,
          7,
          6,
          8,
          12,
          17,
          12,
          20,
          3,
          16,
          16,
          19,
          17,
          15,
          10,
          18,
          15,
          14,
          17,
          20,
          20,
          20,
          19,
          20,
          18,
          18,
          19,
          20,
          20,
          18,
          19,
          17,
          20,
          13,
          10,
          19,
          17,
          15,
          19,
          18,
          20,
          19,
          17,
          20,
          5,
          16,
          19
         ],
         "xaxis": "x",
         "y": [
          0.7559190031152648,
          0.7634302526825891,
          0.7633956386292835,
          0.7671512634129456,
          0.7615437867774315,
          0.7615264797507788,
          0.763430252682589,
          0.7540152301834544,
          0.7633956386292835,
          0.7577708549671166,
          0.7615437867774316,
          0.7522672204915196,
          0.7690031152647976,
          0.7690031152647976,
          0.7653167185877466,
          0.7671685704395984,
          0.7596746278989268,
          0.7633956386292835,
          0.7671685704395984,
          0.7652994115610937,
          0.761509172724126,
          0.770889581169955,
          0.7690204222914503,
          0.770889581169955,
          0.7597092419522327,
          0.7633956386292835,
          0.7690204222914503,
          0.7671685704395984,
          0.7615610938040845,
          0.7559709241952233,
          0.7671339563862929,
          0.7671512634129456,
          0.765282104534441,
          0.7690204222914503,
          0.7671685704395984,
          0.7690204222914503,
          0.7633956386292835,
          0.7540671512634128,
          0.765282104534441,
          0.7671685704395984,
          0.7615610938040844,
          0.7690204222914503,
          0.7671685704395984,
          0.7671512634129456,
          0.7652994115610937,
          0.7671512634129456,
          0.7690204222914503,
          0.7522326064382139,
          0.7652994115610937,
          0.7671685704395985
         ],
         "yaxis": "y"
        },
        {
         "marker": {
          "color": [
           0,
           1,
           2,
           3,
           4,
           5,
           6,
           7,
           8,
           9,
           10,
           11,
           12,
           13,
           14,
           15,
           16,
           17,
           18,
           19,
           20,
           21,
           22,
           23,
           24,
           25,
           26,
           27,
           28,
           29,
           30,
           31,
           32,
           33,
           34,
           35,
           36,
           37,
           38,
           39,
           40,
           41,
           42,
           43,
           44,
           45,
           46,
           47,
           48,
           49
          ],
          "colorbar": {
           "title": {
            "text": "Trial"
           },
           "x": 1,
           "xpad": 40
          },
          "colorscale": [
           [
            0,
            "rgb(247,251,255)"
           ],
           [
            0.125,
            "rgb(222,235,247)"
           ],
           [
            0.25,
            "rgb(198,219,239)"
           ],
           [
            0.375,
            "rgb(158,202,225)"
           ],
           [
            0.5,
            "rgb(107,174,214)"
           ],
           [
            0.625,
            "rgb(66,146,198)"
           ],
           [
            0.75,
            "rgb(33,113,181)"
           ],
           [
            0.875,
            "rgb(8,81,156)"
           ],
           [
            1,
            "rgb(8,48,107)"
           ]
          ],
          "line": {
           "color": "Grey",
           "width": 0.5
          },
          "showscale": false
         },
         "mode": "markers",
         "name": "Feasible Trial",
         "showlegend": false,
         "type": "scatter",
         "x": [
          117,
          162,
          94,
          146,
          92,
          117,
          189,
          165,
          154,
          139,
          57,
          196,
          168,
          180,
          181,
          176,
          135,
          172,
          190,
          200,
          156,
          177,
          182,
          168,
          131,
          153,
          181,
          187,
          94,
          119,
          148,
          175,
          164,
          185,
          199,
          161,
          104,
          62,
          143,
          191,
          170,
          185,
          180,
          163,
          195,
          175,
          184,
          157,
          192,
          169
         ],
         "xaxis": "x2",
         "y": [
          0.7559190031152648,
          0.7634302526825891,
          0.7633956386292835,
          0.7671512634129456,
          0.7615437867774315,
          0.7615264797507788,
          0.763430252682589,
          0.7540152301834544,
          0.7633956386292835,
          0.7577708549671166,
          0.7615437867774316,
          0.7522672204915196,
          0.7690031152647976,
          0.7690031152647976,
          0.7653167185877466,
          0.7671685704395984,
          0.7596746278989268,
          0.7633956386292835,
          0.7671685704395984,
          0.7652994115610937,
          0.761509172724126,
          0.770889581169955,
          0.7690204222914503,
          0.770889581169955,
          0.7597092419522327,
          0.7633956386292835,
          0.7690204222914503,
          0.7671685704395984,
          0.7615610938040845,
          0.7559709241952233,
          0.7671339563862929,
          0.7671512634129456,
          0.765282104534441,
          0.7690204222914503,
          0.7671685704395984,
          0.7690204222914503,
          0.7633956386292835,
          0.7540671512634128,
          0.765282104534441,
          0.7671685704395984,
          0.7615610938040844,
          0.7690204222914503,
          0.7671685704395984,
          0.7671512634129456,
          0.7652994115610937,
          0.7671512634129456,
          0.7690204222914503,
          0.7522326064382139,
          0.7652994115610937,
          0.7671685704395985
         ],
         "yaxis": "y2"
        }
       ],
       "layout": {
        "template": {
         "data": {
          "bar": [
           {
            "error_x": {
             "color": "#2a3f5f"
            },
            "error_y": {
             "color": "#2a3f5f"
            },
            "marker": {
             "line": {
              "color": "#E5ECF6",
              "width": 0.5
             },
             "pattern": {
              "fillmode": "overlay",
              "size": 10,
              "solidity": 0.2
             }
            },
            "type": "bar"
           }
          ],
          "barpolar": [
           {
            "marker": {
             "line": {
              "color": "#E5ECF6",
              "width": 0.5
             },
             "pattern": {
              "fillmode": "overlay",
              "size": 10,
              "solidity": 0.2
             }
            },
            "type": "barpolar"
           }
          ],
          "carpet": [
           {
            "aaxis": {
             "endlinecolor": "#2a3f5f",
             "gridcolor": "white",
             "linecolor": "white",
             "minorgridcolor": "white",
             "startlinecolor": "#2a3f5f"
            },
            "baxis": {
             "endlinecolor": "#2a3f5f",
             "gridcolor": "white",
             "linecolor": "white",
             "minorgridcolor": "white",
             "startlinecolor": "#2a3f5f"
            },
            "type": "carpet"
           }
          ],
          "choropleth": [
           {
            "colorbar": {
             "outlinewidth": 0,
             "ticks": ""
            },
            "type": "choropleth"
           }
          ],
          "contour": [
           {
            "colorbar": {
             "outlinewidth": 0,
             "ticks": ""
            },
            "colorscale": [
             [
              0,
              "#0d0887"
             ],
             [
              0.1111111111111111,
              "#46039f"
             ],
             [
              0.2222222222222222,
              "#7201a8"
             ],
             [
              0.3333333333333333,
              "#9c179e"
             ],
             [
              0.4444444444444444,
              "#bd3786"
             ],
             [
              0.5555555555555556,
              "#d8576b"
             ],
             [
              0.6666666666666666,
              "#ed7953"
             ],
             [
              0.7777777777777778,
              "#fb9f3a"
             ],
             [
              0.8888888888888888,
              "#fdca26"
             ],
             [
              1,
              "#f0f921"
             ]
            ],
            "type": "contour"
           }
          ],
          "contourcarpet": [
           {
            "colorbar": {
             "outlinewidth": 0,
             "ticks": ""
            },
            "type": "contourcarpet"
           }
          ],
          "heatmap": [
           {
            "colorbar": {
             "outlinewidth": 0,
             "ticks": ""
            },
            "colorscale": [
             [
              0,
              "#0d0887"
             ],
             [
              0.1111111111111111,
              "#46039f"
             ],
             [
              0.2222222222222222,
              "#7201a8"
             ],
             [
              0.3333333333333333,
              "#9c179e"
             ],
             [
              0.4444444444444444,
              "#bd3786"
             ],
             [
              0.5555555555555556,
              "#d8576b"
             ],
             [
              0.6666666666666666,
              "#ed7953"
             ],
             [
              0.7777777777777778,
              "#fb9f3a"
             ],
             [
              0.8888888888888888,
              "#fdca26"
             ],
             [
              1,
              "#f0f921"
             ]
            ],
            "type": "heatmap"
           }
          ],
          "heatmapgl": [
           {
            "colorbar": {
             "outlinewidth": 0,
             "ticks": ""
            },
            "colorscale": [
             [
              0,
              "#0d0887"
             ],
             [
              0.1111111111111111,
              "#46039f"
             ],
             [
              0.2222222222222222,
              "#7201a8"
             ],
             [
              0.3333333333333333,
              "#9c179e"
             ],
             [
              0.4444444444444444,
              "#bd3786"
             ],
             [
              0.5555555555555556,
              "#d8576b"
             ],
             [
              0.6666666666666666,
              "#ed7953"
             ],
             [
              0.7777777777777778,
              "#fb9f3a"
             ],
             [
              0.8888888888888888,
              "#fdca26"
             ],
             [
              1,
              "#f0f921"
             ]
            ],
            "type": "heatmapgl"
           }
          ],
          "histogram": [
           {
            "marker": {
             "pattern": {
              "fillmode": "overlay",
              "size": 10,
              "solidity": 0.2
             }
            },
            "type": "histogram"
           }
          ],
          "histogram2d": [
           {
            "colorbar": {
             "outlinewidth": 0,
             "ticks": ""
            },
            "colorscale": [
             [
              0,
              "#0d0887"
             ],
             [
              0.1111111111111111,
              "#46039f"
             ],
             [
              0.2222222222222222,
              "#7201a8"
             ],
             [
              0.3333333333333333,
              "#9c179e"
             ],
             [
              0.4444444444444444,
              "#bd3786"
             ],
             [
              0.5555555555555556,
              "#d8576b"
             ],
             [
              0.6666666666666666,
              "#ed7953"
             ],
             [
              0.7777777777777778,
              "#fb9f3a"
             ],
             [
              0.8888888888888888,
              "#fdca26"
             ],
             [
              1,
              "#f0f921"
             ]
            ],
            "type": "histogram2d"
           }
          ],
          "histogram2dcontour": [
           {
            "colorbar": {
             "outlinewidth": 0,
             "ticks": ""
            },
            "colorscale": [
             [
              0,
              "#0d0887"
             ],
             [
              0.1111111111111111,
              "#46039f"
             ],
             [
              0.2222222222222222,
              "#7201a8"
             ],
             [
              0.3333333333333333,
              "#9c179e"
             ],
             [
              0.4444444444444444,
              "#bd3786"
             ],
             [
              0.5555555555555556,
              "#d8576b"
             ],
             [
              0.6666666666666666,
              "#ed7953"
             ],
             [
              0.7777777777777778,
              "#fb9f3a"
             ],
             [
              0.8888888888888888,
              "#fdca26"
             ],
             [
              1,
              "#f0f921"
             ]
            ],
            "type": "histogram2dcontour"
           }
          ],
          "mesh3d": [
           {
            "colorbar": {
             "outlinewidth": 0,
             "ticks": ""
            },
            "type": "mesh3d"
           }
          ],
          "parcoords": [
           {
            "line": {
             "colorbar": {
              "outlinewidth": 0,
              "ticks": ""
             }
            },
            "type": "parcoords"
           }
          ],
          "pie": [
           {
            "automargin": true,
            "type": "pie"
           }
          ],
          "scatter": [
           {
            "fillpattern": {
             "fillmode": "overlay",
             "size": 10,
             "solidity": 0.2
            },
            "type": "scatter"
           }
          ],
          "scatter3d": [
           {
            "line": {
             "colorbar": {
              "outlinewidth": 0,
              "ticks": ""
             }
            },
            "marker": {
             "colorbar": {
              "outlinewidth": 0,
              "ticks": ""
             }
            },
            "type": "scatter3d"
           }
          ],
          "scattercarpet": [
           {
            "marker": {
             "colorbar": {
              "outlinewidth": 0,
              "ticks": ""
             }
            },
            "type": "scattercarpet"
           }
          ],
          "scattergeo": [
           {
            "marker": {
             "colorbar": {
              "outlinewidth": 0,
              "ticks": ""
             }
            },
            "type": "scattergeo"
           }
          ],
          "scattergl": [
           {
            "marker": {
             "colorbar": {
              "outlinewidth": 0,
              "ticks": ""
             }
            },
            "type": "scattergl"
           }
          ],
          "scattermapbox": [
           {
            "marker": {
             "colorbar": {
              "outlinewidth": 0,
              "ticks": ""
             }
            },
            "type": "scattermapbox"
           }
          ],
          "scatterpolar": [
           {
            "marker": {
             "colorbar": {
              "outlinewidth": 0,
              "ticks": ""
             }
            },
            "type": "scatterpolar"
           }
          ],
          "scatterpolargl": [
           {
            "marker": {
             "colorbar": {
              "outlinewidth": 0,
              "ticks": ""
             }
            },
            "type": "scatterpolargl"
           }
          ],
          "scatterternary": [
           {
            "marker": {
             "colorbar": {
              "outlinewidth": 0,
              "ticks": ""
             }
            },
            "type": "scatterternary"
           }
          ],
          "surface": [
           {
            "colorbar": {
             "outlinewidth": 0,
             "ticks": ""
            },
            "colorscale": [
             [
              0,
              "#0d0887"
             ],
             [
              0.1111111111111111,
              "#46039f"
             ],
             [
              0.2222222222222222,
              "#7201a8"
             ],
             [
              0.3333333333333333,
              "#9c179e"
             ],
             [
              0.4444444444444444,
              "#bd3786"
             ],
             [
              0.5555555555555556,
              "#d8576b"
             ],
             [
              0.6666666666666666,
              "#ed7953"
             ],
             [
              0.7777777777777778,
              "#fb9f3a"
             ],
             [
              0.8888888888888888,
              "#fdca26"
             ],
             [
              1,
              "#f0f921"
             ]
            ],
            "type": "surface"
           }
          ],
          "table": [
           {
            "cells": {
             "fill": {
              "color": "#EBF0F8"
             },
             "line": {
              "color": "white"
             }
            },
            "header": {
             "fill": {
              "color": "#C8D4E3"
             },
             "line": {
              "color": "white"
             }
            },
            "type": "table"
           }
          ]
         },
         "layout": {
          "annotationdefaults": {
           "arrowcolor": "#2a3f5f",
           "arrowhead": 0,
           "arrowwidth": 1
          },
          "autotypenumbers": "strict",
          "coloraxis": {
           "colorbar": {
            "outlinewidth": 0,
            "ticks": ""
           }
          },
          "colorscale": {
           "diverging": [
            [
             0,
             "#8e0152"
            ],
            [
             0.1,
             "#c51b7d"
            ],
            [
             0.2,
             "#de77ae"
            ],
            [
             0.3,
             "#f1b6da"
            ],
            [
             0.4,
             "#fde0ef"
            ],
            [
             0.5,
             "#f7f7f7"
            ],
            [
             0.6,
             "#e6f5d0"
            ],
            [
             0.7,
             "#b8e186"
            ],
            [
             0.8,
             "#7fbc41"
            ],
            [
             0.9,
             "#4d9221"
            ],
            [
             1,
             "#276419"
            ]
           ],
           "sequential": [
            [
             0,
             "#0d0887"
            ],
            [
             0.1111111111111111,
             "#46039f"
            ],
            [
             0.2222222222222222,
             "#7201a8"
            ],
            [
             0.3333333333333333,
             "#9c179e"
            ],
            [
             0.4444444444444444,
             "#bd3786"
            ],
            [
             0.5555555555555556,
             "#d8576b"
            ],
            [
             0.6666666666666666,
             "#ed7953"
            ],
            [
             0.7777777777777778,
             "#fb9f3a"
            ],
            [
             0.8888888888888888,
             "#fdca26"
            ],
            [
             1,
             "#f0f921"
            ]
           ],
           "sequentialminus": [
            [
             0,
             "#0d0887"
            ],
            [
             0.1111111111111111,
             "#46039f"
            ],
            [
             0.2222222222222222,
             "#7201a8"
            ],
            [
             0.3333333333333333,
             "#9c179e"
            ],
            [
             0.4444444444444444,
             "#bd3786"
            ],
            [
             0.5555555555555556,
             "#d8576b"
            ],
            [
             0.6666666666666666,
             "#ed7953"
            ],
            [
             0.7777777777777778,
             "#fb9f3a"
            ],
            [
             0.8888888888888888,
             "#fdca26"
            ],
            [
             1,
             "#f0f921"
            ]
           ]
          },
          "colorway": [
           "#636efa",
           "#EF553B",
           "#00cc96",
           "#ab63fa",
           "#FFA15A",
           "#19d3f3",
           "#FF6692",
           "#B6E880",
           "#FF97FF",
           "#FECB52"
          ],
          "font": {
           "color": "#2a3f5f"
          },
          "geo": {
           "bgcolor": "white",
           "lakecolor": "white",
           "landcolor": "#E5ECF6",
           "showlakes": true,
           "showland": true,
           "subunitcolor": "white"
          },
          "hoverlabel": {
           "align": "left"
          },
          "hovermode": "closest",
          "mapbox": {
           "style": "light"
          },
          "paper_bgcolor": "white",
          "plot_bgcolor": "#E5ECF6",
          "polar": {
           "angularaxis": {
            "gridcolor": "white",
            "linecolor": "white",
            "ticks": ""
           },
           "bgcolor": "#E5ECF6",
           "radialaxis": {
            "gridcolor": "white",
            "linecolor": "white",
            "ticks": ""
           }
          },
          "scene": {
           "xaxis": {
            "backgroundcolor": "#E5ECF6",
            "gridcolor": "white",
            "gridwidth": 2,
            "linecolor": "white",
            "showbackground": true,
            "ticks": "",
            "zerolinecolor": "white"
           },
           "yaxis": {
            "backgroundcolor": "#E5ECF6",
            "gridcolor": "white",
            "gridwidth": 2,
            "linecolor": "white",
            "showbackground": true,
            "ticks": "",
            "zerolinecolor": "white"
           },
           "zaxis": {
            "backgroundcolor": "#E5ECF6",
            "gridcolor": "white",
            "gridwidth": 2,
            "linecolor": "white",
            "showbackground": true,
            "ticks": "",
            "zerolinecolor": "white"
           }
          },
          "shapedefaults": {
           "line": {
            "color": "#2a3f5f"
           }
          },
          "ternary": {
           "aaxis": {
            "gridcolor": "white",
            "linecolor": "white",
            "ticks": ""
           },
           "baxis": {
            "gridcolor": "white",
            "linecolor": "white",
            "ticks": ""
           },
           "bgcolor": "#E5ECF6",
           "caxis": {
            "gridcolor": "white",
            "linecolor": "white",
            "ticks": ""
           }
          },
          "title": {
           "x": 0.05
          },
          "xaxis": {
           "automargin": true,
           "gridcolor": "white",
           "linecolor": "white",
           "ticks": "",
           "title": {
            "standoff": 15
           },
           "zerolinecolor": "white",
           "zerolinewidth": 2
          },
          "yaxis": {
           "automargin": true,
           "gridcolor": "white",
           "linecolor": "white",
           "ticks": "",
           "title": {
            "standoff": 15
           },
           "zerolinecolor": "white",
           "zerolinewidth": 2
          }
         }
        },
        "title": {
         "text": "Slice Plot"
        },
        "xaxis": {
         "anchor": "y",
         "domain": [
          0,
          0.45
         ],
         "title": {
          "text": "max_depth"
         }
        },
        "xaxis2": {
         "anchor": "y2",
         "domain": [
          0.55,
          1
         ],
         "title": {
          "text": "n_estimators"
         }
        },
        "yaxis": {
         "anchor": "x",
         "domain": [
          0,
          1
         ],
         "title": {
          "text": "Objective Value"
         }
        },
        "yaxis2": {
         "anchor": "x2",
         "domain": [
          0,
          1
         ],
         "matches": "y",
         "showticklabels": false
        }
       }
      }
     },
     "metadata": {},
     "output_type": "display_data"
    }
   ],
   "source": [
    "# 3. Slice Plot\n",
    "plot_slice(study).show()"
   ]
  },
  {
   "cell_type": "code",
   "execution_count": 13,
   "id": "596157b5",
   "metadata": {},
   "outputs": [
    {
     "data": {
      "application/vnd.plotly.v1+json": {
       "config": {
        "plotlyServerURL": "https://plot.ly"
       },
       "data": [
        {
         "colorbar": {
          "title": {
           "text": "Objective Value"
          }
         },
         "colorscale": [
          [
           0,
           "rgb(247,251,255)"
          ],
          [
           0.125,
           "rgb(222,235,247)"
          ],
          [
           0.25,
           "rgb(198,219,239)"
          ],
          [
           0.375,
           "rgb(158,202,225)"
          ],
          [
           0.5,
           "rgb(107,174,214)"
          ],
          [
           0.625,
           "rgb(66,146,198)"
          ],
          [
           0.75,
           "rgb(33,113,181)"
          ],
          [
           0.875,
           "rgb(8,81,156)"
          ],
          [
           1,
           "rgb(8,48,107)"
          ]
         ],
         "connectgaps": true,
         "contours": {
          "coloring": "heatmap"
         },
         "hoverinfo": "none",
         "line": {
          "smoothing": 1.3
         },
         "reversescale": false,
         "type": "contour",
         "x": [
          2.15,
          3,
          5,
          6,
          7,
          8,
          10,
          12,
          13,
          14,
          15,
          16,
          17,
          18,
          19,
          20,
          20.85
         ],
         "y": [
          49.85,
          57,
          62,
          92,
          94,
          104,
          117,
          119,
          131,
          135,
          139,
          143,
          146,
          148,
          153,
          154,
          156,
          157,
          161,
          162,
          163,
          164,
          165,
          168,
          169,
          170,
          172,
          175,
          176,
          177,
          180,
          181,
          182,
          184,
          185,
          187,
          189,
          190,
          191,
          192,
          195,
          196,
          199,
          200,
          207.15
         ],
         "z": [
          [
           null,
           null,
           null,
           null,
           null,
           null,
           null,
           null,
           null,
           null,
           null,
           null,
           null,
           null,
           null,
           null,
           null
          ],
          [
           null,
           null,
           null,
           null,
           null,
           null,
           null,
           null,
           null,
           null,
           null,
           null,
           null,
           null,
           null,
           0.7615437867774316,
           null
          ],
          [
           null,
           null,
           null,
           null,
           null,
           null,
           0.7540671512634128,
           null,
           null,
           null,
           null,
           null,
           null,
           null,
           null,
           null,
           null
          ],
          [
           null,
           null,
           null,
           null,
           0.7615437867774315,
           null,
           null,
           null,
           null,
           null,
           null,
           null,
           null,
           null,
           null,
           null,
           null
          ],
          [
           null,
           null,
           null,
           null,
           null,
           null,
           null,
           null,
           null,
           0.7633956386292835,
           null,
           null,
           null,
           0.7615610938040845,
           null,
           null,
           null
          ],
          [
           null,
           null,
           null,
           null,
           null,
           null,
           null,
           null,
           0.7633956386292835,
           null,
           null,
           null,
           null,
           null,
           null,
           null,
           null
          ],
          [
           null,
           null,
           null,
           0.7615264797507788,
           null,
           null,
           null,
           0.7559190031152648,
           null,
           null,
           null,
           null,
           null,
           null,
           null,
           null,
           null
          ],
          [
           null,
           null,
           null,
           null,
           null,
           null,
           null,
           null,
           null,
           null,
           null,
           null,
           null,
           null,
           0.7559709241952233,
           null,
           null
          ],
          [
           null,
           null,
           null,
           null,
           null,
           null,
           null,
           null,
           null,
           null,
           null,
           null,
           null,
           null,
           null,
           0.7597092419522327,
           null
          ],
          [
           null,
           null,
           null,
           null,
           null,
           null,
           null,
           null,
           null,
           null,
           0.7596746278989268,
           null,
           null,
           null,
           null,
           null,
           null
          ],
          [
           null,
           null,
           null,
           null,
           null,
           null,
           null,
           0.7577708549671166,
           null,
           null,
           null,
           null,
           null,
           null,
           null,
           null,
           null
          ],
          [
           null,
           null,
           null,
           null,
           null,
           null,
           null,
           null,
           null,
           null,
           null,
           null,
           null,
           null,
           0.765282104534441,
           null,
           null
          ],
          [
           null,
           null,
           null,
           null,
           null,
           null,
           null,
           null,
           null,
           null,
           null,
           0.7671512634129456,
           null,
           null,
           null,
           null,
           null
          ],
          [
           null,
           null,
           null,
           null,
           null,
           null,
           null,
           null,
           null,
           null,
           null,
           null,
           null,
           null,
           null,
           0.7671339563862929,
           null
          ],
          [
           null,
           null,
           null,
           null,
           null,
           null,
           null,
           null,
           null,
           null,
           null,
           null,
           null,
           null,
           0.7633956386292835,
           null,
           null
          ],
          [
           null,
           null,
           null,
           null,
           null,
           null,
           null,
           null,
           null,
           null,
           null,
           null,
           0.7633956386292835,
           null,
           null,
           null,
           null
          ],
          [
           null,
           null,
           null,
           null,
           null,
           null,
           null,
           null,
           null,
           0.761509172724126,
           null,
           null,
           null,
           null,
           null,
           null,
           null
          ],
          [
           null,
           null,
           0.7522326064382139,
           null,
           null,
           null,
           null,
           null,
           null,
           null,
           null,
           null,
           null,
           null,
           null,
           null,
           null
          ],
          [
           null,
           null,
           null,
           null,
           null,
           null,
           null,
           null,
           null,
           null,
           null,
           null,
           null,
           null,
           null,
           0.7690204222914503,
           null
          ],
          [
           null,
           null,
           null,
           null,
           0.7634302526825891,
           null,
           null,
           null,
           null,
           null,
           null,
           null,
           null,
           null,
           null,
           null,
           null
          ],
          [
           null,
           null,
           null,
           null,
           null,
           null,
           null,
           null,
           null,
           null,
           null,
           null,
           null,
           null,
           null,
           0.7671512634129456,
           null
          ],
          [
           null,
           null,
           null,
           null,
           null,
           null,
           null,
           null,
           null,
           null,
           null,
           null,
           null,
           0.765282104534441,
           null,
           null,
           null
          ],
          [
           null,
           null,
           null,
           null,
           null,
           null,
           null,
           0.7540152301834544,
           null,
           null,
           null,
           null,
           null,
           null,
           null,
           null,
           null
          ],
          [
           null,
           null,
           null,
           null,
           null,
           null,
           null,
           null,
           null,
           null,
           null,
           0.7690031152647976,
           null,
           null,
           null,
           0.770889581169955,
           null
          ],
          [
           null,
           null,
           null,
           null,
           null,
           null,
           null,
           null,
           null,
           null,
           null,
           null,
           null,
           null,
           0.7671685704395985,
           null,
           null
          ],
          [
           null,
           null,
           null,
           null,
           null,
           null,
           null,
           null,
           null,
           null,
           0.7615610938040844,
           null,
           null,
           null,
           null,
           null,
           null
          ],
          [
           null,
           null,
           null,
           null,
           null,
           null,
           0.7633956386292835,
           null,
           null,
           null,
           null,
           null,
           null,
           null,
           null,
           null,
           null
          ],
          [
           null,
           null,
           null,
           null,
           null,
           null,
           null,
           null,
           null,
           null,
           null,
           null,
           0.7671512634129456,
           null,
           null,
           0.7671512634129456,
           null
          ],
          [
           null,
           null,
           null,
           null,
           null,
           null,
           null,
           null,
           null,
           null,
           null,
           null,
           0.7671685704395984,
           null,
           null,
           null,
           null
          ],
          [
           null,
           null,
           null,
           null,
           null,
           null,
           null,
           null,
           null,
           null,
           null,
           null,
           0.770889581169955,
           null,
           null,
           null,
           null
          ],
          [
           null,
           null,
           null,
           null,
           null,
           null,
           null,
           null,
           null,
           null,
           null,
           0.7690031152647976,
           null,
           0.7671685704395984,
           null,
           null,
           null
          ],
          [
           null,
           null,
           null,
           null,
           null,
           null,
           null,
           null,
           null,
           null,
           null,
           null,
           null,
           null,
           0.7653167185877466,
           0.7690204222914503,
           null
          ],
          [
           null,
           null,
           null,
           null,
           null,
           null,
           null,
           null,
           null,
           null,
           null,
           null,
           null,
           null,
           null,
           0.7690204222914503,
           null
          ],
          [
           null,
           null,
           null,
           null,
           null,
           null,
           null,
           null,
           null,
           null,
           null,
           null,
           null,
           null,
           null,
           0.7690204222914503,
           null
          ],
          [
           null,
           null,
           null,
           null,
           null,
           null,
           null,
           null,
           null,
           null,
           null,
           null,
           null,
           null,
           0.7690204222914503,
           null,
           null
          ],
          [
           null,
           null,
           null,
           null,
           null,
           null,
           null,
           null,
           null,
           null,
           null,
           null,
           null,
           0.7671685704395984,
           null,
           null,
           null
          ],
          [
           null,
           null,
           null,
           null,
           null,
           0.763430252682589,
           null,
           null,
           null,
           null,
           null,
           null,
           null,
           null,
           null,
           null,
           null
          ],
          [
           null,
           null,
           null,
           null,
           null,
           null,
           null,
           null,
           null,
           null,
           null,
           null,
           null,
           0.7671685704395984,
           null,
           null,
           null
          ],
          [
           null,
           null,
           null,
           null,
           null,
           null,
           null,
           null,
           null,
           null,
           null,
           null,
           0.7671685704395984,
           null,
           null,
           null,
           null
          ],
          [
           null,
           null,
           null,
           null,
           null,
           null,
           null,
           null,
           null,
           null,
           null,
           0.7652994115610937,
           null,
           null,
           null,
           null,
           null
          ],
          [
           null,
           null,
           null,
           null,
           null,
           null,
           null,
           null,
           null,
           null,
           null,
           null,
           null,
           null,
           0.7652994115610937,
           null,
           null
          ],
          [
           null,
           0.7522672204915196,
           null,
           null,
           null,
           null,
           null,
           null,
           null,
           null,
           null,
           null,
           null,
           null,
           null,
           null,
           null
          ],
          [
           null,
           null,
           null,
           null,
           null,
           null,
           null,
           null,
           null,
           null,
           null,
           null,
           0.7671685704395984,
           null,
           null,
           null,
           null
          ],
          [
           null,
           null,
           null,
           null,
           null,
           null,
           null,
           null,
           null,
           null,
           0.7652994115610937,
           null,
           null,
           null,
           null,
           null,
           null
          ],
          [
           null,
           null,
           null,
           null,
           null,
           null,
           null,
           null,
           null,
           null,
           null,
           null,
           null,
           null,
           null,
           null,
           null
          ]
         ]
        },
        {
         "marker": {
          "color": "black",
          "line": {
           "color": "Gray",
           "width": 2
          }
         },
         "mode": "markers",
         "name": "Feasible Trial",
         "showlegend": false,
         "type": "scatter",
         "x": [
          12,
          7,
          14,
          16,
          7,
          6,
          8,
          12,
          17,
          12,
          20,
          3,
          16,
          16,
          19,
          17,
          15,
          10,
          18,
          15,
          14,
          17,
          20,
          20,
          20,
          19,
          20,
          18,
          18,
          19,
          20,
          20,
          18,
          19,
          17,
          20,
          13,
          10,
          19,
          17,
          15,
          19,
          18,
          20,
          19,
          17,
          20,
          5,
          16,
          19
         ],
         "y": [
          117,
          162,
          94,
          146,
          92,
          117,
          189,
          165,
          154,
          139,
          57,
          196,
          168,
          180,
          181,
          176,
          135,
          172,
          190,
          200,
          156,
          177,
          182,
          168,
          131,
          153,
          181,
          187,
          94,
          119,
          148,
          175,
          164,
          185,
          199,
          161,
          104,
          62,
          143,
          191,
          170,
          185,
          180,
          163,
          195,
          175,
          184,
          157,
          192,
          169
         ]
        },
        {
         "marker": {
          "color": "#cccccc",
          "line": {
           "color": "Gray",
           "width": 2
          }
         },
         "mode": "markers",
         "name": "Infeasible Trial",
         "showlegend": false,
         "type": "scatter",
         "x": [],
         "y": []
        }
       ],
       "layout": {
        "template": {
         "data": {
          "bar": [
           {
            "error_x": {
             "color": "#2a3f5f"
            },
            "error_y": {
             "color": "#2a3f5f"
            },
            "marker": {
             "line": {
              "color": "#E5ECF6",
              "width": 0.5
             },
             "pattern": {
              "fillmode": "overlay",
              "size": 10,
              "solidity": 0.2
             }
            },
            "type": "bar"
           }
          ],
          "barpolar": [
           {
            "marker": {
             "line": {
              "color": "#E5ECF6",
              "width": 0.5
             },
             "pattern": {
              "fillmode": "overlay",
              "size": 10,
              "solidity": 0.2
             }
            },
            "type": "barpolar"
           }
          ],
          "carpet": [
           {
            "aaxis": {
             "endlinecolor": "#2a3f5f",
             "gridcolor": "white",
             "linecolor": "white",
             "minorgridcolor": "white",
             "startlinecolor": "#2a3f5f"
            },
            "baxis": {
             "endlinecolor": "#2a3f5f",
             "gridcolor": "white",
             "linecolor": "white",
             "minorgridcolor": "white",
             "startlinecolor": "#2a3f5f"
            },
            "type": "carpet"
           }
          ],
          "choropleth": [
           {
            "colorbar": {
             "outlinewidth": 0,
             "ticks": ""
            },
            "type": "choropleth"
           }
          ],
          "contour": [
           {
            "colorbar": {
             "outlinewidth": 0,
             "ticks": ""
            },
            "colorscale": [
             [
              0,
              "#0d0887"
             ],
             [
              0.1111111111111111,
              "#46039f"
             ],
             [
              0.2222222222222222,
              "#7201a8"
             ],
             [
              0.3333333333333333,
              "#9c179e"
             ],
             [
              0.4444444444444444,
              "#bd3786"
             ],
             [
              0.5555555555555556,
              "#d8576b"
             ],
             [
              0.6666666666666666,
              "#ed7953"
             ],
             [
              0.7777777777777778,
              "#fb9f3a"
             ],
             [
              0.8888888888888888,
              "#fdca26"
             ],
             [
              1,
              "#f0f921"
             ]
            ],
            "type": "contour"
           }
          ],
          "contourcarpet": [
           {
            "colorbar": {
             "outlinewidth": 0,
             "ticks": ""
            },
            "type": "contourcarpet"
           }
          ],
          "heatmap": [
           {
            "colorbar": {
             "outlinewidth": 0,
             "ticks": ""
            },
            "colorscale": [
             [
              0,
              "#0d0887"
             ],
             [
              0.1111111111111111,
              "#46039f"
             ],
             [
              0.2222222222222222,
              "#7201a8"
             ],
             [
              0.3333333333333333,
              "#9c179e"
             ],
             [
              0.4444444444444444,
              "#bd3786"
             ],
             [
              0.5555555555555556,
              "#d8576b"
             ],
             [
              0.6666666666666666,
              "#ed7953"
             ],
             [
              0.7777777777777778,
              "#fb9f3a"
             ],
             [
              0.8888888888888888,
              "#fdca26"
             ],
             [
              1,
              "#f0f921"
             ]
            ],
            "type": "heatmap"
           }
          ],
          "heatmapgl": [
           {
            "colorbar": {
             "outlinewidth": 0,
             "ticks": ""
            },
            "colorscale": [
             [
              0,
              "#0d0887"
             ],
             [
              0.1111111111111111,
              "#46039f"
             ],
             [
              0.2222222222222222,
              "#7201a8"
             ],
             [
              0.3333333333333333,
              "#9c179e"
             ],
             [
              0.4444444444444444,
              "#bd3786"
             ],
             [
              0.5555555555555556,
              "#d8576b"
             ],
             [
              0.6666666666666666,
              "#ed7953"
             ],
             [
              0.7777777777777778,
              "#fb9f3a"
             ],
             [
              0.8888888888888888,
              "#fdca26"
             ],
             [
              1,
              "#f0f921"
             ]
            ],
            "type": "heatmapgl"
           }
          ],
          "histogram": [
           {
            "marker": {
             "pattern": {
              "fillmode": "overlay",
              "size": 10,
              "solidity": 0.2
             }
            },
            "type": "histogram"
           }
          ],
          "histogram2d": [
           {
            "colorbar": {
             "outlinewidth": 0,
             "ticks": ""
            },
            "colorscale": [
             [
              0,
              "#0d0887"
             ],
             [
              0.1111111111111111,
              "#46039f"
             ],
             [
              0.2222222222222222,
              "#7201a8"
             ],
             [
              0.3333333333333333,
              "#9c179e"
             ],
             [
              0.4444444444444444,
              "#bd3786"
             ],
             [
              0.5555555555555556,
              "#d8576b"
             ],
             [
              0.6666666666666666,
              "#ed7953"
             ],
             [
              0.7777777777777778,
              "#fb9f3a"
             ],
             [
              0.8888888888888888,
              "#fdca26"
             ],
             [
              1,
              "#f0f921"
             ]
            ],
            "type": "histogram2d"
           }
          ],
          "histogram2dcontour": [
           {
            "colorbar": {
             "outlinewidth": 0,
             "ticks": ""
            },
            "colorscale": [
             [
              0,
              "#0d0887"
             ],
             [
              0.1111111111111111,
              "#46039f"
             ],
             [
              0.2222222222222222,
              "#7201a8"
             ],
             [
              0.3333333333333333,
              "#9c179e"
             ],
             [
              0.4444444444444444,
              "#bd3786"
             ],
             [
              0.5555555555555556,
              "#d8576b"
             ],
             [
              0.6666666666666666,
              "#ed7953"
             ],
             [
              0.7777777777777778,
              "#fb9f3a"
             ],
             [
              0.8888888888888888,
              "#fdca26"
             ],
             [
              1,
              "#f0f921"
             ]
            ],
            "type": "histogram2dcontour"
           }
          ],
          "mesh3d": [
           {
            "colorbar": {
             "outlinewidth": 0,
             "ticks": ""
            },
            "type": "mesh3d"
           }
          ],
          "parcoords": [
           {
            "line": {
             "colorbar": {
              "outlinewidth": 0,
              "ticks": ""
             }
            },
            "type": "parcoords"
           }
          ],
          "pie": [
           {
            "automargin": true,
            "type": "pie"
           }
          ],
          "scatter": [
           {
            "fillpattern": {
             "fillmode": "overlay",
             "size": 10,
             "solidity": 0.2
            },
            "type": "scatter"
           }
          ],
          "scatter3d": [
           {
            "line": {
             "colorbar": {
              "outlinewidth": 0,
              "ticks": ""
             }
            },
            "marker": {
             "colorbar": {
              "outlinewidth": 0,
              "ticks": ""
             }
            },
            "type": "scatter3d"
           }
          ],
          "scattercarpet": [
           {
            "marker": {
             "colorbar": {
              "outlinewidth": 0,
              "ticks": ""
             }
            },
            "type": "scattercarpet"
           }
          ],
          "scattergeo": [
           {
            "marker": {
             "colorbar": {
              "outlinewidth": 0,
              "ticks": ""
             }
            },
            "type": "scattergeo"
           }
          ],
          "scattergl": [
           {
            "marker": {
             "colorbar": {
              "outlinewidth": 0,
              "ticks": ""
             }
            },
            "type": "scattergl"
           }
          ],
          "scattermapbox": [
           {
            "marker": {
             "colorbar": {
              "outlinewidth": 0,
              "ticks": ""
             }
            },
            "type": "scattermapbox"
           }
          ],
          "scatterpolar": [
           {
            "marker": {
             "colorbar": {
              "outlinewidth": 0,
              "ticks": ""
             }
            },
            "type": "scatterpolar"
           }
          ],
          "scatterpolargl": [
           {
            "marker": {
             "colorbar": {
              "outlinewidth": 0,
              "ticks": ""
             }
            },
            "type": "scatterpolargl"
           }
          ],
          "scatterternary": [
           {
            "marker": {
             "colorbar": {
              "outlinewidth": 0,
              "ticks": ""
             }
            },
            "type": "scatterternary"
           }
          ],
          "surface": [
           {
            "colorbar": {
             "outlinewidth": 0,
             "ticks": ""
            },
            "colorscale": [
             [
              0,
              "#0d0887"
             ],
             [
              0.1111111111111111,
              "#46039f"
             ],
             [
              0.2222222222222222,
              "#7201a8"
             ],
             [
              0.3333333333333333,
              "#9c179e"
             ],
             [
              0.4444444444444444,
              "#bd3786"
             ],
             [
              0.5555555555555556,
              "#d8576b"
             ],
             [
              0.6666666666666666,
              "#ed7953"
             ],
             [
              0.7777777777777778,
              "#fb9f3a"
             ],
             [
              0.8888888888888888,
              "#fdca26"
             ],
             [
              1,
              "#f0f921"
             ]
            ],
            "type": "surface"
           }
          ],
          "table": [
           {
            "cells": {
             "fill": {
              "color": "#EBF0F8"
             },
             "line": {
              "color": "white"
             }
            },
            "header": {
             "fill": {
              "color": "#C8D4E3"
             },
             "line": {
              "color": "white"
             }
            },
            "type": "table"
           }
          ]
         },
         "layout": {
          "annotationdefaults": {
           "arrowcolor": "#2a3f5f",
           "arrowhead": 0,
           "arrowwidth": 1
          },
          "autotypenumbers": "strict",
          "coloraxis": {
           "colorbar": {
            "outlinewidth": 0,
            "ticks": ""
           }
          },
          "colorscale": {
           "diverging": [
            [
             0,
             "#8e0152"
            ],
            [
             0.1,
             "#c51b7d"
            ],
            [
             0.2,
             "#de77ae"
            ],
            [
             0.3,
             "#f1b6da"
            ],
            [
             0.4,
             "#fde0ef"
            ],
            [
             0.5,
             "#f7f7f7"
            ],
            [
             0.6,
             "#e6f5d0"
            ],
            [
             0.7,
             "#b8e186"
            ],
            [
             0.8,
             "#7fbc41"
            ],
            [
             0.9,
             "#4d9221"
            ],
            [
             1,
             "#276419"
            ]
           ],
           "sequential": [
            [
             0,
             "#0d0887"
            ],
            [
             0.1111111111111111,
             "#46039f"
            ],
            [
             0.2222222222222222,
             "#7201a8"
            ],
            [
             0.3333333333333333,
             "#9c179e"
            ],
            [
             0.4444444444444444,
             "#bd3786"
            ],
            [
             0.5555555555555556,
             "#d8576b"
            ],
            [
             0.6666666666666666,
             "#ed7953"
            ],
            [
             0.7777777777777778,
             "#fb9f3a"
            ],
            [
             0.8888888888888888,
             "#fdca26"
            ],
            [
             1,
             "#f0f921"
            ]
           ],
           "sequentialminus": [
            [
             0,
             "#0d0887"
            ],
            [
             0.1111111111111111,
             "#46039f"
            ],
            [
             0.2222222222222222,
             "#7201a8"
            ],
            [
             0.3333333333333333,
             "#9c179e"
            ],
            [
             0.4444444444444444,
             "#bd3786"
            ],
            [
             0.5555555555555556,
             "#d8576b"
            ],
            [
             0.6666666666666666,
             "#ed7953"
            ],
            [
             0.7777777777777778,
             "#fb9f3a"
            ],
            [
             0.8888888888888888,
             "#fdca26"
            ],
            [
             1,
             "#f0f921"
            ]
           ]
          },
          "colorway": [
           "#636efa",
           "#EF553B",
           "#00cc96",
           "#ab63fa",
           "#FFA15A",
           "#19d3f3",
           "#FF6692",
           "#B6E880",
           "#FF97FF",
           "#FECB52"
          ],
          "font": {
           "color": "#2a3f5f"
          },
          "geo": {
           "bgcolor": "white",
           "lakecolor": "white",
           "landcolor": "#E5ECF6",
           "showlakes": true,
           "showland": true,
           "subunitcolor": "white"
          },
          "hoverlabel": {
           "align": "left"
          },
          "hovermode": "closest",
          "mapbox": {
           "style": "light"
          },
          "paper_bgcolor": "white",
          "plot_bgcolor": "#E5ECF6",
          "polar": {
           "angularaxis": {
            "gridcolor": "white",
            "linecolor": "white",
            "ticks": ""
           },
           "bgcolor": "#E5ECF6",
           "radialaxis": {
            "gridcolor": "white",
            "linecolor": "white",
            "ticks": ""
           }
          },
          "scene": {
           "xaxis": {
            "backgroundcolor": "#E5ECF6",
            "gridcolor": "white",
            "gridwidth": 2,
            "linecolor": "white",
            "showbackground": true,
            "ticks": "",
            "zerolinecolor": "white"
           },
           "yaxis": {
            "backgroundcolor": "#E5ECF6",
            "gridcolor": "white",
            "gridwidth": 2,
            "linecolor": "white",
            "showbackground": true,
            "ticks": "",
            "zerolinecolor": "white"
           },
           "zaxis": {
            "backgroundcolor": "#E5ECF6",
            "gridcolor": "white",
            "gridwidth": 2,
            "linecolor": "white",
            "showbackground": true,
            "ticks": "",
            "zerolinecolor": "white"
           }
          },
          "shapedefaults": {
           "line": {
            "color": "#2a3f5f"
           }
          },
          "ternary": {
           "aaxis": {
            "gridcolor": "white",
            "linecolor": "white",
            "ticks": ""
           },
           "baxis": {
            "gridcolor": "white",
            "linecolor": "white",
            "ticks": ""
           },
           "bgcolor": "#E5ECF6",
           "caxis": {
            "gridcolor": "white",
            "linecolor": "white",
            "ticks": ""
           }
          },
          "title": {
           "x": 0.05
          },
          "xaxis": {
           "automargin": true,
           "gridcolor": "white",
           "linecolor": "white",
           "ticks": "",
           "title": {
            "standoff": 15
           },
           "zerolinecolor": "white",
           "zerolinewidth": 2
          },
          "yaxis": {
           "automargin": true,
           "gridcolor": "white",
           "linecolor": "white",
           "ticks": "",
           "title": {
            "standoff": 15
           },
           "zerolinecolor": "white",
           "zerolinewidth": 2
          }
         }
        },
        "title": {
         "text": "Contour Plot"
        },
        "xaxis": {
         "range": [
          2.15,
          20.85
         ],
         "title": {
          "text": "max_depth"
         }
        },
        "yaxis": {
         "range": [
          49.85,
          207.15
         ],
         "title": {
          "text": "n_estimators"
         }
        }
       }
      }
     },
     "metadata": {},
     "output_type": "display_data"
    }
   ],
   "source": [
    "# 4. Contour Plot\n",
    "plot_contour(study).show()"
   ]
  },
  {
   "cell_type": "code",
   "execution_count": 14,
   "id": "dd834b7c",
   "metadata": {},
   "outputs": [
    {
     "data": {
      "application/vnd.plotly.v1+json": {
       "config": {
        "plotlyServerURL": "https://plot.ly"
       },
       "data": [
        {
         "cliponaxis": false,
         "hovertemplate": [
          "n_estimators (IntDistribution): 0.42572689974913097<extra></extra>",
          "max_depth (IntDistribution): 0.5742731002508691<extra></extra>"
         ],
         "name": "Objective Value",
         "orientation": "h",
         "text": [
          "0.43",
          "0.57"
         ],
         "textposition": "outside",
         "type": "bar",
         "x": [
          0.42572689974913097,
          0.5742731002508691
         ],
         "y": [
          "n_estimators",
          "max_depth"
         ]
        }
       ],
       "layout": {
        "template": {
         "data": {
          "bar": [
           {
            "error_x": {
             "color": "#2a3f5f"
            },
            "error_y": {
             "color": "#2a3f5f"
            },
            "marker": {
             "line": {
              "color": "#E5ECF6",
              "width": 0.5
             },
             "pattern": {
              "fillmode": "overlay",
              "size": 10,
              "solidity": 0.2
             }
            },
            "type": "bar"
           }
          ],
          "barpolar": [
           {
            "marker": {
             "line": {
              "color": "#E5ECF6",
              "width": 0.5
             },
             "pattern": {
              "fillmode": "overlay",
              "size": 10,
              "solidity": 0.2
             }
            },
            "type": "barpolar"
           }
          ],
          "carpet": [
           {
            "aaxis": {
             "endlinecolor": "#2a3f5f",
             "gridcolor": "white",
             "linecolor": "white",
             "minorgridcolor": "white",
             "startlinecolor": "#2a3f5f"
            },
            "baxis": {
             "endlinecolor": "#2a3f5f",
             "gridcolor": "white",
             "linecolor": "white",
             "minorgridcolor": "white",
             "startlinecolor": "#2a3f5f"
            },
            "type": "carpet"
           }
          ],
          "choropleth": [
           {
            "colorbar": {
             "outlinewidth": 0,
             "ticks": ""
            },
            "type": "choropleth"
           }
          ],
          "contour": [
           {
            "colorbar": {
             "outlinewidth": 0,
             "ticks": ""
            },
            "colorscale": [
             [
              0,
              "#0d0887"
             ],
             [
              0.1111111111111111,
              "#46039f"
             ],
             [
              0.2222222222222222,
              "#7201a8"
             ],
             [
              0.3333333333333333,
              "#9c179e"
             ],
             [
              0.4444444444444444,
              "#bd3786"
             ],
             [
              0.5555555555555556,
              "#d8576b"
             ],
             [
              0.6666666666666666,
              "#ed7953"
             ],
             [
              0.7777777777777778,
              "#fb9f3a"
             ],
             [
              0.8888888888888888,
              "#fdca26"
             ],
             [
              1,
              "#f0f921"
             ]
            ],
            "type": "contour"
           }
          ],
          "contourcarpet": [
           {
            "colorbar": {
             "outlinewidth": 0,
             "ticks": ""
            },
            "type": "contourcarpet"
           }
          ],
          "heatmap": [
           {
            "colorbar": {
             "outlinewidth": 0,
             "ticks": ""
            },
            "colorscale": [
             [
              0,
              "#0d0887"
             ],
             [
              0.1111111111111111,
              "#46039f"
             ],
             [
              0.2222222222222222,
              "#7201a8"
             ],
             [
              0.3333333333333333,
              "#9c179e"
             ],
             [
              0.4444444444444444,
              "#bd3786"
             ],
             [
              0.5555555555555556,
              "#d8576b"
             ],
             [
              0.6666666666666666,
              "#ed7953"
             ],
             [
              0.7777777777777778,
              "#fb9f3a"
             ],
             [
              0.8888888888888888,
              "#fdca26"
             ],
             [
              1,
              "#f0f921"
             ]
            ],
            "type": "heatmap"
           }
          ],
          "heatmapgl": [
           {
            "colorbar": {
             "outlinewidth": 0,
             "ticks": ""
            },
            "colorscale": [
             [
              0,
              "#0d0887"
             ],
             [
              0.1111111111111111,
              "#46039f"
             ],
             [
              0.2222222222222222,
              "#7201a8"
             ],
             [
              0.3333333333333333,
              "#9c179e"
             ],
             [
              0.4444444444444444,
              "#bd3786"
             ],
             [
              0.5555555555555556,
              "#d8576b"
             ],
             [
              0.6666666666666666,
              "#ed7953"
             ],
             [
              0.7777777777777778,
              "#fb9f3a"
             ],
             [
              0.8888888888888888,
              "#fdca26"
             ],
             [
              1,
              "#f0f921"
             ]
            ],
            "type": "heatmapgl"
           }
          ],
          "histogram": [
           {
            "marker": {
             "pattern": {
              "fillmode": "overlay",
              "size": 10,
              "solidity": 0.2
             }
            },
            "type": "histogram"
           }
          ],
          "histogram2d": [
           {
            "colorbar": {
             "outlinewidth": 0,
             "ticks": ""
            },
            "colorscale": [
             [
              0,
              "#0d0887"
             ],
             [
              0.1111111111111111,
              "#46039f"
             ],
             [
              0.2222222222222222,
              "#7201a8"
             ],
             [
              0.3333333333333333,
              "#9c179e"
             ],
             [
              0.4444444444444444,
              "#bd3786"
             ],
             [
              0.5555555555555556,
              "#d8576b"
             ],
             [
              0.6666666666666666,
              "#ed7953"
             ],
             [
              0.7777777777777778,
              "#fb9f3a"
             ],
             [
              0.8888888888888888,
              "#fdca26"
             ],
             [
              1,
              "#f0f921"
             ]
            ],
            "type": "histogram2d"
           }
          ],
          "histogram2dcontour": [
           {
            "colorbar": {
             "outlinewidth": 0,
             "ticks": ""
            },
            "colorscale": [
             [
              0,
              "#0d0887"
             ],
             [
              0.1111111111111111,
              "#46039f"
             ],
             [
              0.2222222222222222,
              "#7201a8"
             ],
             [
              0.3333333333333333,
              "#9c179e"
             ],
             [
              0.4444444444444444,
              "#bd3786"
             ],
             [
              0.5555555555555556,
              "#d8576b"
             ],
             [
              0.6666666666666666,
              "#ed7953"
             ],
             [
              0.7777777777777778,
              "#fb9f3a"
             ],
             [
              0.8888888888888888,
              "#fdca26"
             ],
             [
              1,
              "#f0f921"
             ]
            ],
            "type": "histogram2dcontour"
           }
          ],
          "mesh3d": [
           {
            "colorbar": {
             "outlinewidth": 0,
             "ticks": ""
            },
            "type": "mesh3d"
           }
          ],
          "parcoords": [
           {
            "line": {
             "colorbar": {
              "outlinewidth": 0,
              "ticks": ""
             }
            },
            "type": "parcoords"
           }
          ],
          "pie": [
           {
            "automargin": true,
            "type": "pie"
           }
          ],
          "scatter": [
           {
            "fillpattern": {
             "fillmode": "overlay",
             "size": 10,
             "solidity": 0.2
            },
            "type": "scatter"
           }
          ],
          "scatter3d": [
           {
            "line": {
             "colorbar": {
              "outlinewidth": 0,
              "ticks": ""
             }
            },
            "marker": {
             "colorbar": {
              "outlinewidth": 0,
              "ticks": ""
             }
            },
            "type": "scatter3d"
           }
          ],
          "scattercarpet": [
           {
            "marker": {
             "colorbar": {
              "outlinewidth": 0,
              "ticks": ""
             }
            },
            "type": "scattercarpet"
           }
          ],
          "scattergeo": [
           {
            "marker": {
             "colorbar": {
              "outlinewidth": 0,
              "ticks": ""
             }
            },
            "type": "scattergeo"
           }
          ],
          "scattergl": [
           {
            "marker": {
             "colorbar": {
              "outlinewidth": 0,
              "ticks": ""
             }
            },
            "type": "scattergl"
           }
          ],
          "scattermapbox": [
           {
            "marker": {
             "colorbar": {
              "outlinewidth": 0,
              "ticks": ""
             }
            },
            "type": "scattermapbox"
           }
          ],
          "scatterpolar": [
           {
            "marker": {
             "colorbar": {
              "outlinewidth": 0,
              "ticks": ""
             }
            },
            "type": "scatterpolar"
           }
          ],
          "scatterpolargl": [
           {
            "marker": {
             "colorbar": {
              "outlinewidth": 0,
              "ticks": ""
             }
            },
            "type": "scatterpolargl"
           }
          ],
          "scatterternary": [
           {
            "marker": {
             "colorbar": {
              "outlinewidth": 0,
              "ticks": ""
             }
            },
            "type": "scatterternary"
           }
          ],
          "surface": [
           {
            "colorbar": {
             "outlinewidth": 0,
             "ticks": ""
            },
            "colorscale": [
             [
              0,
              "#0d0887"
             ],
             [
              0.1111111111111111,
              "#46039f"
             ],
             [
              0.2222222222222222,
              "#7201a8"
             ],
             [
              0.3333333333333333,
              "#9c179e"
             ],
             [
              0.4444444444444444,
              "#bd3786"
             ],
             [
              0.5555555555555556,
              "#d8576b"
             ],
             [
              0.6666666666666666,
              "#ed7953"
             ],
             [
              0.7777777777777778,
              "#fb9f3a"
             ],
             [
              0.8888888888888888,
              "#fdca26"
             ],
             [
              1,
              "#f0f921"
             ]
            ],
            "type": "surface"
           }
          ],
          "table": [
           {
            "cells": {
             "fill": {
              "color": "#EBF0F8"
             },
             "line": {
              "color": "white"
             }
            },
            "header": {
             "fill": {
              "color": "#C8D4E3"
             },
             "line": {
              "color": "white"
             }
            },
            "type": "table"
           }
          ]
         },
         "layout": {
          "annotationdefaults": {
           "arrowcolor": "#2a3f5f",
           "arrowhead": 0,
           "arrowwidth": 1
          },
          "autotypenumbers": "strict",
          "coloraxis": {
           "colorbar": {
            "outlinewidth": 0,
            "ticks": ""
           }
          },
          "colorscale": {
           "diverging": [
            [
             0,
             "#8e0152"
            ],
            [
             0.1,
             "#c51b7d"
            ],
            [
             0.2,
             "#de77ae"
            ],
            [
             0.3,
             "#f1b6da"
            ],
            [
             0.4,
             "#fde0ef"
            ],
            [
             0.5,
             "#f7f7f7"
            ],
            [
             0.6,
             "#e6f5d0"
            ],
            [
             0.7,
             "#b8e186"
            ],
            [
             0.8,
             "#7fbc41"
            ],
            [
             0.9,
             "#4d9221"
            ],
            [
             1,
             "#276419"
            ]
           ],
           "sequential": [
            [
             0,
             "#0d0887"
            ],
            [
             0.1111111111111111,
             "#46039f"
            ],
            [
             0.2222222222222222,
             "#7201a8"
            ],
            [
             0.3333333333333333,
             "#9c179e"
            ],
            [
             0.4444444444444444,
             "#bd3786"
            ],
            [
             0.5555555555555556,
             "#d8576b"
            ],
            [
             0.6666666666666666,
             "#ed7953"
            ],
            [
             0.7777777777777778,
             "#fb9f3a"
            ],
            [
             0.8888888888888888,
             "#fdca26"
            ],
            [
             1,
             "#f0f921"
            ]
           ],
           "sequentialminus": [
            [
             0,
             "#0d0887"
            ],
            [
             0.1111111111111111,
             "#46039f"
            ],
            [
             0.2222222222222222,
             "#7201a8"
            ],
            [
             0.3333333333333333,
             "#9c179e"
            ],
            [
             0.4444444444444444,
             "#bd3786"
            ],
            [
             0.5555555555555556,
             "#d8576b"
            ],
            [
             0.6666666666666666,
             "#ed7953"
            ],
            [
             0.7777777777777778,
             "#fb9f3a"
            ],
            [
             0.8888888888888888,
             "#fdca26"
            ],
            [
             1,
             "#f0f921"
            ]
           ]
          },
          "colorway": [
           "#636efa",
           "#EF553B",
           "#00cc96",
           "#ab63fa",
           "#FFA15A",
           "#19d3f3",
           "#FF6692",
           "#B6E880",
           "#FF97FF",
           "#FECB52"
          ],
          "font": {
           "color": "#2a3f5f"
          },
          "geo": {
           "bgcolor": "white",
           "lakecolor": "white",
           "landcolor": "#E5ECF6",
           "showlakes": true,
           "showland": true,
           "subunitcolor": "white"
          },
          "hoverlabel": {
           "align": "left"
          },
          "hovermode": "closest",
          "mapbox": {
           "style": "light"
          },
          "paper_bgcolor": "white",
          "plot_bgcolor": "#E5ECF6",
          "polar": {
           "angularaxis": {
            "gridcolor": "white",
            "linecolor": "white",
            "ticks": ""
           },
           "bgcolor": "#E5ECF6",
           "radialaxis": {
            "gridcolor": "white",
            "linecolor": "white",
            "ticks": ""
           }
          },
          "scene": {
           "xaxis": {
            "backgroundcolor": "#E5ECF6",
            "gridcolor": "white",
            "gridwidth": 2,
            "linecolor": "white",
            "showbackground": true,
            "ticks": "",
            "zerolinecolor": "white"
           },
           "yaxis": {
            "backgroundcolor": "#E5ECF6",
            "gridcolor": "white",
            "gridwidth": 2,
            "linecolor": "white",
            "showbackground": true,
            "ticks": "",
            "zerolinecolor": "white"
           },
           "zaxis": {
            "backgroundcolor": "#E5ECF6",
            "gridcolor": "white",
            "gridwidth": 2,
            "linecolor": "white",
            "showbackground": true,
            "ticks": "",
            "zerolinecolor": "white"
           }
          },
          "shapedefaults": {
           "line": {
            "color": "#2a3f5f"
           }
          },
          "ternary": {
           "aaxis": {
            "gridcolor": "white",
            "linecolor": "white",
            "ticks": ""
           },
           "baxis": {
            "gridcolor": "white",
            "linecolor": "white",
            "ticks": ""
           },
           "bgcolor": "#E5ECF6",
           "caxis": {
            "gridcolor": "white",
            "linecolor": "white",
            "ticks": ""
           }
          },
          "title": {
           "x": 0.05
          },
          "xaxis": {
           "automargin": true,
           "gridcolor": "white",
           "linecolor": "white",
           "ticks": "",
           "title": {
            "standoff": 15
           },
           "zerolinecolor": "white",
           "zerolinewidth": 2
          },
          "yaxis": {
           "automargin": true,
           "gridcolor": "white",
           "linecolor": "white",
           "ticks": "",
           "title": {
            "standoff": 15
           },
           "zerolinecolor": "white",
           "zerolinewidth": 2
          }
         }
        },
        "title": {
         "text": "Hyperparameter Importances"
        },
        "xaxis": {
         "title": {
          "text": "Hyperparameter Importance"
         }
        },
        "yaxis": {
         "title": {
          "text": "Hyperparameter"
         }
        }
       }
      }
     },
     "metadata": {},
     "output_type": "display_data"
    }
   ],
   "source": [
    "# 5. Hyperparameter Importance\n",
    "plot_param_importances(study).show()"
   ]
  },
  {
   "cell_type": "markdown",
   "id": "c0b0e981",
   "metadata": {},
   "source": [
    "## Optimizing Multiple ML Model"
   ]
  },
  {
   "cell_type": "code",
   "execution_count": 15,
   "id": "5d4d5de6",
   "metadata": {},
   "outputs": [],
   "source": [
    "from sklearn.ensemble import RandomForestClassifier, GradientBoostingClassifier\n",
    "from sklearn.svm import SVC"
   ]
  },
  {
   "cell_type": "code",
   "execution_count": 18,
   "id": "5d09c5c4",
   "metadata": {},
   "outputs": [],
   "source": [
    "def objective(trial):\n",
    "    classifier_name = trial.suggest_categorical(\n",
    "        'classifier', ['SVM', 'RandomForest', 'GradientBoosting'])\n",
    "\n",
    "    if classifier_name == 'SVM':\n",
    "        # Suggest hyperparameters for SVM\n",
    "        C = trial.suggest_float('C', 0.1, 100.0, log=True)\n",
    "        kernel = trial.suggest_categorical(\n",
    "            'kernel', ['linear', 'rbf', 'poly', 'sigmoid'])\n",
    "        gamma = trial.suggest_categorical('gamma', ['scale', 'auto'])\n",
    "\n",
    "        model = SVC(C=C, kernel=kernel, random_state=42)\n",
    "    elif classifier_name == 'RandomForest':\n",
    "\n",
    "        n_estimator = trial.suggest_int('n_estimators', 50, 200)\n",
    "        max_depth = trial.suggest_int('max_depth', 3, 20)\n",
    "        min_samples_split = trial.suggest_int('min_samples_split', 2, 10)\n",
    "        min_samples_leaf = trial.suggest_int('min_samples_leaf', 1, 10)\n",
    "        bootstrap = trial.suggest_categorical('bootstrap', [True, False])\n",
    "\n",
    "        model = RandomForestClassifier(\n",
    "            n_estimators=n_estimator,\n",
    "            max_depth=max_depth,\n",
    "            min_samples_split=min_samples_split,\n",
    "            min_samples_leaf=min_samples_leaf,\n",
    "            bootstrap=bootstrap,\n",
    "            random_state=42\n",
    "        )\n",
    "    elif classifier_name == 'GradientBoosting':\n",
    "        n_estimator = trial.suggest_int('n_estimators', 50, 300)\n",
    "        learning_rate = trial.suggest_float(\n",
    "            'learning_rate', 0.01, 0.3, log=True)\n",
    "        min_samples_split = trial.suggest_int('min_samples_split', 2, 10)\n",
    "        min_samples_leaf = trial.suggest_int('min_samples_leaf', 1, 10)\n",
    "        bootstrap = trial.suggest_categorical('bootstrap', [True, False])\n",
    "\n",
    "        model = GradientBoostingClassifier(\n",
    "            n_estimators=n_estimator,\n",
    "            learning_rate=learning_rate,\n",
    "            min_samples_split=min_samples_split,\n",
    "            min_samples_leaf=min_samples_leaf,\n",
    "            random_state=42\n",
    "        )\n",
    "    score = cross_val_score(model, X_train, y_train, cv=5, scoring='accuracy')\n",
    "    return score.mean()"
   ]
  },
  {
   "cell_type": "markdown",
   "id": "0539161f",
   "metadata": {},
   "source": [
    "#### Note: Optuna also supports ***Distributed Computing*** for faster computations\n",
    "- set `n_jobs = -1` in optimize"
   ]
  },
  {
   "cell_type": "code",
   "execution_count": 29,
   "id": "36b781f8",
   "metadata": {},
   "outputs": [
    {
     "name": "stderr",
     "output_type": "stream",
     "text": [
      "[I 2025-06-05 16:43:42,362] A new study created in memory with name: no-name-fa00f0e4-2735-4b0d-90f9-809420ed2840\n",
      "[I 2025-06-05 16:43:43,231] Trial 2 finished with value: 0.7205607476635514 and parameters: {'classifier': 'SVM', 'C': 96.25147346813682, 'kernel': 'sigmoid', 'gamma': 'scale'}. Best is trial 2 with value: 0.7205607476635514.\n",
      "[I 2025-06-05 16:43:43,316] Trial 4 finished with value: 0.6851678781585323 and parameters: {'classifier': 'SVM', 'C': 49.60645079629018, 'kernel': 'sigmoid', 'gamma': 'auto'}. Best is trial 2 with value: 0.7205607476635514.\n",
      "[I 2025-06-05 16:43:43,327] Trial 1 finished with value: 0.7745932848736587 and parameters: {'classifier': 'SVM', 'C': 2.2592275147269696, 'kernel': 'rbf', 'gamma': 'auto'}. Best is trial 1 with value: 0.7745932848736587.\n",
      "[I 2025-06-05 16:43:43,351] Trial 3 finished with value: 0.7764278296988578 and parameters: {'classifier': 'SVM', 'C': 1.815133123469913, 'kernel': 'rbf', 'gamma': 'auto'}. Best is trial 3 with value: 0.7764278296988578.\n",
      "[I 2025-06-05 16:43:43,596] Trial 6 finished with value: 0.7169608861197646 and parameters: {'classifier': 'SVM', 'C': 87.22856258513583, 'kernel': 'rbf', 'gamma': 'auto'}. Best is trial 3 with value: 0.7764278296988578.\n",
      "[I 2025-06-05 16:43:43,723] Trial 11 finished with value: 0.7764797507788161 and parameters: {'classifier': 'SVM', 'C': 0.821493990002211, 'kernel': 'linear', 'gamma': 'scale'}. Best is trial 11 with value: 0.7764797507788161.\n",
      "[I 2025-06-05 16:43:43,890] Trial 12 finished with value: 0.7578054690204222 and parameters: {'classifier': 'SVM', 'C': 11.98843965527387, 'kernel': 'rbf', 'gamma': 'scale'}. Best is trial 11 with value: 0.7764797507788161.\n",
      "[I 2025-06-05 16:43:44,015] Trial 10 finished with value: 0.778331602630668 and parameters: {'classifier': 'SVM', 'C': 19.45461239011922, 'kernel': 'linear', 'gamma': 'auto'}. Best is trial 10 with value: 0.778331602630668.\n",
      "[I 2025-06-05 16:43:49,211] Trial 0 finished with value: 0.7727068189685011 and parameters: {'classifier': 'RandomForest', 'n_estimators': 53, 'max_depth': 7, 'min_samples_split': 4, 'min_samples_leaf': 1, 'bootstrap': False}. Best is trial 10 with value: 0.778331602630668.\n",
      "[I 2025-06-05 16:43:49,593] Trial 14 finished with value: 0.7522845275181723 and parameters: {'classifier': 'GradientBoosting', 'n_estimators': 55, 'learning_rate': 0.22614563941227597, 'min_samples_split': 10, 'min_samples_leaf': 5, 'bootstrap': True}. Best is trial 10 with value: 0.778331602630668.\n",
      "[I 2025-06-05 16:43:50,953] Trial 15 finished with value: 0.7690031152647976 and parameters: {'classifier': 'RandomForest', 'n_estimators': 55, 'max_depth': 15, 'min_samples_split': 2, 'min_samples_leaf': 8, 'bootstrap': False}. Best is trial 10 with value: 0.778331602630668.\n",
      "[I 2025-06-05 16:44:00,209] Trial 9 finished with value: 0.7578227760470752 and parameters: {'classifier': 'RandomForest', 'n_estimators': 116, 'max_depth': 6, 'min_samples_split': 7, 'min_samples_leaf': 3, 'bootstrap': True}. Best is trial 10 with value: 0.778331602630668.\n",
      "[I 2025-06-05 16:44:01,099] Trial 13 finished with value: 0.7615784008307372 and parameters: {'classifier': 'RandomForest', 'n_estimators': 115, 'max_depth': 15, 'min_samples_split': 3, 'min_samples_leaf': 8, 'bootstrap': True}. Best is trial 10 with value: 0.778331602630668.\n",
      "[I 2025-06-05 16:44:03,064] Trial 5 finished with value: 0.7578746971270336 and parameters: {'classifier': 'RandomForest', 'n_estimators': 179, 'max_depth': 5, 'min_samples_split': 7, 'min_samples_leaf': 2, 'bootstrap': False}. Best is trial 10 with value: 0.778331602630668.\n",
      "[I 2025-06-05 16:44:03,524] Trial 7 finished with value: 0.7746105919003116 and parameters: {'classifier': 'GradientBoosting', 'n_estimators': 188, 'learning_rate': 0.025535647247070498, 'min_samples_split': 6, 'min_samples_leaf': 2, 'bootstrap': False}. Best is trial 10 with value: 0.778331602630668.\n",
      "[I 2025-06-05 16:44:03,968] Trial 22 finished with value: 0.7783142956040152 and parameters: {'classifier': 'SVM', 'C': 0.16963919295224847, 'kernel': 'linear', 'gamma': 'scale'}. Best is trial 10 with value: 0.778331602630668.\n",
      "[I 2025-06-05 16:44:04,350] Trial 23 finished with value: 0.7764797507788163 and parameters: {'classifier': 'SVM', 'C': 0.10066944515688274, 'kernel': 'linear', 'gamma': 'scale'}. Best is trial 10 with value: 0.778331602630668.\n",
      "[I 2025-06-05 16:44:07,065] Trial 8 finished with value: 0.7541363793700242 and parameters: {'classifier': 'RandomForest', 'n_estimators': 188, 'max_depth': 18, 'min_samples_split': 9, 'min_samples_leaf': 2, 'bootstrap': False}. Best is trial 10 with value: 0.778331602630668.\n",
      "[I 2025-06-05 16:44:09,746] Trial 16 finished with value: 0.7503634475597092 and parameters: {'classifier': 'RandomForest', 'n_estimators': 182, 'max_depth': 19, 'min_samples_split': 3, 'min_samples_leaf': 6, 'bootstrap': False}. Best is trial 10 with value: 0.778331602630668.\n",
      "[I 2025-06-05 16:44:16,288] Trial 17 finished with value: 0.7541017653167186 and parameters: {'classifier': 'RandomForest', 'n_estimators': 195, 'max_depth': 20, 'min_samples_split': 2, 'min_samples_leaf': 10, 'bootstrap': True}. Best is trial 10 with value: 0.778331602630668.\n",
      "[I 2025-06-05 16:44:16,645] Trial 18 finished with value: 0.7653167185877466 and parameters: {'classifier': 'GradientBoosting', 'n_estimators': 273, 'learning_rate': 0.011063348239493854, 'min_samples_split': 9, 'min_samples_leaf': 10, 'bootstrap': True}. Best is trial 10 with value: 0.778331602630668.\n",
      "[I 2025-06-05 16:44:16,907] Trial 28 finished with value: 0.7783142956040152 and parameters: {'classifier': 'SVM', 'C': 0.1390778303290915, 'kernel': 'linear', 'gamma': 'scale'}. Best is trial 10 with value: 0.778331602630668.\n",
      "[I 2025-06-05 16:44:17,205] Trial 29 finished with value: 0.7764797507788163 and parameters: {'classifier': 'SVM', 'C': 0.10646310846652807, 'kernel': 'linear', 'gamma': 'scale'}. Best is trial 10 with value: 0.778331602630668.\n",
      "[I 2025-06-05 16:44:17,448] Trial 30 finished with value: 0.778331602630668 and parameters: {'classifier': 'SVM', 'C': 0.3769391515829534, 'kernel': 'linear', 'gamma': 'scale'}. Best is trial 10 with value: 0.778331602630668.\n",
      "[I 2025-06-05 16:44:17,734] Trial 31 finished with value: 0.7262374524056767 and parameters: {'classifier': 'SVM', 'C': 0.4460212303091024, 'kernel': 'poly', 'gamma': 'scale'}. Best is trial 10 with value: 0.778331602630668.\n",
      "[I 2025-06-05 16:44:18,963] Trial 32 finished with value: 0.778331602630668 and parameters: {'classifier': 'SVM', 'C': 18.044517214753146, 'kernel': 'linear', 'gamma': 'auto'}. Best is trial 10 with value: 0.778331602630668.\n",
      "[I 2025-06-05 16:44:19,685] Trial 33 finished with value: 0.778331602630668 and parameters: {'classifier': 'SVM', 'C': 9.584765228631234, 'kernel': 'linear', 'gamma': 'auto'}. Best is trial 10 with value: 0.778331602630668.\n",
      "[I 2025-06-05 16:44:23,813] Trial 19 finished with value: 0.7597092419522326 and parameters: {'classifier': 'GradientBoosting', 'n_estimators': 284, 'learning_rate': 0.012530637215179462, 'min_samples_split': 10, 'min_samples_leaf': 10, 'bootstrap': True}. Best is trial 10 with value: 0.778331602630668.\n",
      "[I 2025-06-05 16:44:24,269] Trial 35 finished with value: 0.778331602630668 and parameters: {'classifier': 'SVM', 'C': 13.634908366246279, 'kernel': 'linear', 'gamma': 'auto'}. Best is trial 10 with value: 0.778331602630668.\n",
      "[I 2025-06-05 16:44:24,499] Trial 20 finished with value: 0.7634648667358948 and parameters: {'classifier': 'GradientBoosting', 'n_estimators': 273, 'learning_rate': 0.012990266416395798, 'min_samples_split': 10, 'min_samples_leaf': 10, 'bootstrap': False}. Best is trial 10 with value: 0.778331602630668.\n",
      "[I 2025-06-05 16:44:24,636] Trial 36 finished with value: 0.7075631706472828 and parameters: {'classifier': 'SVM', 'C': 29.105879093326028, 'kernel': 'poly', 'gamma': 'auto'}. Best is trial 10 with value: 0.778331602630668.\n",
      "[I 2025-06-05 16:44:24,971] Trial 37 finished with value: 0.7131187262028383 and parameters: {'classifier': 'SVM', 'C': 25.88196445823524, 'kernel': 'poly', 'gamma': 'auto'}. Best is trial 10 with value: 0.778331602630668.\n",
      "[I 2025-06-05 16:44:25,193] Trial 38 finished with value: 0.778331602630668 and parameters: {'classifier': 'SVM', 'C': 7.885261376310487, 'kernel': 'linear', 'gamma': 'auto'}. Best is trial 10 with value: 0.778331602630668.\n",
      "[I 2025-06-05 16:44:25,616] Trial 39 finished with value: 0.778331602630668 and parameters: {'classifier': 'SVM', 'C': 6.04913491026018, 'kernel': 'linear', 'gamma': 'auto'}. Best is trial 10 with value: 0.778331602630668.\n",
      "[I 2025-06-05 16:44:25,789] Trial 40 finished with value: 0.778331602630668 and parameters: {'classifier': 'SVM', 'C': 10.534724536131717, 'kernel': 'linear', 'gamma': 'auto'}. Best is trial 10 with value: 0.778331602630668.\n",
      "[I 2025-06-05 16:44:26,333] Trial 41 finished with value: 0.778331602630668 and parameters: {'classifier': 'SVM', 'C': 4.98880152002502, 'kernel': 'linear', 'gamma': 'auto'}. Best is trial 10 with value: 0.778331602630668.\n",
      "[I 2025-06-05 16:44:26,623] Trial 42 finished with value: 0.778331602630668 and parameters: {'classifier': 'SVM', 'C': 5.285899478416316, 'kernel': 'linear', 'gamma': 'auto'}. Best is trial 10 with value: 0.778331602630668.\n",
      "[I 2025-06-05 16:44:27,255] Trial 21 finished with value: 0.7652994115610938 and parameters: {'classifier': 'GradientBoosting', 'n_estimators': 294, 'learning_rate': 0.010013583751402653, 'min_samples_split': 10, 'min_samples_leaf': 10, 'bootstrap': True}. Best is trial 10 with value: 0.778331602630668.\n",
      "[I 2025-06-05 16:44:27,405] Trial 43 finished with value: 0.778331602630668 and parameters: {'classifier': 'SVM', 'C': 22.389356060369742, 'kernel': 'linear', 'gamma': 'auto'}. Best is trial 10 with value: 0.778331602630668.\n",
      "[I 2025-06-05 16:44:27,769] Trial 44 finished with value: 0.778331602630668 and parameters: {'classifier': 'SVM', 'C': 19.595608168608344, 'kernel': 'linear', 'gamma': 'auto'}. Best is trial 10 with value: 0.778331602630668.\n",
      "[I 2025-06-05 16:44:27,908] Trial 24 finished with value: 0.770889581169955 and parameters: {'classifier': 'GradientBoosting', 'n_estimators': 269, 'learning_rate': 0.011984392741552559, 'min_samples_split': 10, 'min_samples_leaf': 5, 'bootstrap': True}. Best is trial 10 with value: 0.778331602630668.\n",
      "[I 2025-06-05 16:44:28,054] Trial 45 finished with value: 0.778331602630668 and parameters: {'classifier': 'SVM', 'C': 21.982312065878105, 'kernel': 'linear', 'gamma': 'auto'}. Best is trial 10 with value: 0.778331602630668.\n",
      "[I 2025-06-05 16:44:28,061] Trial 47 finished with value: 0.7168743509865005 and parameters: {'classifier': 'SVM', 'C': 45.23027250448899, 'kernel': 'sigmoid', 'gamma': 'auto'}. Best is trial 10 with value: 0.778331602630668.\n",
      "[I 2025-06-05 16:44:28,124] Trial 46 finished with value: 0.778331602630668 and parameters: {'classifier': 'SVM', 'C': 18.688692938751977, 'kernel': 'linear', 'gamma': 'auto'}. Best is trial 10 with value: 0.778331602630668.\n",
      "[I 2025-06-05 16:44:28,651] Trial 48 finished with value: 0.778331602630668 and parameters: {'classifier': 'SVM', 'C': 13.543990145081489, 'kernel': 'linear', 'gamma': 'auto'}. Best is trial 10 with value: 0.778331602630668.\n",
      "[I 2025-06-05 16:44:28,734] Trial 50 finished with value: 0.778331602630668 and parameters: {'classifier': 'SVM', 'C': 13.334394203868971, 'kernel': 'linear', 'gamma': 'auto'}. Best is trial 10 with value: 0.778331602630668.\n",
      "[I 2025-06-05 16:44:28,769] Trial 49 finished with value: 0.778331602630668 and parameters: {'classifier': 'SVM', 'C': 15.123175802903326, 'kernel': 'linear', 'gamma': 'auto'}. Best is trial 10 with value: 0.778331602630668.\n",
      "[I 2025-06-05 16:44:28,785] Trial 51 finished with value: 0.778331602630668 and parameters: {'classifier': 'SVM', 'C': 10.535777967825398, 'kernel': 'linear', 'gamma': 'auto'}. Best is trial 10 with value: 0.778331602630668.\n",
      "[I 2025-06-05 16:44:29,151] Trial 52 finished with value: 0.778331602630668 and parameters: {'classifier': 'SVM', 'C': 3.573994333170045, 'kernel': 'linear', 'gamma': 'auto'}. Best is trial 10 with value: 0.778331602630668.\n",
      "[I 2025-06-05 16:44:29,280] Trial 55 finished with value: 0.698165455174801 and parameters: {'classifier': 'SVM', 'C': 2.3314582125269614, 'kernel': 'sigmoid', 'gamma': 'scale'}. Best is trial 10 with value: 0.778331602630668.\n",
      "[I 2025-06-05 16:44:29,304] Trial 54 finished with value: 0.7318276220145379 and parameters: {'classifier': 'SVM', 'C': 2.6739825474745933, 'kernel': 'sigmoid', 'gamma': 'scale'}. Best is trial 10 with value: 0.778331602630668.\n",
      "[I 2025-06-05 16:44:29,319] Trial 53 finished with value: 0.778331602630668 and parameters: {'classifier': 'SVM', 'C': 2.58543435554313, 'kernel': 'linear', 'gamma': 'auto'}. Best is trial 10 with value: 0.778331602630668.\n",
      "[I 2025-06-05 16:44:30,088] Trial 56 finished with value: 0.7150051921079958 and parameters: {'classifier': 'SVM', 'C': 1.855923400130021, 'kernel': 'sigmoid', 'gamma': 'scale'}. Best is trial 10 with value: 0.778331602630668.\n",
      "[I 2025-06-05 16:44:30,172] Trial 58 finished with value: 0.7671512634129456 and parameters: {'classifier': 'SVM', 'C': 8.118701459833977, 'kernel': 'rbf', 'gamma': 'auto'}. Best is trial 10 with value: 0.778331602630668.\n",
      "[I 2025-06-05 16:44:30,193] Trial 59 finished with value: 0.7652647975077882 and parameters: {'classifier': 'SVM', 'C': 7.719246807905613, 'kernel': 'rbf', 'gamma': 'auto'}. Best is trial 10 with value: 0.778331602630668.\n",
      "[I 2025-06-05 16:44:30,225] Trial 57 finished with value: 0.778331602630668 and parameters: {'classifier': 'SVM', 'C': 7.164692036915862, 'kernel': 'linear', 'gamma': 'auto'}. Best is trial 10 with value: 0.778331602630668.\n",
      "[I 2025-06-05 16:44:31,693] Trial 25 finished with value: 0.7615784008307372 and parameters: {'classifier': 'GradientBoosting', 'n_estimators': 296, 'learning_rate': 0.011144530777858324, 'min_samples_split': 5, 'min_samples_leaf': 10, 'bootstrap': True}. Best is trial 10 with value: 0.778331602630668.\n",
      "[I 2025-06-05 16:44:36,884] Trial 26 finished with value: 0.7355313257182415 and parameters: {'classifier': 'GradientBoosting', 'n_estimators': 297, 'learning_rate': 0.2870503823124818, 'min_samples_split': 5, 'min_samples_leaf': 10, 'bootstrap': True}. Best is trial 10 with value: 0.778331602630668.\n",
      "[I 2025-06-05 16:44:41,361] Trial 61 finished with value: 0.76711664935964 and parameters: {'classifier': 'RandomForest', 'n_estimators': 76, 'max_depth': 9, 'min_samples_split': 5, 'min_samples_leaf': 7, 'bootstrap': False}. Best is trial 10 with value: 0.778331602630668.\n",
      "[I 2025-06-05 16:44:42,590] Trial 62 finished with value: 0.7671685704395985 and parameters: {'classifier': 'RandomForest', 'n_estimators': 86, 'max_depth': 11, 'min_samples_split': 5, 'min_samples_leaf': 7, 'bootstrap': False}. Best is trial 10 with value: 0.778331602630668.\n",
      "[I 2025-06-05 16:44:42,604] Trial 63 finished with value: 0.7671339563862929 and parameters: {'classifier': 'RandomForest', 'n_estimators': 85, 'max_depth': 10, 'min_samples_split': 5, 'min_samples_leaf': 7, 'bootstrap': False}. Best is trial 10 with value: 0.778331602630668.\n",
      "[I 2025-06-05 16:44:42,710] Trial 60 finished with value: 0.7652821045344409 and parameters: {'classifier': 'RandomForest', 'n_estimators': 90, 'max_depth': 10, 'min_samples_split': 5, 'min_samples_leaf': 7, 'bootstrap': False}. Best is trial 10 with value: 0.778331602630668.\n",
      "[I 2025-06-05 16:44:43,036] Trial 64 finished with value: 0.772724125995154 and parameters: {'classifier': 'RandomForest', 'n_estimators': 82, 'max_depth': 11, 'min_samples_split': 8, 'min_samples_leaf': 7, 'bootstrap': False}. Best is trial 10 with value: 0.778331602630668.\n",
      "[I 2025-06-05 16:44:43,188] Trial 67 finished with value: 0.778331602630668 and parameters: {'classifier': 'SVM', 'C': 35.152151236327725, 'kernel': 'linear', 'gamma': 'auto'}. Best is trial 10 with value: 0.778331602630668.\n",
      "[I 2025-06-05 16:44:43,292] Trial 68 finished with value: 0.778331602630668 and parameters: {'classifier': 'SVM', 'C': 35.902802546272376, 'kernel': 'linear', 'gamma': 'auto'}. Best is trial 10 with value: 0.778331602630668.\n",
      "[I 2025-06-05 16:44:43,389] Trial 69 finished with value: 0.778331602630668 and parameters: {'classifier': 'SVM', 'C': 40.70836309482228, 'kernel': 'linear', 'gamma': 'auto'}. Best is trial 10 with value: 0.778331602630668.\n",
      "[I 2025-06-05 16:44:43,389] Trial 27 finished with value: 0.7727933541017654 and parameters: {'classifier': 'GradientBoosting', 'n_estimators': 288, 'learning_rate': 0.012259303274529235, 'min_samples_split': 5, 'min_samples_leaf': 5, 'bootstrap': True}. Best is trial 10 with value: 0.778331602630668.\n",
      "[I 2025-06-05 16:44:43,409] Trial 71 finished with value: 0.7764797507788161 and parameters: {'classifier': 'SVM', 'C': 1.1385104514499824, 'kernel': 'linear', 'gamma': 'auto'}. Best is trial 10 with value: 0.778331602630668.\n",
      "[I 2025-06-05 16:44:43,586] Trial 72 finished with value: 0.778331602630668 and parameters: {'classifier': 'SVM', 'C': 4.018673355290504, 'kernel': 'linear', 'gamma': 'auto'}. Best is trial 10 with value: 0.778331602630668.\n",
      "[I 2025-06-05 16:44:43,764] Trial 75 finished with value: 0.778331602630668 and parameters: {'classifier': 'SVM', 'C': 4.780074374562898, 'kernel': 'linear', 'gamma': 'auto'}. Best is trial 10 with value: 0.778331602630668.\n",
      "[I 2025-06-05 16:44:43,783] Trial 74 finished with value: 0.778331602630668 and parameters: {'classifier': 'SVM', 'C': 4.424347017000536, 'kernel': 'linear', 'gamma': 'auto'}. Best is trial 10 with value: 0.778331602630668.\n",
      "[I 2025-06-05 16:44:43,876] Trial 70 finished with value: 0.778331602630668 and parameters: {'classifier': 'SVM', 'C': 40.17835685793327, 'kernel': 'linear', 'gamma': 'auto'}. Best is trial 10 with value: 0.778331602630668.\n",
      "[I 2025-06-05 16:44:44,141] Trial 78 finished with value: 0.778331602630668 and parameters: {'classifier': 'SVM', 'C': 9.056542885671153, 'kernel': 'linear', 'gamma': 'auto'}. Best is trial 10 with value: 0.778331602630668.\n",
      "[I 2025-06-05 16:44:44,174] Trial 79 finished with value: 0.778331602630668 and parameters: {'classifier': 'SVM', 'C': 9.346657159543438, 'kernel': 'linear', 'gamma': 'auto'}. Best is trial 10 with value: 0.778331602630668.\n",
      "[I 2025-06-05 16:44:44,391] Trial 65 finished with value: 0.7578573901003807 and parameters: {'classifier': 'RandomForest', 'n_estimators': 79, 'max_depth': 10, 'min_samples_split': 8, 'min_samples_leaf': 7, 'bootstrap': False}. Best is trial 10 with value: 0.778331602630668.\n",
      "[I 2025-06-05 16:44:44,402] Trial 80 finished with value: 0.7764624437521634 and parameters: {'classifier': 'SVM', 'C': 0.25168232054870904, 'kernel': 'linear', 'gamma': 'scale'}. Best is trial 10 with value: 0.778331602630668.\n",
      "[I 2025-06-05 16:44:44,410] Trial 81 finished with value: 0.7318276220145379 and parameters: {'classifier': 'SVM', 'C': 0.5617452214146694, 'kernel': 'poly', 'gamma': 'scale'}. Best is trial 10 with value: 0.778331602630668.\n",
      "[I 2025-06-05 16:44:44,578] Trial 73 finished with value: 0.778331602630668 and parameters: {'classifier': 'SVM', 'C': 67.02910699850166, 'kernel': 'linear', 'gamma': 'auto'}. Best is trial 10 with value: 0.778331602630668.\n",
      "[I 2025-06-05 16:44:44,590] Trial 76 finished with value: 0.778331602630668 and parameters: {'classifier': 'SVM', 'C': 67.96997908893928, 'kernel': 'linear', 'gamma': 'auto'}. Best is trial 10 with value: 0.778331602630668.\n",
      "[I 2025-06-05 16:44:44,681] Trial 82 finished with value: 0.7374004845967462 and parameters: {'classifier': 'SVM', 'C': 6.134581849313543, 'kernel': 'poly', 'gamma': 'auto'}. Best is trial 10 with value: 0.778331602630668.\n",
      "[I 2025-06-05 16:44:44,694] Trial 83 finished with value: 0.7392523364485981 and parameters: {'classifier': 'SVM', 'C': 6.183013594396037, 'kernel': 'poly', 'gamma': 'auto'}. Best is trial 10 with value: 0.778331602630668.\n",
      "[I 2025-06-05 16:44:44,771] Trial 84 finished with value: 0.778331602630668 and parameters: {'classifier': 'SVM', 'C': 6.65714772645584, 'kernel': 'linear', 'gamma': 'auto'}. Best is trial 10 with value: 0.778331602630668.\n",
      "[I 2025-06-05 16:44:44,794] Trial 34 finished with value: 0.7373831775700934 and parameters: {'classifier': 'GradientBoosting', 'n_estimators': 300, 'learning_rate': 0.2968543208189768, 'min_samples_split': 5, 'min_samples_leaf': 5, 'bootstrap': True}. Best is trial 10 with value: 0.778331602630668.\n",
      "[I 2025-06-05 16:44:44,909] Trial 85 finished with value: 0.7690031152647976 and parameters: {'classifier': 'SVM', 'C': 6.087907881419979, 'kernel': 'rbf', 'gamma': 'auto'}. Best is trial 10 with value: 0.778331602630668.\n",
      "[I 2025-06-05 16:44:44,930] Trial 77 finished with value: 0.778331602630668 and parameters: {'classifier': 'SVM', 'C': 66.77429964580128, 'kernel': 'linear', 'gamma': 'scale'}. Best is trial 10 with value: 0.778331602630668.\n",
      "[I 2025-06-05 16:44:45,146] Trial 86 finished with value: 0.778331602630668 and parameters: {'classifier': 'SVM', 'C': 17.69230240778941, 'kernel': 'linear', 'gamma': 'auto'}. Best is trial 10 with value: 0.778331602630668.\n",
      "[I 2025-06-05 16:44:45,171] Trial 90 finished with value: 0.778331602630668 and parameters: {'classifier': 'SVM', 'C': 11.76718935954282, 'kernel': 'linear', 'gamma': 'auto'}. Best is trial 10 with value: 0.778331602630668.\n",
      "[I 2025-06-05 16:44:45,185] Trial 89 finished with value: 0.778331602630668 and parameters: {'classifier': 'SVM', 'C': 16.821994934610327, 'kernel': 'linear', 'gamma': 'auto'}. Best is trial 10 with value: 0.778331602630668.\n",
      "[I 2025-06-05 16:44:45,188] Trial 87 finished with value: 0.778331602630668 and parameters: {'classifier': 'SVM', 'C': 17.097575932331008, 'kernel': 'linear', 'gamma': 'auto'}. Best is trial 10 with value: 0.778331602630668.\n",
      "[I 2025-06-05 16:44:45,207] Trial 88 finished with value: 0.778331602630668 and parameters: {'classifier': 'SVM', 'C': 17.79662215647577, 'kernel': 'linear', 'gamma': 'auto'}. Best is trial 10 with value: 0.778331602630668.\n",
      "[I 2025-06-05 16:44:45,285] Trial 92 finished with value: 0.778331602630668 and parameters: {'classifier': 'SVM', 'C': 16.45508577258547, 'kernel': 'linear', 'gamma': 'auto'}. Best is trial 10 with value: 0.778331602630668.\n",
      "[I 2025-06-05 16:44:45,389] Trial 91 finished with value: 0.778331602630668 and parameters: {'classifier': 'SVM', 'C': 18.054606675712606, 'kernel': 'linear', 'gamma': 'auto'}. Best is trial 10 with value: 0.778331602630668.\n",
      "[I 2025-06-05 16:44:45,507] Trial 93 finished with value: 0.778331602630668 and parameters: {'classifier': 'SVM', 'C': 12.100218858594603, 'kernel': 'linear', 'gamma': 'auto'}. Best is trial 10 with value: 0.778331602630668.\n",
      "[I 2025-06-05 16:44:45,633] Trial 94 finished with value: 0.778331602630668 and parameters: {'classifier': 'SVM', 'C': 14.738142400459674, 'kernel': 'linear', 'gamma': 'auto'}. Best is trial 10 with value: 0.778331602630668.\n",
      "[I 2025-06-05 16:44:45,708] Trial 98 finished with value: 0.778331602630668 and parameters: {'classifier': 'SVM', 'C': 12.244496985410722, 'kernel': 'linear', 'gamma': 'auto'}. Best is trial 10 with value: 0.778331602630668.\n",
      "[I 2025-06-05 16:44:47,125] Trial 66 finished with value: 0.7467116649359639 and parameters: {'classifier': 'RandomForest', 'n_estimators': 144, 'max_depth': 3, 'min_samples_split': 8, 'min_samples_leaf': 4, 'bootstrap': False}. Best is trial 10 with value: 0.778331602630668.\n",
      "[I 2025-06-05 16:44:53,445] Trial 97 finished with value: 0.752319141571478 and parameters: {'classifier': 'GradientBoosting', 'n_estimators': 220, 'learning_rate': 0.10691696661858346, 'min_samples_split': 3, 'min_samples_leaf': 4, 'bootstrap': True}. Best is trial 10 with value: 0.778331602630668.\n",
      "[I 2025-06-05 16:44:53,515] Trial 96 finished with value: 0.7522845275181723 and parameters: {'classifier': 'GradientBoosting', 'n_estimators': 240, 'learning_rate': 0.10307184901512187, 'min_samples_split': 3, 'min_samples_leaf': 4, 'bootstrap': True}. Best is trial 10 with value: 0.778331602630668.\n",
      "[I 2025-06-05 16:44:53,564] Trial 95 finished with value: 0.7355140186915887 and parameters: {'classifier': 'GradientBoosting', 'n_estimators': 235, 'learning_rate': 0.11534127429826471, 'min_samples_split': 3, 'min_samples_leaf': 4, 'bootstrap': True}. Best is trial 10 with value: 0.778331602630668.\n",
      "[I 2025-06-05 16:44:53,695] Trial 99 finished with value: 0.7485981308411215 and parameters: {'classifier': 'GradientBoosting', 'n_estimators': 238, 'learning_rate': 0.08793700549763843, 'min_samples_split': 3, 'min_samples_leaf': 4, 'bootstrap': True}. Best is trial 10 with value: 0.778331602630668.\n"
     ]
    }
   ],
   "source": [
    "study = optuna.create_study(\n",
    "    direction='maximize', sampler=optuna.samplers.TPESampler())\n",
    "study.optimize(objective, n_trials=100, n_jobs=-1)"
   ]
  },
  {
   "cell_type": "code",
   "execution_count": 21,
   "id": "20d03633",
   "metadata": {},
   "outputs": [
    {
     "name": "stdout",
     "output_type": "stream",
     "text": [
      "Best hyperparameters:  {'classifier': 'GradientBoosting', 'n_estimators': 250, 'learning_rate': 0.030157313229321154, 'min_samples_split': 8, 'min_samples_leaf': 1, 'bootstrap': False}\n",
      "Best accuracy:  0.7876600899965386\n",
      "Best trial number:  62\n"
     ]
    }
   ],
   "source": [
    "print(\"Best hyperparameters: \", study.best_params)\n",
    "print(\"Best accuracy: \", study.best_value)\n",
    "print(\"Best trial number: \", study.best_trial.number)"
   ]
  },
  {
   "cell_type": "code",
   "execution_count": 23,
   "id": "17bf6b5c",
   "metadata": {},
   "outputs": [
    {
     "data": {
      "text/html": [
       "<div>\n",
       "<style scoped>\n",
       "    .dataframe tbody tr th:only-of-type {\n",
       "        vertical-align: middle;\n",
       "    }\n",
       "\n",
       "    .dataframe tbody tr th {\n",
       "        vertical-align: top;\n",
       "    }\n",
       "\n",
       "    .dataframe thead th {\n",
       "        text-align: right;\n",
       "    }\n",
       "</style>\n",
       "<table border=\"1\" class=\"dataframe\">\n",
       "  <thead>\n",
       "    <tr style=\"text-align: right;\">\n",
       "      <th></th>\n",
       "      <th>number</th>\n",
       "      <th>value</th>\n",
       "      <th>datetime_start</th>\n",
       "      <th>datetime_complete</th>\n",
       "      <th>duration</th>\n",
       "      <th>params_C</th>\n",
       "      <th>params_bootstrap</th>\n",
       "      <th>params_classifier</th>\n",
       "      <th>params_gamma</th>\n",
       "      <th>params_kernel</th>\n",
       "      <th>params_learning_rate</th>\n",
       "      <th>params_max_depth</th>\n",
       "      <th>params_min_samples_leaf</th>\n",
       "      <th>params_min_samples_split</th>\n",
       "      <th>params_n_estimators</th>\n",
       "      <th>state</th>\n",
       "    </tr>\n",
       "  </thead>\n",
       "  <tbody>\n",
       "    <tr>\n",
       "      <th>10</th>\n",
       "      <td>10</td>\n",
       "      <td>0.754136</td>\n",
       "      <td>2025-06-05 16:30:58.171587</td>\n",
       "      <td>2025-06-05 16:31:00.842974</td>\n",
       "      <td>0 days 00:00:02.671387</td>\n",
       "      <td>NaN</td>\n",
       "      <td>True</td>\n",
       "      <td>RandomForest</td>\n",
       "      <td>NaN</td>\n",
       "      <td>NaN</td>\n",
       "      <td>NaN</td>\n",
       "      <td>3.0</td>\n",
       "      <td>1.0</td>\n",
       "      <td>10.0</td>\n",
       "      <td>130.0</td>\n",
       "      <td>COMPLETE</td>\n",
       "    </tr>\n",
       "    <tr>\n",
       "      <th>30</th>\n",
       "      <td>30</td>\n",
       "      <td>0.765317</td>\n",
       "      <td>2025-06-05 16:32:25.589318</td>\n",
       "      <td>2025-06-05 16:32:27.411950</td>\n",
       "      <td>0 days 00:00:01.822632</td>\n",
       "      <td>NaN</td>\n",
       "      <td>True</td>\n",
       "      <td>RandomForest</td>\n",
       "      <td>NaN</td>\n",
       "      <td>NaN</td>\n",
       "      <td>NaN</td>\n",
       "      <td>10.0</td>\n",
       "      <td>2.0</td>\n",
       "      <td>5.0</td>\n",
       "      <td>57.0</td>\n",
       "      <td>COMPLETE</td>\n",
       "    </tr>\n",
       "    <tr>\n",
       "      <th>86</th>\n",
       "      <td>86</td>\n",
       "      <td>0.767151</td>\n",
       "      <td>2025-06-05 16:34:38.616205</td>\n",
       "      <td>2025-06-05 16:34:40.027631</td>\n",
       "      <td>0 days 00:00:01.411426</td>\n",
       "      <td>NaN</td>\n",
       "      <td>False</td>\n",
       "      <td>GradientBoosting</td>\n",
       "      <td>NaN</td>\n",
       "      <td>NaN</td>\n",
       "      <td>0.020584</td>\n",
       "      <td>NaN</td>\n",
       "      <td>1.0</td>\n",
       "      <td>7.0</td>\n",
       "      <td>156.0</td>\n",
       "      <td>COMPLETE</td>\n",
       "    </tr>\n",
       "    <tr>\n",
       "      <th>27</th>\n",
       "      <td>27</td>\n",
       "      <td>0.761596</td>\n",
       "      <td>2025-06-05 16:32:15.951634</td>\n",
       "      <td>2025-06-05 16:32:21.158593</td>\n",
       "      <td>0 days 00:00:05.206959</td>\n",
       "      <td>NaN</td>\n",
       "      <td>False</td>\n",
       "      <td>GradientBoosting</td>\n",
       "      <td>NaN</td>\n",
       "      <td>NaN</td>\n",
       "      <td>0.081878</td>\n",
       "      <td>NaN</td>\n",
       "      <td>1.0</td>\n",
       "      <td>7.0</td>\n",
       "      <td>187.0</td>\n",
       "      <td>COMPLETE</td>\n",
       "    </tr>\n",
       "    <tr>\n",
       "      <th>67</th>\n",
       "      <td>67</td>\n",
       "      <td>0.770890</td>\n",
       "      <td>2025-06-05 16:34:02.153466</td>\n",
       "      <td>2025-06-05 16:34:05.344634</td>\n",
       "      <td>0 days 00:00:03.191168</td>\n",
       "      <td>NaN</td>\n",
       "      <td>False</td>\n",
       "      <td>GradientBoosting</td>\n",
       "      <td>NaN</td>\n",
       "      <td>NaN</td>\n",
       "      <td>0.044621</td>\n",
       "      <td>NaN</td>\n",
       "      <td>1.0</td>\n",
       "      <td>9.0</td>\n",
       "      <td>252.0</td>\n",
       "      <td>COMPLETE</td>\n",
       "    </tr>\n",
       "  </tbody>\n",
       "</table>\n",
       "</div>"
      ],
      "text/plain": [
       "    number     value             datetime_start          datetime_complete  \\\n",
       "10      10  0.754136 2025-06-05 16:30:58.171587 2025-06-05 16:31:00.842974   \n",
       "30      30  0.765317 2025-06-05 16:32:25.589318 2025-06-05 16:32:27.411950   \n",
       "86      86  0.767151 2025-06-05 16:34:38.616205 2025-06-05 16:34:40.027631   \n",
       "27      27  0.761596 2025-06-05 16:32:15.951634 2025-06-05 16:32:21.158593   \n",
       "67      67  0.770890 2025-06-05 16:34:02.153466 2025-06-05 16:34:05.344634   \n",
       "\n",
       "                 duration  params_C params_bootstrap params_classifier  \\\n",
       "10 0 days 00:00:02.671387       NaN             True      RandomForest   \n",
       "30 0 days 00:00:01.822632       NaN             True      RandomForest   \n",
       "86 0 days 00:00:01.411426       NaN            False  GradientBoosting   \n",
       "27 0 days 00:00:05.206959       NaN            False  GradientBoosting   \n",
       "67 0 days 00:00:03.191168       NaN            False  GradientBoosting   \n",
       "\n",
       "   params_gamma params_kernel  params_learning_rate  params_max_depth  \\\n",
       "10          NaN           NaN                   NaN               3.0   \n",
       "30          NaN           NaN                   NaN              10.0   \n",
       "86          NaN           NaN              0.020584               NaN   \n",
       "27          NaN           NaN              0.081878               NaN   \n",
       "67          NaN           NaN              0.044621               NaN   \n",
       "\n",
       "    params_min_samples_leaf  params_min_samples_split  params_n_estimators  \\\n",
       "10                      1.0                      10.0                130.0   \n",
       "30                      2.0                       5.0                 57.0   \n",
       "86                      1.0                       7.0                156.0   \n",
       "27                      1.0                       7.0                187.0   \n",
       "67                      1.0                       9.0                252.0   \n",
       "\n",
       "       state  \n",
       "10  COMPLETE  \n",
       "30  COMPLETE  \n",
       "86  COMPLETE  \n",
       "27  COMPLETE  \n",
       "67  COMPLETE  "
      ]
     },
     "execution_count": 23,
     "metadata": {},
     "output_type": "execute_result"
    }
   ],
   "source": [
    "study.trials_dataframe().sample(5)"
   ]
  },
  {
   "cell_type": "code",
   "execution_count": 24,
   "id": "6592c0f5",
   "metadata": {},
   "outputs": [
    {
     "data": {
      "text/plain": [
       "params_classifier\n",
       "GradientBoosting    73\n",
       "SVM                 18\n",
       "RandomForest         9\n",
       "Name: count, dtype: int64"
      ]
     },
     "execution_count": 24,
     "metadata": {},
     "output_type": "execute_result"
    }
   ],
   "source": [
    "study.trials_dataframe()['params_classifier'].value_counts()"
   ]
  },
  {
   "cell_type": "code",
   "execution_count": 28,
   "id": "0623dd46",
   "metadata": {},
   "outputs": [
    {
     "data": {
      "text/plain": [
       "params_classifier\n",
       "GradientBoosting    0.772632\n",
       "RandomForest        0.763646\n",
       "SVM                 0.761793\n",
       "Name: value, dtype: float64"
      ]
     },
     "execution_count": 28,
     "metadata": {},
     "output_type": "execute_result"
    }
   ],
   "source": [
    "study.trials_dataframe().groupby('params_classifier')['value'].mean()"
   ]
  }
 ],
 "metadata": {
  "kernelspec": {
   "display_name": "datascience",
   "language": "python",
   "name": "python3"
  },
  "language_info": {
   "codemirror_mode": {
    "name": "ipython",
    "version": 3
   },
   "file_extension": ".py",
   "mimetype": "text/x-python",
   "name": "python",
   "nbconvert_exporter": "python",
   "pygments_lexer": "ipython3",
   "version": "3.11.9"
  }
 },
 "nbformat": 4,
 "nbformat_minor": 5
}
