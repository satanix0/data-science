{
 "cells": [
  {
   "cell_type": "code",
   "execution_count": 2,
   "id": "2a465661",
   "metadata": {},
   "outputs": [
    {
     "name": "stdout",
     "output_type": "stream",
     "text": [
      "0 1000 1000\n",
      "1 1007 996\n",
      "2 1001 995\n",
      "3 1005 1000\n",
      "4 1005 998\n",
      "5 1012 1004\n",
      "6 1006 1003\n",
      "7 1007 1007\n",
      "8 1013 1008\n",
      "9 1010 1009\n",
      "10 1004 1013\n",
      "11 1012 1017\n",
      "12 1006 1015\n",
      "13 1008 1017\n",
      "14 1016 1018\n",
      "15 1013 1022\n",
      "16 1018 1019\n",
      "17 1018 1014\n",
      "18 1016 1011\n",
      "19 1022 1009\n",
      "20 1020 1015\n",
      "21 1022 1013\n",
      "22 1027 1017\n",
      "23 1023 1022\n",
      "24 1018 1024\n",
      "25 1017 1023\n",
      "26 1012 1029\n",
      "27 1018 1032\n",
      "28 1013 1033\n",
      "29 1007 1032\n",
      "30 1006 1036\n",
      "31 1002 1041\n",
      "32 1006 1045\n",
      "33 1002 1044\n",
      "34 1007 1040\n",
      "35 1013 1046\n",
      "36 1014 1042\n",
      "37 1014 1047\n"
     ]
    },
    {
     "ename": "KeyboardInterrupt",
     "evalue": "",
     "output_type": "error",
     "traceback": [
      "\u001b[1;31m---------------------------------------------------------------------------\u001b[0m",
      "\u001b[1;31mKeyboardInterrupt\u001b[0m                         Traceback (most recent call last)",
      "Cell \u001b[1;32mIn[2], line 34\u001b[0m\n\u001b[0;32m     31\u001b[0m     total_1 \u001b[39m=\u001b[39m total_1 \u001b[39m+\u001b[39m random\u001b[39m.\u001b[39mrandint(\u001b[39m-\u001b[39m\u001b[39m6\u001b[39m, \u001b[39m8\u001b[39m)\n\u001b[0;32m     32\u001b[0m     total_2 \u001b[39m=\u001b[39m total_2 \u001b[39m+\u001b[39m random\u001b[39m.\u001b[39mrandint(\u001b[39m-\u001b[39m\u001b[39m5\u001b[39m, \u001b[39m6\u001b[39m)\n\u001b[1;32m---> 34\u001b[0m time\u001b[39m.\u001b[39msleep(\u001b[39m1\u001b[39m)\n",
      "\u001b[1;31mKeyboardInterrupt\u001b[0m: "
     ]
    }
   ],
   "source": [
    "import csv\n",
    "import random\n",
    "import time\n",
    "\n",
    "x_value = 0\n",
    "total_1 = 1000\n",
    "total_2 = 1000\n",
    "\n",
    "fieldnames = [\"x_value\", \"total_1\", \"total_2\"]\n",
    "\n",
    "\n",
    "with open('data.csv', 'w') as csv_file:\n",
    "    csv_writer = csv.DictWriter(csv_file, fieldnames=fieldnames)\n",
    "    csv_writer.writeheader()\n",
    "\n",
    "while True:\n",
    "\n",
    "    with open('data.csv', 'a') as csv_file:\n",
    "        csv_writer = csv.DictWriter(csv_file, fieldnames=fieldnames)\n",
    "\n",
    "        info = {\n",
    "            \"x_value\": x_value,\n",
    "            \"total_1\": total_1,\n",
    "            \"total_2\": total_2\n",
    "        }\n",
    "\n",
    "        csv_writer.writerow(info)\n",
    "        print(x_value, total_1, total_2)\n",
    "\n",
    "        x_value += 1\n",
    "        total_1 = total_1 + random.randint(-6, 8)\n",
    "        total_2 = total_2 + random.randint(-5, 6)\n",
    "\n",
    "    time.sleep(1)"
   ]
  },
  {
   "cell_type": "code",
   "execution_count": null,
   "id": "368dd43b",
   "metadata": {},
   "outputs": [],
   "source": []
  }
 ],
 "metadata": {
  "kernelspec": {
   "display_name": "Python 3",
   "language": "python",
   "name": "python3"
  },
  "language_info": {
   "codemirror_mode": {
    "name": "ipython",
    "version": 3
   },
   "file_extension": ".py",
   "mimetype": "text/x-python",
   "name": "python",
   "nbconvert_exporter": "python",
   "pygments_lexer": "ipython3",
   "version": "3.11.1"
  },
  "vscode": {
   "interpreter": {
    "hash": "0d118ab30d5320f6f76a82af7a857166872b69e854714ba143c31f45e513f4f9"
   }
  }
 },
 "nbformat": 4,
 "nbformat_minor": 5
}
