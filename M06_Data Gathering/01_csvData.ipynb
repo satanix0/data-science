{
 "cells": [
  {
   "cell_type": "code",
   "execution_count": 39,
   "id": "77800068",
   "metadata": {},
   "outputs": [],
   "source": [
    "import pandas as pd\n",
    "import numpy as np"
   ]
  },
  {
   "cell_type": "code",
   "execution_count": 2,
   "id": "843378e3",
   "metadata": {},
   "outputs": [],
   "source": [
    "df = pd.read_csv('aug_train.csv')"
   ]
  },
  {
   "cell_type": "markdown",
   "id": "295996e7",
   "metadata": {},
   "source": [
    "#### Opening a csv file from a URL"
   ]
  },
  {
   "cell_type": "code",
   "execution_count": null,
   "id": "a4faea21",
   "metadata": {},
   "outputs": [],
   "source": [
    "import requests\n",
    "from io import StringIO\n",
    "\n",
    "url = \"https://raw.githubusercontent.com/campusx-official/100-days-of-machine-learning/main/day15%20-%20working%20with%20csv%20files/zomato.csv\"\n",
    "headers = {\"User-Agent\": \"Mozilla/5.0 (Macintosh; Intel Mac OS X 10.14; rv:66.0) Gecko/20100101 Firefox/66.0\"}\n",
    "req = requests.get(url, headers=headers)\n",
    "data = StringIO(req.text)\n",
    "\n",
    "pd.read_csv(data).head()"
   ]
  },
  {
   "cell_type": "markdown",
   "id": "1b1eb130",
   "metadata": {},
   "source": [
    "# Different Parameters of read_csv()"
   ]
  },
  {
   "cell_type": "markdown",
   "id": "5c1eed85",
   "metadata": {},
   "source": [
    "## 1. sep and names"
   ]
  },
  {
   "cell_type": "code",
   "execution_count": null,
   "id": "89e7984d",
   "metadata": {},
   "outputs": [],
   "source": [
    "pd.read_csv('movie_titles_metadata.tsv',sep=\"\\t\",names=['sno','title','release','ratings','reviews',\n",
    "                                                       'genre']) # \\t denotes tab"
   ]
  },
  {
   "cell_type": "markdown",
   "id": "95100a6c",
   "metadata": {},
   "source": [
    "## 2. index_col ~  converts a specified column into row index"
   ]
  },
  {
   "cell_type": "code",
   "execution_count": null,
   "id": "a81033ba",
   "metadata": {},
   "outputs": [],
   "source": [
    "pd.read_csv('aug_train.csv',index_col='enrollee_id')"
   ]
  },
  {
   "cell_type": "markdown",
   "id": "8bee8e39",
   "metadata": {},
   "source": [
    "## 3. header ~ specify the index no. of row that has to be specified as the header. "
   ]
  },
  {
   "cell_type": "code",
   "execution_count": null,
   "id": "7f6c8c62",
   "metadata": {},
   "outputs": [],
   "source": [
    "pd.read_csv('test.csv',header = 1)"
   ]
  },
  {
   "cell_type": "markdown",
   "id": "3397d2d9",
   "metadata": {},
   "source": [
    "## 4. usecols ~  a list of columns that is to be used."
   ]
  },
  {
   "cell_type": "code",
   "execution_count": null,
   "id": "e3b71155",
   "metadata": {},
   "outputs": [],
   "source": [
    "pd.read_csv('aug_train.csv',usecols=['enrollee_id','gender','education_level'])"
   ]
  },
  {
   "cell_type": "markdown",
   "id": "5f24c1d9",
   "metadata": {},
   "source": [
    "## 5. skiprows ~  a list of indies that is to be skipped.\n",
    "## 6. nrows ~ only read n rows from data."
   ]
  },
  {
   "cell_type": "code",
   "execution_count": null,
   "id": "b909c9d9",
   "metadata": {},
   "outputs": [],
   "source": [
    "pd.read_csv('aug_train.csv',skiprows=[0,2],nrows=20)"
   ]
  },
  {
   "cell_type": "markdown",
   "id": "87ea3343",
   "metadata": {},
   "source": [
    "## 7. encoding ~ specify the encoding of the file if it's other then utf-8"
   ]
  },
  {
   "cell_type": "code",
   "execution_count": null,
   "id": "53964da5",
   "metadata": {},
   "outputs": [],
   "source": [
    "pd.read_csv('zomato.csv',encoding = 'latin-1')"
   ]
  },
  {
   "cell_type": "markdown",
   "id": "870e48ee",
   "metadata": {},
   "source": [
    "### 8. parse_dates ~ Handling Date Columns, pass the list of columns that contain date elements"
   ]
  },
  {
   "cell_type": "code",
   "execution_count": null,
   "id": "8c3b2bf1",
   "metadata": {
    "scrolled": true
   },
   "outputs": [],
   "source": [
    "pd.read_csv(\"IPL Matches 2008-2020.csv\",parse_dates=['date']).info()"
   ]
  },
  {
   "cell_type": "markdown",
   "id": "8f843b8f",
   "metadata": {},
   "source": [
    "### 9. convertors ~ used to apply a function over the values of the column. {'col_name':function_name}"
   ]
  },
  {
   "cell_type": "code",
   "execution_count": null,
   "id": "23124110",
   "metadata": {},
   "outputs": [],
   "source": [
    "def rename_team(name):\n",
    "    if name == \"Royal Challengers Bangalore\":\n",
    "        return \"RCB\"\n",
    "    else:\n",
    "        return \"RCB\"\n",
    "\n",
    "rename_team(\"Royal Challengers Bangalore\")"
   ]
  },
  {
   "cell_type": "code",
   "execution_count": null,
   "id": "568495e2",
   "metadata": {
    "scrolled": true
   },
   "outputs": [],
   "source": [
    "pd.read_csv(\"IPL Matches 2008-2020.csv\",converters={'team1':rename_team}).head()"
   ]
  },
  {
   "cell_type": "markdown",
   "id": "d304cc06",
   "metadata": {},
   "source": [
    "### 10. dtype ~ changes the dtype of specified column"
   ]
  },
  {
   "cell_type": "code",
   "execution_count": null,
   "id": "129f270f",
   "metadata": {},
   "outputs": [],
   "source": [
    "# pd.read_csv(\"IPL Matches 2008-2020.csv\",dtype={'team1':rename_team}).head()\n",
    "df = pd.read_csv(\"IPL Matches 2008-2020.csv\",dtype={'neutral_venue': 'float32'})\n",
    "df.info()\n",
    "df.head()\n"
   ]
  },
  {
   "cell_type": "markdown",
   "id": "1c179d5b",
   "metadata": {},
   "source": [
    "### na_values ~ a list that contains all Non-NA Values that has to be considered as a NA Value (eg. '-','*' etc.)"
   ]
  },
  {
   "cell_type": "code",
   "execution_count": null,
   "id": "2b8de3f6",
   "metadata": {},
   "outputs": [],
   "source": [
    "pd.read_csv('aug_train.csv',na_values=['city_103'])"
   ]
  },
  {
   "cell_type": "markdown",
   "id": "35d78953",
   "metadata": {},
   "source": [
    "### Loading a huge datasets in Chunks."
   ]
  },
  {
   "cell_type": "code",
   "execution_count": null,
   "id": "5b834db0",
   "metadata": {},
   "outputs": [],
   "source": [
    "dfs = pd.read_csv('aug_train.csv',chunksize=5000)"
   ]
  },
  {
   "cell_type": "code",
   "execution_count": null,
   "id": "d5d11b05",
   "metadata": {},
   "outputs": [],
   "source": [
    "# dfs is collection of dataframes each o 5000 rows\n",
    "for chunk in dfs:\n",
    "    print(chunk.shape)"
   ]
  }
 ],
 "metadata": {
  "kernelspec": {
   "display_name": "Python 3 (ipykernel)",
   "language": "python",
   "name": "python3"
  },
  "language_info": {
   "codemirror_mode": {
    "name": "ipython",
    "version": 3
   },
   "file_extension": ".py",
   "mimetype": "text/x-python",
   "name": "python",
   "nbconvert_exporter": "python",
   "pygments_lexer": "ipython3",
   "version": "3.10.9"
  }
 },
 "nbformat": 4,
 "nbformat_minor": 5
}
