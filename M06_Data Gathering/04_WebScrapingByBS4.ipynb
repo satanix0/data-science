{
 "cells": [
  {
   "cell_type": "code",
   "execution_count": 17,
   "id": "38e27024",
   "metadata": {},
   "outputs": [],
   "source": [
    "from bs4 import BeautifulSoup\n",
    "import requests\n",
    "import pandas as pd\n",
    "import time\n",
    "import datetime\n",
    "\n",
    "import smtplib"
   ]
  },
  {
   "cell_type": "code",
   "execution_count": 29,
   "id": "d585bc5b",
   "metadata": {},
   "outputs": [
    {
     "data": {
      "text/plain": [
       "[<span class=\"a-price-whole\">599<span class=\"a-price-decimal\">.</span></span>,\n",
       " <span class=\"a-price-whole\">599<span class=\"a-price-decimal\">.</span></span>,\n",
       " <span class=\"a-price-whole\">599<span class=\"a-price-decimal\">.</span></span>,\n",
       " <span class=\"a-price-whole\">599<span class=\"a-price-decimal\">.</span></span>,\n",
       " <span class=\"a-price-whole\">599<span class=\"a-price-decimal\">.</span></span>,\n",
       " <span class=\"a-price-whole\">599</span>,\n",
       " <span class=\"a-price-whole\">599<span class=\"a-price-decimal\">.</span></span>,\n",
       " <span class=\"a-price-whole\">599<span class=\"a-price-decimal\">.</span></span>,\n",
       " <span class=\"a-price-whole\">599<span class=\"a-price-decimal\">.</span></span>,\n",
       " <span class=\"a-price-whole\">599<span class=\"a-price-decimal\">.</span></span>,\n",
       " <span class=\"a-price-whole\">599<span class=\"a-price-decimal\">.</span></span>,\n",
       " <span class=\"a-price-whole\">599<span class=\"a-price-decimal\">.</span></span>]"
      ]
     },
     "execution_count": 29,
     "metadata": {},
     "output_type": "execute_result"
    }
   ],
   "source": [
    "url = \"https://www.amazon.in/Aaramkhor-Mathematics-T-Shirt-Quadratic-Formula/dp/B08NFMWD7S/ref=sr_1_27?keywords=math+t+shirt&qid=1685018828&sprefix=math+t+%2Caps%2C287&sr=8-27\"\n",
    "\n",
    "# in order to access the website\n",
    "headers = {\n",
    "  'User-Agent': 'Mozilla/5.0 (Windows NT 10.0; rv:91.0) Gecko/20100101 Firefox/91.0'\n",
    "}\n",
    "response = requests.get(url=url,headers=headers)\n",
    "\n",
    "soup = BeautifulSoup(response.text,\"html.parser\")\n",
    "soup.find_all('span',class_='a-price-whole')"
   ]
  }
 ],
 "metadata": {
  "kernelspec": {
   "display_name": "Python 3 (ipykernel)",
   "language": "python",
   "name": "python3"
  },
  "language_info": {
   "codemirror_mode": {
    "name": "ipython",
    "version": 3
   },
   "file_extension": ".py",
   "mimetype": "text/x-python",
   "name": "python",
   "nbconvert_exporter": "python",
   "pygments_lexer": "ipython3",
   "version": "3.10.9"
  }
 },
 "nbformat": 4,
 "nbformat_minor": 5
}
