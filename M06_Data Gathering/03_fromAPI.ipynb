{
 "cells": [
  {
   "cell_type": "code",
   "execution_count": 1,
   "id": "75943e69",
   "metadata": {},
   "outputs": [],
   "source": [
    "import pandas as pd\n",
    "import requests"
   ]
  },
  {
   "cell_type": "code",
   "execution_count": 2,
   "id": "c600c43e",
   "metadata": {},
   "outputs": [],
   "source": [
    "AUTH_KEY = \"9a0dae4e33a248d1b750a489c0931cd6\""
   ]
  },
  {
   "cell_type": "code",
   "execution_count": 6,
   "id": "dc13522d",
   "metadata": {},
   "outputs": [],
   "source": [
    "# get the response in JSON Format\n",
    "url = f\"https://api.themoviedb.org/3/movie/top_rated?api_key={AUTH_KEY}&language=en-US&page=1\"\n",
    "response = requests.get(url=url)\n",
    "data = response.json()\n",
    "\n",
    "total_pages = data['total_pages']\n",
    "df = pd.DataFrame(data['results'],columns=['id','title','release_date','vote_average','vote_count'])\n",
    "\n",
    "# Now get the results for all the available pages  \n",
    "for page in range(2,total_pages+1):\n",
    "    url = f\"https://api.themoviedb.org/3/movie/top_rated?api_key={AUTH_KEY}&language=en-US&page={page}\"\n",
    "    response = requests.get(url=url)\n",
    "    # store data of each page into a temporary df\n",
    "    temp_df = pd.DataFrame(data['results'],columns=['id','title','release_date','vote_average','vote_count'])\n",
    "    # keep extending original df\n",
    "    df = pd.concat([df, temp_df], axis=1, ignore_index=True)\n"
   ]
  },
  {
   "cell_type": "code",
   "execution_count": 7,
   "id": "1b694b70",
   "metadata": {},
   "outputs": [],
   "source": [
    "df.to_csv('moviesfromapis.csv')"
   ]
  },
  {
   "cell_type": "code",
   "execution_count": null,
   "id": "1043d47c",
   "metadata": {},
   "outputs": [],
   "source": [
    "# Goto rapid api for more free apis"
   ]
  },
  {
   "cell_type": "code",
   "execution_count": 8,
   "id": "403fe0f4",
   "metadata": {},
   "outputs": [
    {
     "name": "stdout",
     "output_type": "stream",
     "text": [
      "{'meta': {'es_took': 16, 'es_total_hits': 5711, 'version': 'v1.02.7a2c9afe'}, 'autocomplete': [{'_id': 'state:ny', '_score': 36035.477, 'area_type': 'state', 'state': 'New York', 'state_code': 'NY', 'country': 'USA', 'centroid': {'lon': -75.59641874304896, 'lat': 42.92106682835559}, 'slug_id': 'New-York', 'geo_id': '7a9bffcb-e43c-5cdd-89ff-08ead6d8225d'}, {'_id': 'city:ny_new-york', '_score': 34.57291, 'area_type': 'city', 'city': 'New York', 'state_code': 'NY', 'counties': [{'name': 'Queens', 'fips': '36081', 'state_code': 'NY'}, {'name': 'Kings', 'fips': '36047', 'state_code': 'NY'}, {'name': 'Richmond', 'fips': '36085', 'state_code': 'NY'}, {'name': 'Bronx', 'fips': '36005', 'state_code': 'NY'}, {'name': 'New York', 'fips': '36061', 'state_code': 'NY'}], 'country': 'USA', 'centroid': {'lon': -73.9386769, 'lat': 40.6627117}, 'slug_id': 'New-York_NY', 'geo_id': 'a5cac742-26a8-5870-b961-472ec6f9d824', 'county_needed_for_uniq': False}, {'_id': 'city:ny_manhattan', '_score': 34.461365, 'area_type': 'city', 'city': 'Manhattan', 'state_code': 'NY', 'counties': [{'name': 'New York', 'fips': '36061', 'state_code': 'NY'}], 'country': 'USA', 'centroid': {'lon': -73.9701871, 'lat': 40.7766419}, 'slug_id': 'Manhattan_NY', 'geo_id': 'e87a8b91-b532-5d20-a050-0551631a2c79', 'county_needed_for_uniq': False}, {'_id': 'city:ny_new-york-mills', '_score': 33.755207, 'area_type': 'city', 'city': 'New York Mills', 'state_code': 'NY', 'counties': [{'name': 'Oneida', 'fips': '36065', 'state_code': 'NY'}], 'country': 'USA', 'centroid': {'lon': -75.2931109, 'lat': 43.1007089}, 'slug_id': 'New-York-Mills_NY', 'geo_id': '45f53d11-3a2c-5b81-8fed-7dd7f735ccd9', 'county_needed_for_uniq': False}, {'_id': 'city:mn_new-york-mills', '_score': 33.72518, 'area_type': 'city', 'city': 'New York Mills', 'state_code': 'MN', 'counties': [{'name': 'Otter Tail', 'fips': '27111', 'state_code': 'MN'}], 'country': 'USA', 'centroid': {'lon': -95.3727804, 'lat': 46.5196303}, 'slug_id': 'New-York-Mills_MN', 'geo_id': '559960d6-8da6-5e37-a7cf-3859260b51e3', 'county_needed_for_uniq': False}, {'_id': 'school:0751622721', '_score': 33.547535, 'area_type': 'school', 'school_id': '0751622721', 'school': 'New York Hebrew', 'line': '121 West 19th Street', 'city': 'New York', 'postal_code': '10011', 'state_code': 'NY', 'country': 'USA', 'centroid': {'lon': -73.995705, 'lat': 40.741074}, 'has_catchment': False, 'slug_id': 'New-York-Hebrew-0751622721', 'city_slug_id': 'New-York_NY'}, {'_id': 'school:0751685001', '_score': 33.42581, 'area_type': 'school', 'school_id': '0751685001', 'school': 'New York State School For The Blind', 'line': '2A Richmond Avenue', 'city': 'Batavia', 'postal_code': '14020', 'state_code': 'NY', 'country': 'USA', 'centroid': {'lon': -78.184921, 'lat': 43.006557}, 'has_catchment': False, 'slug_id': 'New-York-State-School-For-The-Blind-0751685001', 'city_slug_id': 'Batavia_NY'}, {'_id': 'school:0751470731', '_score': 33.31018, 'area_type': 'school', 'school_id': '0751470731', 'school': 'New York Mills Elementary School', 'line': '1 Marauder Boulevard', 'city': 'New York Mills', 'postal_code': '13417', 'state_code': 'NY', 'country': 'USA', 'centroid': {'lon': -75.291348, 'lat': 43.092457}, 'has_catchment': True, 'slug_id': 'New-York-Mills-Elementary-School-0751470731', 'city_slug_id': 'New-York-Mills_NY'}, {'_id': 'county:ny_new-york', '_score': 33.275864, 'area_type': 'county', 'county': 'New York County', 'state_code': 'NY', 'country': 'USA', 'centroid': {'lon': -73.9701871, 'lat': 40.7766419}, 'slug_id': 'New-York-County_NY', 'geo_id': '227f1784-883d-552e-bc7b-944ee20e681b'}, {'_id': 'school:0751470741', '_score': 33.24582, 'area_type': 'school', 'school_id': '0751470741', 'school': 'New York Mills Junior Senior High School', 'line': '1 Marauder Boulevard', 'city': 'New York Mills', 'postal_code': '13417', 'state_code': 'NY', 'country': 'USA', 'centroid': {'lon': -75.291134, 'lat': 43.092351}, 'has_catchment': True, 'slug_id': 'New-York-Mills-Junior-Senior-High-School-0751470741', 'city_slug_id': 'New-York-Mills_NY'}]}\n"
     ]
    }
   ],
   "source": [
    "import requests\n",
    "\n",
    "url = \"https://realtor.p.rapidapi.com/locations/v2/auto-complete\"\n",
    "\n",
    "querystring = {\"input\":\"new york\",\"limit\":\"200\"}\n",
    "\n",
    "headers = {\n",
    "\t\"X-RapidAPI-Key\": \"2ba95481d9msh0392119dabcdcc1p1bf9c2jsna6a401a8cb93\",\n",
    "\t\"X-RapidAPI-Host\": \"realtor.p.rapidapi.com\"\n",
    "}\n",
    "\n",
    "response = requests.get(url, headers=headers, params=querystring)\n",
    "\n",
    "print(response.json())"
   ]
  }
 ],
 "metadata": {
  "kernelspec": {
   "display_name": "datascience",
   "language": "python",
   "name": "python3"
  },
  "language_info": {
   "codemirror_mode": {
    "name": "ipython",
    "version": 3
   },
   "file_extension": ".py",
   "mimetype": "text/x-python",
   "name": "python",
   "nbconvert_exporter": "python",
   "pygments_lexer": "ipython3",
   "version": "3.11.9"
  }
 },
 "nbformat": 4,
 "nbformat_minor": 5
}
