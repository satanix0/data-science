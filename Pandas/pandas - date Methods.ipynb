{
 "cells": [
  {
   "cell_type": "code",
   "execution_count": 1,
   "id": "58184359",
   "metadata": {},
   "outputs": [],
   "source": [
    "import pandas as pd\n",
    "import numpy as np"
   ]
  },
  {
   "cell_type": "code",
   "execution_count": 2,
   "id": "f65941c8",
   "metadata": {},
   "outputs": [],
   "source": [
    "from datetime import datetime"
   ]
  },
  {
   "cell_type": "code",
   "execution_count": 3,
   "id": "5fb42230",
   "metadata": {},
   "outputs": [],
   "source": [
    "myser = pd.Series(['Nov 30, 1990','2000-01-01',None])"
   ]
  },
  {
   "cell_type": "code",
   "execution_count": 4,
   "id": "75f95131",
   "metadata": {},
   "outputs": [
    {
     "data": {
      "text/plain": [
       "0    Nov 30, 1990\n",
       "1      2000-01-01\n",
       "2            None\n",
       "dtype: object"
      ]
     },
     "execution_count": 4,
     "metadata": {},
     "output_type": "execute_result"
    }
   ],
   "source": [
    "myser"
   ]
  },
  {
   "cell_type": "code",
   "execution_count": 5,
   "id": "51cfc7ee",
   "metadata": {},
   "outputs": [],
   "source": [
    "myser = pd.to_datetime(myser)"
   ]
  },
  {
   "cell_type": "code",
   "execution_count": 6,
   "id": "c7fd9003",
   "metadata": {},
   "outputs": [
    {
     "data": {
      "text/plain": [
       "0   1990-11-30\n",
       "1   2000-01-01\n",
       "2          NaT\n",
       "dtype: datetime64[ns]"
      ]
     },
     "execution_count": 6,
     "metadata": {},
     "output_type": "execute_result"
    }
   ],
   "source": [
    "myser"
   ]
  },
  {
   "cell_type": "code",
   "execution_count": 7,
   "id": "e2c21e31",
   "metadata": {},
   "outputs": [
    {
     "data": {
      "text/plain": [
       "<bound method Timestamp.now of <class 'pandas._libs.tslibs.timestamps.Timestamp'>>"
      ]
     },
     "execution_count": 7,
     "metadata": {},
     "output_type": "execute_result"
    }
   ],
   "source": [
    "myser[0].now"
   ]
  },
  {
   "cell_type": "code",
   "execution_count": 8,
   "id": "0f38bec5",
   "metadata": {},
   "outputs": [],
   "source": [
    "style_date = '06/12/2000'"
   ]
  },
  {
   "cell_type": "code",
   "execution_count": 9,
   "id": "a0e0550d",
   "metadata": {},
   "outputs": [
    {
     "data": {
      "text/plain": [
       "Timestamp('2000-06-12 00:00:00')"
      ]
     },
     "execution_count": 9,
     "metadata": {},
     "output_type": "execute_result"
    }
   ],
   "source": [
    "pd.to_datetime(style_date)"
   ]
  },
  {
   "cell_type": "code",
   "execution_count": 10,
   "id": "bf7d9223",
   "metadata": {},
   "outputs": [],
   "source": [
    "cust_date = '12th of July 2000 at 6:30 pm'"
   ]
  },
  {
   "cell_type": "code",
   "execution_count": 11,
   "id": "21673313",
   "metadata": {},
   "outputs": [
    {
     "data": {
      "text/plain": [
       "Timestamp('2000-07-12 18:30:00')"
      ]
     },
     "execution_count": 11,
     "metadata": {},
     "output_type": "execute_result"
    }
   ],
   "source": [
    "pd.to_datetime(cust_date)"
   ]
  },
  {
   "cell_type": "code",
   "execution_count": 12,
   "id": "63064f06",
   "metadata": {},
   "outputs": [],
   "source": [
    "sales =pd.read_csv('..\\\\DATA\\\\RetailSales_BeerWineLiquor.csv')"
   ]
  },
  {
   "cell_type": "code",
   "execution_count": 13,
   "id": "9e1163b8",
   "metadata": {},
   "outputs": [],
   "source": [
    "sales['DATE'] = pd.to_datetime(sales['DATE'])"
   ]
  },
  {
   "cell_type": "code",
   "execution_count": 14,
   "id": "434aeec1",
   "metadata": {},
   "outputs": [
    {
     "data": {
      "text/plain": [
       "<pandas.core.indexes.accessors.DatetimeProperties object at 0x00000226A8901E70>"
      ]
     },
     "execution_count": 14,
     "metadata": {},
     "output_type": "execute_result"
    }
   ],
   "source": [
    "sales['DATE'].dt"
   ]
  },
  {
   "cell_type": "code",
   "execution_count": 26,
   "id": "3435c073",
   "metadata": {},
   "outputs": [
    {
     "data": {
      "text/html": [
       "<div>\n",
       "<style scoped>\n",
       "    .dataframe tbody tr th:only-of-type {\n",
       "        vertical-align: middle;\n",
       "    }\n",
       "\n",
       "    .dataframe tbody tr th {\n",
       "        vertical-align: top;\n",
       "    }\n",
       "\n",
       "    .dataframe thead th {\n",
       "        text-align: right;\n",
       "    }\n",
       "</style>\n",
       "<table border=\"1\" class=\"dataframe\">\n",
       "  <thead>\n",
       "    <tr style=\"text-align: right;\">\n",
       "      <th></th>\n",
       "      <th>foo</th>\n",
       "      <th>MRTSSM4453USN</th>\n",
       "    </tr>\n",
       "  </thead>\n",
       "  <tbody>\n",
       "    <tr>\n",
       "      <th>0</th>\n",
       "      <td>1992-01-01</td>\n",
       "      <td>1509</td>\n",
       "    </tr>\n",
       "    <tr>\n",
       "      <th>1</th>\n",
       "      <td>1992-02-01</td>\n",
       "      <td>1541</td>\n",
       "    </tr>\n",
       "    <tr>\n",
       "      <th>2</th>\n",
       "      <td>1992-03-01</td>\n",
       "      <td>1597</td>\n",
       "    </tr>\n",
       "    <tr>\n",
       "      <th>3</th>\n",
       "      <td>1992-04-01</td>\n",
       "      <td>1675</td>\n",
       "    </tr>\n",
       "    <tr>\n",
       "      <th>4</th>\n",
       "      <td>1992-05-01</td>\n",
       "      <td>1822</td>\n",
       "    </tr>\n",
       "    <tr>\n",
       "      <th>...</th>\n",
       "      <td>...</td>\n",
       "      <td>...</td>\n",
       "    </tr>\n",
       "    <tr>\n",
       "      <th>335</th>\n",
       "      <td>2019-12-01</td>\n",
       "      <td>6630</td>\n",
       "    </tr>\n",
       "    <tr>\n",
       "      <th>336</th>\n",
       "      <td>2020-01-01</td>\n",
       "      <td>4388</td>\n",
       "    </tr>\n",
       "    <tr>\n",
       "      <th>337</th>\n",
       "      <td>2020-02-01</td>\n",
       "      <td>4533</td>\n",
       "    </tr>\n",
       "    <tr>\n",
       "      <th>338</th>\n",
       "      <td>2020-03-01</td>\n",
       "      <td>5562</td>\n",
       "    </tr>\n",
       "    <tr>\n",
       "      <th>339</th>\n",
       "      <td>2020-04-01</td>\n",
       "      <td>5207</td>\n",
       "    </tr>\n",
       "  </tbody>\n",
       "</table>\n",
       "<p>340 rows × 2 columns</p>\n",
       "</div>"
      ],
      "text/plain": [
       "           foo  MRTSSM4453USN\n",
       "0   1992-01-01           1509\n",
       "1   1992-02-01           1541\n",
       "2   1992-03-01           1597\n",
       "3   1992-04-01           1675\n",
       "4   1992-05-01           1822\n",
       "..         ...            ...\n",
       "335 2019-12-01           6630\n",
       "336 2020-01-01           4388\n",
       "337 2020-02-01           4533\n",
       "338 2020-03-01           5562\n",
       "339 2020-04-01           5207\n",
       "\n",
       "[340 rows x 2 columns]"
      ]
     },
     "execution_count": 26,
     "metadata": {},
     "output_type": "execute_result"
    }
   ],
   "source": [
    "sales =pd.read_csv('..\\\\DATA\\\\RetailSales_BeerWineLiquor.csv',parse_dates={'foo':[0]})\n",
    "sales"
   ]
  },
  {
   "cell_type": "code",
   "execution_count": 16,
   "id": "39988b89",
   "metadata": {},
   "outputs": [],
   "source": [
    "sales.columns = ['Date','Sales']"
   ]
  },
  {
   "cell_type": "code",
   "execution_count": 17,
   "id": "d4b93e23",
   "metadata": {},
   "outputs": [
    {
     "data": {
      "text/plain": [
       "Date        Sales\n",
       "1992-01-01  1509     1\n",
       "2010-09-01  3365     1\n",
       "2011-05-01  3471     1\n",
       "2011-04-01  3363     1\n",
       "2011-03-01  3249     1\n",
       "                    ..\n",
       "2001-04-01  2231     1\n",
       "2001-03-01  2327     1\n",
       "2001-02-01  2052     1\n",
       "2001-01-01  2109     1\n",
       "2020-04-01  5207     1\n",
       "Length: 340, dtype: int64"
      ]
     },
     "execution_count": 17,
     "metadata": {},
     "output_type": "execute_result"
    }
   ],
   "source": [
    "sales.value_counts()"
   ]
  },
  {
   "cell_type": "code",
   "execution_count": 18,
   "id": "2a2265fe",
   "metadata": {},
   "outputs": [
    {
     "data": {
      "text/plain": [
       "0      00:00:00\n",
       "1      00:00:00\n",
       "2      00:00:00\n",
       "3      00:00:00\n",
       "4      00:00:00\n",
       "         ...   \n",
       "335    00:00:00\n",
       "336    00:00:00\n",
       "337    00:00:00\n",
       "338    00:00:00\n",
       "339    00:00:00\n",
       "Name: Date, Length: 340, dtype: object"
      ]
     },
     "execution_count": 18,
     "metadata": {},
     "output_type": "execute_result"
    }
   ],
   "source": [
    "sales.Date.dt.time"
   ]
  },
  {
   "cell_type": "code",
   "execution_count": null,
   "id": "04c8854f",
   "metadata": {},
   "outputs": [],
   "source": []
  }
 ],
 "metadata": {
  "kernelspec": {
   "display_name": "Python 3 (ipykernel)",
   "language": "python",
   "name": "python3"
  },
  "language_info": {
   "codemirror_mode": {
    "name": "ipython",
    "version": 3
   },
   "file_extension": ".py",
   "mimetype": "text/x-python",
   "name": "python",
   "nbconvert_exporter": "python",
   "pygments_lexer": "ipython3",
   "version": "3.9.13"
  },
  "vscode": {
   "interpreter": {
    "hash": "fa6fc890c19d0518efc3ca8fefe1ab7c2a921b84ac247755bf14d3f8c1bb1ece"
   }
  }
 },
 "nbformat": 4,
 "nbformat_minor": 5
}
