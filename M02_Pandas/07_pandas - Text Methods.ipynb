{
 "cells": [
  {
   "cell_type": "code",
   "execution_count": 1,
   "id": "113be7e4",
   "metadata": {},
   "outputs": [],
   "source": [
    "import pandas as pd\n",
    "import numpy as np"
   ]
  },
  {
   "cell_type": "code",
   "execution_count": 2,
   "id": "23442780",
   "metadata": {},
   "outputs": [],
   "source": [
    "em = 'jack@mail.com'"
   ]
  },
  {
   "cell_type": "code",
   "execution_count": 3,
   "id": "f911d37b",
   "metadata": {},
   "outputs": [
    {
     "data": {
      "text/plain": [
       "['mail', 'com']"
      ]
     },
     "execution_count": 3,
     "metadata": {},
     "output_type": "execute_result"
    }
   ],
   "source": [
    "em.split('@')[1].split('.')"
   ]
  },
  {
   "cell_type": "code",
   "execution_count": 4,
   "id": "c675def1",
   "metadata": {},
   "outputs": [],
   "source": [
    "names = pd.Series(['andrew','jack','laura','cindy','5'])"
   ]
  },
  {
   "cell_type": "code",
   "execution_count": 5,
   "id": "95ccf0be",
   "metadata": {
    "scrolled": true
   },
   "outputs": [
    {
     "data": {
      "text/plain": [
       "0    andrew\n",
       "1      jack\n",
       "2     laura\n",
       "3     cindy\n",
       "4         5\n",
       "dtype: object"
      ]
     },
     "execution_count": 5,
     "metadata": {},
     "output_type": "execute_result"
    }
   ],
   "source": [
    "names"
   ]
  },
  {
   "cell_type": "code",
   "execution_count": 6,
   "id": "0df7414c",
   "metadata": {},
   "outputs": [],
   "source": [
    "tec_fin = ['SPFY,AMZN,META','JPM,BAC,GSC']"
   ]
  },
  {
   "cell_type": "code",
   "execution_count": 7,
   "id": "c564163e",
   "metadata": {},
   "outputs": [],
   "source": [
    "tickers= pd.Series(tec_fin)"
   ]
  },
  {
   "cell_type": "code",
   "execution_count": 8,
   "id": "15317e65",
   "metadata": {},
   "outputs": [
    {
     "data": {
      "text/html": [
       "<div>\n",
       "<style scoped>\n",
       "    .dataframe tbody tr th:only-of-type {\n",
       "        vertical-align: middle;\n",
       "    }\n",
       "\n",
       "    .dataframe tbody tr th {\n",
       "        vertical-align: top;\n",
       "    }\n",
       "\n",
       "    .dataframe thead th {\n",
       "        text-align: right;\n",
       "    }\n",
       "</style>\n",
       "<table border=\"1\" class=\"dataframe\">\n",
       "  <thead>\n",
       "    <tr style=\"text-align: right;\">\n",
       "      <th></th>\n",
       "      <th>0</th>\n",
       "      <th>1</th>\n",
       "      <th>2</th>\n",
       "    </tr>\n",
       "  </thead>\n",
       "  <tbody>\n",
       "    <tr>\n",
       "      <th>0</th>\n",
       "      <td>SPFY</td>\n",
       "      <td>AMZN</td>\n",
       "      <td>META</td>\n",
       "    </tr>\n",
       "    <tr>\n",
       "      <th>1</th>\n",
       "      <td>JPM</td>\n",
       "      <td>BAC</td>\n",
       "      <td>GSC</td>\n",
       "    </tr>\n",
       "  </tbody>\n",
       "</table>\n",
       "</div>"
      ],
      "text/plain": [
       "      0     1     2\n",
       "0  SPFY  AMZN  META\n",
       "1   JPM   BAC   GSC"
      ]
     },
     "execution_count": 8,
     "metadata": {},
     "output_type": "execute_result"
    }
   ],
   "source": [
    "tickers.str.split(',',expand=True)"
   ]
  },
  {
   "cell_type": "code",
   "execution_count": 18,
   "id": "4841fa81",
   "metadata": {},
   "outputs": [],
   "source": [
    "messy_names = pd.Series(['andrew   ','b;ob','  Claire   '])"
   ]
  },
  {
   "cell_type": "code",
   "execution_count": 14,
   "id": "03c56f18",
   "metadata": {},
   "outputs": [
    {
     "data": {
      "text/plain": [
       "0    Andrew\n",
       "1       Bob\n",
       "2    Claire\n",
       "dtype: object"
      ]
     },
     "execution_count": 14,
     "metadata": {},
     "output_type": "execute_result"
    }
   ],
   "source": [
    "messy_names.str.replace(';','').str.replace(' ','').str.title()"
   ]
  },
  {
   "cell_type": "code",
   "execution_count": 15,
   "id": "07e15bfd",
   "metadata": {},
   "outputs": [],
   "source": [
    "def clean(name):\n",
    "    name = name.replace(';','')\n",
    "    name = name.strip()\n",
    "    name = name.capitalize()\n",
    "    return name"
   ]
  },
  {
   "cell_type": "code",
   "execution_count": 17,
   "id": "a0acde50",
   "metadata": {},
   "outputs": [
    {
     "data": {
      "text/plain": [
       "0    Andrew\n",
       "1       Bob\n",
       "2    Claire\n",
       "dtype: object"
      ]
     },
     "execution_count": 17,
     "metadata": {},
     "output_type": "execute_result"
    }
   ],
   "source": []
  },
  {
   "cell_type": "code",
   "execution_count": 19,
   "id": "9dccf2ad",
   "metadata": {},
   "outputs": [
    {
     "data": {
      "text/plain": [
       "0      andrew   \n",
       "1           b;ob\n",
       "2      Claire   \n",
       "dtype: object"
      ]
     },
     "execution_count": 19,
     "metadata": {},
     "output_type": "execute_result"
    }
   ],
   "source": [
    "messy_names"
   ]
  },
  {
   "cell_type": "code",
   "execution_count": 20,
   "id": "dfe1bc52",
   "metadata": {},
   "outputs": [
    {
     "data": {
      "text/plain": [
       "0    Andrew\n",
       "1       Bob\n",
       "2    Claire\n",
       "dtype: object"
      ]
     },
     "execution_count": 20,
     "metadata": {},
     "output_type": "execute_result"
    }
   ],
   "source": [
    "messy_names.apply(func=clean)"
   ]
  },
  {
   "cell_type": "markdown",
   "id": "9a032840",
   "metadata": {},
   "source": [
    "### Most Efficent is np.vectorise(func name)(Series)"
   ]
  },
  {
   "cell_type": "code",
   "execution_count": null,
   "id": "e9c367da",
   "metadata": {},
   "outputs": [],
   "source": []
  }
 ],
 "metadata": {
  "kernelspec": {
   "display_name": "Python 3 (ipykernel)",
   "language": "python",
   "name": "python3"
  },
  "language_info": {
   "codemirror_mode": {
    "name": "ipython",
    "version": 3
   },
   "file_extension": ".py",
   "mimetype": "text/x-python",
   "name": "python",
   "nbconvert_exporter": "python",
   "pygments_lexer": "ipython3",
   "version": "3.10.6"
  }
 },
 "nbformat": 4,
 "nbformat_minor": 5
}
