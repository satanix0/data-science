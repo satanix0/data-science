{
 "cells": [
  {
   "cell_type": "code",
   "execution_count": 2,
   "id": "58184359",
   "metadata": {},
   "outputs": [],
   "source": [
    "import pandas as pd\n",
    "import numpy as np"
   ]
  },
  {
   "cell_type": "code",
   "execution_count": 3,
   "id": "f65941c8",
   "metadata": {},
   "outputs": [],
   "source": [
    "from datetime import datetime"
   ]
  },
  {
   "cell_type": "code",
   "execution_count": null,
   "id": "5fb42230",
   "metadata": {},
   "outputs": [],
   "source": [
    "myser = pd.Series(['Nov 30, 1990', '2000-01-01', None])\n",
    "myser"
   ]
  },
  {
   "cell_type": "code",
   "execution_count": null,
   "id": "51cfc7ee",
   "metadata": {},
   "outputs": [],
   "source": [
    "myser = pd.to_datetime(myser, format='mixed')"
   ]
  },
  {
   "cell_type": "code",
   "execution_count": null,
   "id": "c7fd9003",
   "metadata": {},
   "outputs": [],
   "source": [
    "myser"
   ]
  },
  {
   "cell_type": "code",
   "execution_count": null,
   "id": "e2c21e31",
   "metadata": {},
   "outputs": [],
   "source": [
    "myser[0].now"
   ]
  },
  {
   "cell_type": "code",
   "execution_count": 23,
   "id": "0f38bec5",
   "metadata": {},
   "outputs": [],
   "source": [
    "style_date = '06/12/2000'"
   ]
  },
  {
   "cell_type": "code",
   "execution_count": null,
   "id": "a0e0550d",
   "metadata": {},
   "outputs": [],
   "source": [
    "pd.to_datetime(style_date)"
   ]
  },
  {
   "cell_type": "code",
   "execution_count": 25,
   "id": "bf7d9223",
   "metadata": {},
   "outputs": [],
   "source": [
    "cust_date = '12th of July 2000 at 6:30 pm'"
   ]
  },
  {
   "cell_type": "code",
   "execution_count": null,
   "id": "21673313",
   "metadata": {},
   "outputs": [],
   "source": [
    "pd.to_datetime(cust_date)"
   ]
  },
  {
   "cell_type": "code",
   "execution_count": 38,
   "id": "63064f06",
   "metadata": {},
   "outputs": [],
   "source": [
    "sales = pd.read_csv('..\\\\Datasets\\\\RetailSales_BeerWineLiquor.csv')"
   ]
  },
  {
   "cell_type": "code",
   "execution_count": null,
   "id": "9e1163b8",
   "metadata": {},
   "outputs": [],
   "source": [
    "sales['DATE'] = pd.to_datetime(sales['DATE'])"
   ]
  },
  {
   "cell_type": "code",
   "execution_count": null,
   "id": "434aeec1",
   "metadata": {},
   "outputs": [],
   "source": [
    "sales['DATE'].dt"
   ]
  },
  {
   "cell_type": "code",
   "execution_count": null,
   "id": "3435c073",
   "metadata": {},
   "outputs": [],
   "source": [
    "sales = pd.read_csv(\n",
    "    '..\\\\Datasets\\\\RetailSales_BeerWineLiquor.csv', parse_dates={'foo': [0]})\n",
    "sales"
   ]
  },
  {
   "cell_type": "code",
   "execution_count": 42,
   "id": "39988b89",
   "metadata": {},
   "outputs": [],
   "source": [
    "sales.columns = ['Date', 'Sales']"
   ]
  },
  {
   "cell_type": "code",
   "execution_count": null,
   "id": "d4b93e23",
   "metadata": {},
   "outputs": [],
   "source": [
    "sales.value_counts()"
   ]
  },
  {
   "cell_type": "code",
   "execution_count": null,
   "id": "2a2265fe",
   "metadata": {},
   "outputs": [],
   "source": [
    "sales.Date.dt.time"
   ]
  },
  {
   "cell_type": "code",
   "execution_count": null,
   "id": "04c8854f",
   "metadata": {},
   "outputs": [],
   "source": []
  }
 ],
 "metadata": {
  "kernelspec": {
   "display_name": "datascience",
   "language": "python",
   "name": "python3"
  },
  "language_info": {
   "codemirror_mode": {
    "name": "ipython",
    "version": 3
   },
   "file_extension": ".py",
   "mimetype": "text/x-python",
   "name": "python",
   "nbconvert_exporter": "python",
   "pygments_lexer": "ipython3",
   "version": "3.11.9"
  }
 },
 "nbformat": 4,
 "nbformat_minor": 5
}
