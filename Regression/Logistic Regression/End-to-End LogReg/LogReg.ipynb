{
 "cells": [
  {
   "cell_type": "markdown",
   "metadata": {
    "colab_type": "text",
    "id": "view-in-github"
   },
   "source": [
    "<a href=\"https://colab.research.google.com/github/satanix0/data-science/blob/main/Regression%20/Logistic%20Regression/LogReg.ipynb\" target=\"_parent\"><img src=\"https://colab.research.google.com/assets/colab-badge.svg\" alt=\"Open In Colab\"/></a>"
   ]
  },
  {
   "cell_type": "code",
   "execution_count": 1,
   "metadata": {
    "id": "Dj43C9y9E9N6"
   },
   "outputs": [],
   "source": [
    "import numpy as np\n",
    "import pandas as pd\n",
    "#Libraries for data visualization\n",
    "import matplotlib.pyplot as plt\n",
    "import seaborn as sns\n",
    "#We will use sklearn for building logistic regression model\n",
    "from sklearn.linear_model import LogisticRegression"
   ]
  },
  {
   "cell_type": "code",
   "execution_count": 2,
   "metadata": {
    "colab": {
     "base_uri": "https://localhost:8080/"
    },
    "id": "ZzTVBx1gJD7C",
    "outputId": "1561058f-638a-4970-f238-ca6d94d95ef5"
   },
   "outputs": [
    {
     "name": "stdout",
     "output_type": "stream",
     "text": [
      "shape of dataframe is :  (54808, 14)\n",
      "<class 'pandas.core.frame.DataFrame'>\n",
      "RangeIndex: 54808 entries, 0 to 54807\n",
      "Data columns (total 14 columns):\n",
      " #   Column                Non-Null Count  Dtype  \n",
      "---  ------                --------------  -----  \n",
      " 0   employee_id           54808 non-null  int64  \n",
      " 1   department            54808 non-null  object \n",
      " 2   region                54808 non-null  object \n",
      " 3   education             52399 non-null  object \n",
      " 4   gender                54808 non-null  object \n",
      " 5   recruitment_channel   54808 non-null  object \n",
      " 6   no_of_trainings       54808 non-null  int64  \n",
      " 7   age                   54808 non-null  int64  \n",
      " 8   previous_year_rating  50684 non-null  float64\n",
      " 9   length_of_service     54808 non-null  int64  \n",
      " 10  KPIs_met >80%         54808 non-null  int64  \n",
      " 11  awards_won?           54808 non-null  int64  \n",
      " 12  avg_training_score    54808 non-null  int64  \n",
      " 13  is_promoted           54808 non-null  int64  \n",
      "dtypes: float64(1), int64(8), object(5)\n",
      "memory usage: 5.9+ MB\n"
     ]
    },
    {
     "data": {
      "text/plain": [
       "employee_id                0\n",
       "department                 0\n",
       "region                     0\n",
       "education               2409\n",
       "gender                     0\n",
       "recruitment_channel        0\n",
       "no_of_trainings            0\n",
       "age                        0\n",
       "previous_year_rating    4124\n",
       "length_of_service          0\n",
       "KPIs_met >80%              0\n",
       "awards_won?                0\n",
       "avg_training_score         0\n",
       "is_promoted                0\n",
       "dtype: int64"
      ]
     },
     "execution_count": 2,
     "metadata": {},
     "output_type": "execute_result"
    }
   ],
   "source": [
    "data = pd.read_csv('train.csv')\n",
    "#shape of dataset\n",
    "print(\"shape of dataframe is : \", data.shape)\n",
    "# summary of data\n",
    "data.info()\n",
    "#Get Statistical details of data\n",
    "data.describe().T\n",
    "\n",
    "data.isnull().sum()"
   ]
  },
  {
   "cell_type": "code",
   "execution_count": 3,
   "metadata": {
    "colab": {
     "base_uri": "https://localhost:8080/",
     "height": 487
    },
    "id": "SRSMfEsFKHmi",
    "outputId": "d2e143a2-519a-44d1-fb72-2ccc5ce4edf6"
   },
   "outputs": [
    {
     "data": {
      "text/html": [
       "<div>\n",
       "<style scoped>\n",
       "    .dataframe tbody tr th:only-of-type {\n",
       "        vertical-align: middle;\n",
       "    }\n",
       "\n",
       "    .dataframe tbody tr th {\n",
       "        vertical-align: top;\n",
       "    }\n",
       "\n",
       "    .dataframe thead th {\n",
       "        text-align: right;\n",
       "    }\n",
       "</style>\n",
       "<table border=\"1\" class=\"dataframe\">\n",
       "  <thead>\n",
       "    <tr style=\"text-align: right;\">\n",
       "      <th></th>\n",
       "      <th>employee_id</th>\n",
       "      <th>department</th>\n",
       "      <th>region</th>\n",
       "      <th>education</th>\n",
       "      <th>gender</th>\n",
       "      <th>recruitment_channel</th>\n",
       "      <th>no_of_trainings</th>\n",
       "      <th>age</th>\n",
       "      <th>previous_year_rating</th>\n",
       "      <th>length_of_service</th>\n",
       "      <th>KPIs_met &gt;80%</th>\n",
       "      <th>awards_won?</th>\n",
       "      <th>avg_training_score</th>\n",
       "      <th>is_promoted</th>\n",
       "    </tr>\n",
       "  </thead>\n",
       "  <tbody>\n",
       "    <tr>\n",
       "      <th>52998</th>\n",
       "      <td>16747</td>\n",
       "      <td>Operations</td>\n",
       "      <td>region_7</td>\n",
       "      <td>Master's &amp; above</td>\n",
       "      <td>f</td>\n",
       "      <td>other</td>\n",
       "      <td>1</td>\n",
       "      <td>32</td>\n",
       "      <td>5.0</td>\n",
       "      <td>2</td>\n",
       "      <td>1</td>\n",
       "      <td>0</td>\n",
       "      <td>59</td>\n",
       "      <td>0</td>\n",
       "    </tr>\n",
       "    <tr>\n",
       "      <th>3870</th>\n",
       "      <td>69253</td>\n",
       "      <td>Operations</td>\n",
       "      <td>region_19</td>\n",
       "      <td>Bachelor's</td>\n",
       "      <td>m</td>\n",
       "      <td>sourcing</td>\n",
       "      <td>1</td>\n",
       "      <td>33</td>\n",
       "      <td>3.0</td>\n",
       "      <td>4</td>\n",
       "      <td>1</td>\n",
       "      <td>0</td>\n",
       "      <td>56</td>\n",
       "      <td>0</td>\n",
       "    </tr>\n",
       "    <tr>\n",
       "      <th>44631</th>\n",
       "      <td>4897</td>\n",
       "      <td>Operations</td>\n",
       "      <td>region_2</td>\n",
       "      <td>Bachelor's</td>\n",
       "      <td>m</td>\n",
       "      <td>sourcing</td>\n",
       "      <td>1</td>\n",
       "      <td>33</td>\n",
       "      <td>4.0</td>\n",
       "      <td>9</td>\n",
       "      <td>1</td>\n",
       "      <td>0</td>\n",
       "      <td>59</td>\n",
       "      <td>0</td>\n",
       "    </tr>\n",
       "    <tr>\n",
       "      <th>4509</th>\n",
       "      <td>42144</td>\n",
       "      <td>Sales &amp; Marketing</td>\n",
       "      <td>region_7</td>\n",
       "      <td>Bachelor's</td>\n",
       "      <td>m</td>\n",
       "      <td>sourcing</td>\n",
       "      <td>1</td>\n",
       "      <td>43</td>\n",
       "      <td>5.0</td>\n",
       "      <td>10</td>\n",
       "      <td>1</td>\n",
       "      <td>0</td>\n",
       "      <td>49</td>\n",
       "      <td>0</td>\n",
       "    </tr>\n",
       "    <tr>\n",
       "      <th>34503</th>\n",
       "      <td>72374</td>\n",
       "      <td>Sales &amp; Marketing</td>\n",
       "      <td>region_2</td>\n",
       "      <td>Bachelor's</td>\n",
       "      <td>m</td>\n",
       "      <td>sourcing</td>\n",
       "      <td>1</td>\n",
       "      <td>30</td>\n",
       "      <td>4.0</td>\n",
       "      <td>6</td>\n",
       "      <td>0</td>\n",
       "      <td>0</td>\n",
       "      <td>48</td>\n",
       "      <td>0</td>\n",
       "    </tr>\n",
       "    <tr>\n",
       "      <th>52903</th>\n",
       "      <td>22855</td>\n",
       "      <td>Operations</td>\n",
       "      <td>region_32</td>\n",
       "      <td>Bachelor's</td>\n",
       "      <td>f</td>\n",
       "      <td>other</td>\n",
       "      <td>1</td>\n",
       "      <td>35</td>\n",
       "      <td>4.0</td>\n",
       "      <td>9</td>\n",
       "      <td>1</td>\n",
       "      <td>0</td>\n",
       "      <td>59</td>\n",
       "      <td>0</td>\n",
       "    </tr>\n",
       "    <tr>\n",
       "      <th>19222</th>\n",
       "      <td>29405</td>\n",
       "      <td>Sales &amp; Marketing</td>\n",
       "      <td>region_22</td>\n",
       "      <td>Master's &amp; above</td>\n",
       "      <td>m</td>\n",
       "      <td>other</td>\n",
       "      <td>1</td>\n",
       "      <td>48</td>\n",
       "      <td>3.0</td>\n",
       "      <td>18</td>\n",
       "      <td>0</td>\n",
       "      <td>0</td>\n",
       "      <td>52</td>\n",
       "      <td>0</td>\n",
       "    </tr>\n",
       "    <tr>\n",
       "      <th>51937</th>\n",
       "      <td>62958</td>\n",
       "      <td>Procurement</td>\n",
       "      <td>region_31</td>\n",
       "      <td>Bachelor's</td>\n",
       "      <td>m</td>\n",
       "      <td>other</td>\n",
       "      <td>1</td>\n",
       "      <td>39</td>\n",
       "      <td>5.0</td>\n",
       "      <td>11</td>\n",
       "      <td>1</td>\n",
       "      <td>1</td>\n",
       "      <td>90</td>\n",
       "      <td>1</td>\n",
       "    </tr>\n",
       "    <tr>\n",
       "      <th>53586</th>\n",
       "      <td>55013</td>\n",
       "      <td>Technology</td>\n",
       "      <td>region_5</td>\n",
       "      <td>Bachelor's</td>\n",
       "      <td>f</td>\n",
       "      <td>other</td>\n",
       "      <td>2</td>\n",
       "      <td>37</td>\n",
       "      <td>3.0</td>\n",
       "      <td>10</td>\n",
       "      <td>0</td>\n",
       "      <td>0</td>\n",
       "      <td>83</td>\n",
       "      <td>0</td>\n",
       "    </tr>\n",
       "    <tr>\n",
       "      <th>18515</th>\n",
       "      <td>11162</td>\n",
       "      <td>Sales &amp; Marketing</td>\n",
       "      <td>region_7</td>\n",
       "      <td>NaN</td>\n",
       "      <td>m</td>\n",
       "      <td>other</td>\n",
       "      <td>2</td>\n",
       "      <td>26</td>\n",
       "      <td>3.0</td>\n",
       "      <td>3</td>\n",
       "      <td>0</td>\n",
       "      <td>0</td>\n",
       "      <td>47</td>\n",
       "      <td>0</td>\n",
       "    </tr>\n",
       "  </tbody>\n",
       "</table>\n",
       "</div>"
      ],
      "text/plain": [
       "       employee_id         department     region         education gender  \\\n",
       "52998        16747         Operations   region_7  Master's & above      f   \n",
       "3870         69253         Operations  region_19        Bachelor's      m   \n",
       "44631         4897         Operations   region_2        Bachelor's      m   \n",
       "4509         42144  Sales & Marketing   region_7        Bachelor's      m   \n",
       "34503        72374  Sales & Marketing   region_2        Bachelor's      m   \n",
       "52903        22855         Operations  region_32        Bachelor's      f   \n",
       "19222        29405  Sales & Marketing  region_22  Master's & above      m   \n",
       "51937        62958        Procurement  region_31        Bachelor's      m   \n",
       "53586        55013         Technology   region_5        Bachelor's      f   \n",
       "18515        11162  Sales & Marketing   region_7               NaN      m   \n",
       "\n",
       "      recruitment_channel  no_of_trainings  age  previous_year_rating  \\\n",
       "52998               other                1   32                   5.0   \n",
       "3870             sourcing                1   33                   3.0   \n",
       "44631            sourcing                1   33                   4.0   \n",
       "4509             sourcing                1   43                   5.0   \n",
       "34503            sourcing                1   30                   4.0   \n",
       "52903               other                1   35                   4.0   \n",
       "19222               other                1   48                   3.0   \n",
       "51937               other                1   39                   5.0   \n",
       "53586               other                2   37                   3.0   \n",
       "18515               other                2   26                   3.0   \n",
       "\n",
       "       length_of_service  KPIs_met >80%  awards_won?  avg_training_score  \\\n",
       "52998                  2              1            0                  59   \n",
       "3870                   4              1            0                  56   \n",
       "44631                  9              1            0                  59   \n",
       "4509                  10              1            0                  49   \n",
       "34503                  6              0            0                  48   \n",
       "52903                  9              1            0                  59   \n",
       "19222                 18              0            0                  52   \n",
       "51937                 11              1            1                  90   \n",
       "53586                 10              0            0                  83   \n",
       "18515                  3              0            0                  47   \n",
       "\n",
       "       is_promoted  \n",
       "52998            0  \n",
       "3870             0  \n",
       "44631            0  \n",
       "4509             0  \n",
       "34503            0  \n",
       "52903            0  \n",
       "19222            0  \n",
       "51937            1  \n",
       "53586            0  \n",
       "18515            0  "
      ]
     },
     "execution_count": 3,
     "metadata": {},
     "output_type": "execute_result"
    }
   ],
   "source": [
    "data.sample(10)"
   ]
  },
  {
   "cell_type": "code",
   "execution_count": 4,
   "metadata": {
    "colab": {
     "base_uri": "https://localhost:8080/"
    },
    "id": "dSSWDAR8Ka00",
    "outputId": "99db68fa-c3f6-4b8f-d85d-a1bee4c17157"
   },
   "outputs": [
    {
     "name": "stdout",
     "output_type": "stream",
     "text": [
      "department               9\n",
      "region                  34\n",
      "education                3\n",
      "gender                   2\n",
      "recruitment_channel      3\n",
      "no_of_trainings         10\n",
      "age                     41\n",
      "previous_year_rating     5\n",
      "length_of_service       35\n",
      "KPIs_met >80%            2\n",
      "awards_won?              2\n",
      "avg_training_score      61\n",
      "is_promoted              2\n",
      "dtype: int64\n"
     ]
    },
    {
     "data": {
      "text/plain": [
       "[]"
      ]
     },
     "execution_count": 4,
     "metadata": {},
     "output_type": "execute_result"
    }
   ],
   "source": [
    "# Drop E_id as its of no use\n",
    "data.drop(columns=['employee_id'],inplace=True)\n",
    "\n",
    "print(data.nunique())\n",
    "to_removed = [i for i,j in data.nunique().to_dict().items() if j == 1 ]\n",
    "to_removed\n",
    "# Nothing gets removed as no column have only one single unique value"
   ]
  },
  {
   "cell_type": "code",
   "execution_count": 5,
   "metadata": {
    "colab": {
     "base_uri": "https://localhost:8080/"
    },
    "id": "zOzVn9aRNLtr",
    "outputId": "06370b60-8999-4e07-b668-23593963ea62"
   },
   "outputs": [
    {
     "data": {
      "text/plain": [
       "department              0.000000\n",
       "region                  0.000000\n",
       "education               4.395344\n",
       "gender                  0.000000\n",
       "recruitment_channel     0.000000\n",
       "no_of_trainings         0.000000\n",
       "age                     0.000000\n",
       "previous_year_rating    7.524449\n",
       "length_of_service       0.000000\n",
       "KPIs_met >80%           0.000000\n",
       "awards_won?             0.000000\n",
       "avg_training_score      0.000000\n",
       "is_promoted             0.000000\n",
       "dtype: float64"
      ]
     },
     "execution_count": 5,
     "metadata": {},
     "output_type": "execute_result"
    }
   ],
   "source": [
    "# Checking Percentage of Null values in each column\n",
    "data.isnull().mean()*100\n",
    "# education and previous_year_rating has 4.3% and 7.5% missing values respectively"
   ]
  },
  {
   "cell_type": "code",
   "execution_count": 6,
   "metadata": {
    "colab": {
     "base_uri": "https://localhost:8080/"
    },
    "id": "YpSvWsY_PoYQ",
    "outputId": "6a1dfecb-5a65-4db9-a0b9-c870bcd348b4"
   },
   "outputs": [
    {
     "data": {
      "text/plain": [
       "department              0.0\n",
       "region                  0.0\n",
       "education               0.0\n",
       "gender                  0.0\n",
       "recruitment_channel     0.0\n",
       "no_of_trainings         0.0\n",
       "age                     0.0\n",
       "previous_year_rating    0.0\n",
       "length_of_service       0.0\n",
       "KPIs_met >80%           0.0\n",
       "awards_won?             0.0\n",
       "avg_training_score      0.0\n",
       "is_promoted             0.0\n",
       "dtype: float64"
      ]
     },
     "execution_count": 6,
     "metadata": {},
     "output_type": "execute_result"
    }
   ],
   "source": [
    "# Changing the missing values with 0 and changing the dtyoe as int\n",
    "data['previous_year_rating'] = data['previous_year_rating'].fillna(value = 0)\n",
    "data.education.fillna(\"Bachelor's\", inplace =True)\n",
    "data.isnull().mean()*100\n",
    "# No Null values upon Imputation"
   ]
  },
  {
   "cell_type": "code",
   "execution_count": 7,
   "metadata": {
    "colab": {
     "base_uri": "https://localhost:8080/",
     "height": 307
    },
    "id": "NCivCbWWQBLJ",
    "outputId": "c43d3e43-9f5a-42d8-a009-1c5df0005b72"
   },
   "outputs": [
    {
     "data": {
      "image/png": "[encoded data removed]",
      "text/plain": [
       "<Figure size 1000x300 with 2 Axes>"
      ]
     },
     "metadata": {},
     "output_type": "display_data"
    }
   ],
   "source": [
    "# chart for distribution of target variable\n",
    "fig= plt.figure(figsize=(10,3) )\n",
    "fig.add_subplot(1,2,1)\n",
    "a= data[\"is_promoted\"].value_counts(normalize=True).plot.pie()\n",
    "fig.add_subplot(1,2,2)\n",
    "churnchart=sns.countplot(x=data[\"is_promoted\"],)\n",
    "plt.tight_layout()\n",
    "plt.show()\n",
    "\n",
    "# there is a class imbalance because class 0 has more data points or observations than class 1"
   ]
  },
  {
   "cell_type": "code",
   "execution_count": 8,
   "metadata": {
    "colab": {
     "base_uri": "https://localhost:8080/",
     "height": 485
    },
    "id": "-UleLHTVZl0q",
    "outputId": "31d22aa6-9d58-40a8-c162-6f0bbbb69606"
   },
   "outputs": [
    {
     "data": {
      "image/png": "[encoded data removed]",
      "text/plain": [
       "<Figure size 1000x500 with 3 Axes>"
      ]
     },
     "metadata": {},
     "output_type": "display_data"
    }
   ],
   "source": [
    "# Visualize relationship between promoted and other features\n",
    "fig= plt.figure(figsize=(10,5) )\n",
    "fig.add_subplot(1,3,1)\n",
    "ar_6=sns.boxplot(x=data[\"is_promoted\"],y=data[\"length_of_service\"])\n",
    "fig.add_subplot(1,3,2)\n",
    "ar_6=sns.boxplot(x=data[\"is_promoted\"],y=data[\"avg_training_score\"])\n",
    "fig.add_subplot(1,3,3)\n",
    "ar_6=sns.boxplot(x=data[\"is_promoted\"],y=data[\"previous_year_rating\"])\n",
    "plt.tight_layout()\n",
    "plt.show()\n",
    "\n",
    "# For an employee If the avg_training_score value is higher then the chances of getting promoted are more."
   ]
  },
  {
   "cell_type": "code",
   "execution_count": 9,
   "metadata": {
    "colab": {
     "base_uri": "https://localhost:8080/",
     "height": 639
    },
    "id": "XPZRAU9faWTu",
    "outputId": "97da4078-1ef9-4b3d-d420-5e06766303ad"
   },
   "outputs": [
    {
     "data": {
      "image/png": "[encoded data removed]",
      "text/plain": [
       "<Figure size 640x480 with 2 Axes>"
      ]
     },
     "metadata": {},
     "output_type": "display_data"
    }
   ],
   "source": [
    "#correlation between features\n",
    "corr_plot = sns.heatmap(data.corr(numeric_only=True), annot = True, linewidths=3)\n",
    "plt.title(\"Correlation plot\")\n",
    "plt.show()\n",
    "\n",
    "# None of the features is highly correlated with each other except age and length of the service."
   ]
  },
  {
   "cell_type": "code",
   "execution_count": 10,
   "metadata": {
    "colab": {
     "base_uri": "https://localhost:8080/",
     "height": 713
    },
    "id": "Giu-TTk_a6Ux",
    "outputId": "c3f10c93-d21b-4c02-ccf5-14688628fd2c"
   },
   "outputs": [
    {
     "data": {
      "text/html": [
       "<div>\n",
       "<style scoped>\n",
       "    .dataframe tbody tr th:only-of-type {\n",
       "        vertical-align: middle;\n",
       "    }\n",
       "\n",
       "    .dataframe tbody tr th {\n",
       "        vertical-align: top;\n",
       "    }\n",
       "\n",
       "    .dataframe thead th {\n",
       "        text-align: right;\n",
       "    }\n",
       "</style>\n",
       "<table border=\"1\" class=\"dataframe\">\n",
       "  <thead>\n",
       "    <tr style=\"text-align: right;\">\n",
       "      <th></th>\n",
       "      <th>department</th>\n",
       "      <th>region</th>\n",
       "      <th>education</th>\n",
       "      <th>gender</th>\n",
       "      <th>recruitment_channel</th>\n",
       "      <th>no_of_trainings</th>\n",
       "      <th>age</th>\n",
       "      <th>previous_year_rating</th>\n",
       "      <th>length_of_service</th>\n",
       "      <th>KPIs_met &gt;80%</th>\n",
       "      <th>awards_won?</th>\n",
       "      <th>avg_training_score</th>\n",
       "      <th>is_promoted</th>\n",
       "    </tr>\n",
       "  </thead>\n",
       "  <tbody>\n",
       "    <tr>\n",
       "      <th>0</th>\n",
       "      <td>Sales &amp; Marketing</td>\n",
       "      <td>region_7</td>\n",
       "      <td>Master's &amp; above</td>\n",
       "      <td>0</td>\n",
       "      <td>sourcing</td>\n",
       "      <td>1</td>\n",
       "      <td>35</td>\n",
       "      <td>5.0</td>\n",
       "      <td>8</td>\n",
       "      <td>1</td>\n",
       "      <td>0</td>\n",
       "      <td>49</td>\n",
       "      <td>0</td>\n",
       "    </tr>\n",
       "    <tr>\n",
       "      <th>1</th>\n",
       "      <td>Operations</td>\n",
       "      <td>region_22</td>\n",
       "      <td>Bachelor's</td>\n",
       "      <td>1</td>\n",
       "      <td>other</td>\n",
       "      <td>1</td>\n",
       "      <td>30</td>\n",
       "      <td>5.0</td>\n",
       "      <td>4</td>\n",
       "      <td>0</td>\n",
       "      <td>0</td>\n",
       "      <td>60</td>\n",
       "      <td>0</td>\n",
       "    </tr>\n",
       "    <tr>\n",
       "      <th>2</th>\n",
       "      <td>Sales &amp; Marketing</td>\n",
       "      <td>region_19</td>\n",
       "      <td>Bachelor's</td>\n",
       "      <td>1</td>\n",
       "      <td>sourcing</td>\n",
       "      <td>1</td>\n",
       "      <td>34</td>\n",
       "      <td>3.0</td>\n",
       "      <td>7</td>\n",
       "      <td>0</td>\n",
       "      <td>0</td>\n",
       "      <td>50</td>\n",
       "      <td>0</td>\n",
       "    </tr>\n",
       "    <tr>\n",
       "      <th>3</th>\n",
       "      <td>Sales &amp; Marketing</td>\n",
       "      <td>region_23</td>\n",
       "      <td>Bachelor's</td>\n",
       "      <td>1</td>\n",
       "      <td>other</td>\n",
       "      <td>2</td>\n",
       "      <td>39</td>\n",
       "      <td>1.0</td>\n",
       "      <td>10</td>\n",
       "      <td>0</td>\n",
       "      <td>0</td>\n",
       "      <td>50</td>\n",
       "      <td>0</td>\n",
       "    </tr>\n",
       "    <tr>\n",
       "      <th>4</th>\n",
       "      <td>Technology</td>\n",
       "      <td>region_26</td>\n",
       "      <td>Bachelor's</td>\n",
       "      <td>1</td>\n",
       "      <td>other</td>\n",
       "      <td>1</td>\n",
       "      <td>45</td>\n",
       "      <td>3.0</td>\n",
       "      <td>2</td>\n",
       "      <td>0</td>\n",
       "      <td>0</td>\n",
       "      <td>73</td>\n",
       "      <td>0</td>\n",
       "    </tr>\n",
       "    <tr>\n",
       "      <th>5</th>\n",
       "      <td>Analytics</td>\n",
       "      <td>region_2</td>\n",
       "      <td>Bachelor's</td>\n",
       "      <td>1</td>\n",
       "      <td>sourcing</td>\n",
       "      <td>2</td>\n",
       "      <td>31</td>\n",
       "      <td>3.0</td>\n",
       "      <td>7</td>\n",
       "      <td>0</td>\n",
       "      <td>0</td>\n",
       "      <td>85</td>\n",
       "      <td>0</td>\n",
       "    </tr>\n",
       "    <tr>\n",
       "      <th>6</th>\n",
       "      <td>Operations</td>\n",
       "      <td>region_20</td>\n",
       "      <td>Bachelor's</td>\n",
       "      <td>0</td>\n",
       "      <td>other</td>\n",
       "      <td>1</td>\n",
       "      <td>31</td>\n",
       "      <td>3.0</td>\n",
       "      <td>5</td>\n",
       "      <td>0</td>\n",
       "      <td>0</td>\n",
       "      <td>59</td>\n",
       "      <td>0</td>\n",
       "    </tr>\n",
       "    <tr>\n",
       "      <th>7</th>\n",
       "      <td>Operations</td>\n",
       "      <td>region_34</td>\n",
       "      <td>Master's &amp; above</td>\n",
       "      <td>1</td>\n",
       "      <td>sourcing</td>\n",
       "      <td>1</td>\n",
       "      <td>33</td>\n",
       "      <td>3.0</td>\n",
       "      <td>6</td>\n",
       "      <td>0</td>\n",
       "      <td>0</td>\n",
       "      <td>63</td>\n",
       "      <td>0</td>\n",
       "    </tr>\n",
       "    <tr>\n",
       "      <th>8</th>\n",
       "      <td>Analytics</td>\n",
       "      <td>region_20</td>\n",
       "      <td>Bachelor's</td>\n",
       "      <td>1</td>\n",
       "      <td>other</td>\n",
       "      <td>1</td>\n",
       "      <td>28</td>\n",
       "      <td>4.0</td>\n",
       "      <td>5</td>\n",
       "      <td>0</td>\n",
       "      <td>0</td>\n",
       "      <td>83</td>\n",
       "      <td>0</td>\n",
       "    </tr>\n",
       "    <tr>\n",
       "      <th>9</th>\n",
       "      <td>Sales &amp; Marketing</td>\n",
       "      <td>region_1</td>\n",
       "      <td>Master's &amp; above</td>\n",
       "      <td>1</td>\n",
       "      <td>sourcing</td>\n",
       "      <td>1</td>\n",
       "      <td>32</td>\n",
       "      <td>5.0</td>\n",
       "      <td>5</td>\n",
       "      <td>1</td>\n",
       "      <td>0</td>\n",
       "      <td>54</td>\n",
       "      <td>0</td>\n",
       "    </tr>\n",
       "    <tr>\n",
       "      <th>10</th>\n",
       "      <td>Technology</td>\n",
       "      <td>region_23</td>\n",
       "      <td>Bachelor's</td>\n",
       "      <td>1</td>\n",
       "      <td>sourcing</td>\n",
       "      <td>1</td>\n",
       "      <td>30</td>\n",
       "      <td>0.0</td>\n",
       "      <td>1</td>\n",
       "      <td>0</td>\n",
       "      <td>0</td>\n",
       "      <td>77</td>\n",
       "      <td>0</td>\n",
       "    </tr>\n",
       "    <tr>\n",
       "      <th>11</th>\n",
       "      <td>Sales &amp; Marketing</td>\n",
       "      <td>region_7</td>\n",
       "      <td>Bachelor's</td>\n",
       "      <td>0</td>\n",
       "      <td>sourcing</td>\n",
       "      <td>1</td>\n",
       "      <td>35</td>\n",
       "      <td>5.0</td>\n",
       "      <td>3</td>\n",
       "      <td>1</td>\n",
       "      <td>0</td>\n",
       "      <td>50</td>\n",
       "      <td>1</td>\n",
       "    </tr>\n",
       "    <tr>\n",
       "      <th>12</th>\n",
       "      <td>Sales &amp; Marketing</td>\n",
       "      <td>region_4</td>\n",
       "      <td>Bachelor's</td>\n",
       "      <td>1</td>\n",
       "      <td>sourcing</td>\n",
       "      <td>1</td>\n",
       "      <td>49</td>\n",
       "      <td>5.0</td>\n",
       "      <td>5</td>\n",
       "      <td>1</td>\n",
       "      <td>0</td>\n",
       "      <td>49</td>\n",
       "      <td>0</td>\n",
       "    </tr>\n",
       "    <tr>\n",
       "      <th>13</th>\n",
       "      <td>Technology</td>\n",
       "      <td>region_29</td>\n",
       "      <td>Master's &amp; above</td>\n",
       "      <td>1</td>\n",
       "      <td>other</td>\n",
       "      <td>2</td>\n",
       "      <td>39</td>\n",
       "      <td>3.0</td>\n",
       "      <td>16</td>\n",
       "      <td>0</td>\n",
       "      <td>0</td>\n",
       "      <td>80</td>\n",
       "      <td>0</td>\n",
       "    </tr>\n",
       "    <tr>\n",
       "      <th>14</th>\n",
       "      <td>R&amp;D</td>\n",
       "      <td>region_2</td>\n",
       "      <td>Master's &amp; above</td>\n",
       "      <td>1</td>\n",
       "      <td>sourcing</td>\n",
       "      <td>1</td>\n",
       "      <td>37</td>\n",
       "      <td>3.0</td>\n",
       "      <td>7</td>\n",
       "      <td>0</td>\n",
       "      <td>0</td>\n",
       "      <td>84</td>\n",
       "      <td>0</td>\n",
       "    </tr>\n",
       "  </tbody>\n",
       "</table>\n",
       "</div>"
      ],
      "text/plain": [
       "           department     region         education  gender  \\\n",
       "0   Sales & Marketing   region_7  Master's & above       0   \n",
       "1          Operations  region_22        Bachelor's       1   \n",
       "2   Sales & Marketing  region_19        Bachelor's       1   \n",
       "3   Sales & Marketing  region_23        Bachelor's       1   \n",
       "4          Technology  region_26        Bachelor's       1   \n",
       "5           Analytics   region_2        Bachelor's       1   \n",
       "6          Operations  region_20        Bachelor's       0   \n",
       "7          Operations  region_34  Master's & above       1   \n",
       "8           Analytics  region_20        Bachelor's       1   \n",
       "9   Sales & Marketing   region_1  Master's & above       1   \n",
       "10         Technology  region_23        Bachelor's       1   \n",
       "11  Sales & Marketing   region_7        Bachelor's       0   \n",
       "12  Sales & Marketing   region_4        Bachelor's       1   \n",
       "13         Technology  region_29  Master's & above       1   \n",
       "14                R&D   region_2  Master's & above       1   \n",
       "\n",
       "   recruitment_channel  no_of_trainings  age  previous_year_rating  \\\n",
       "0             sourcing                1   35                   5.0   \n",
       "1                other                1   30                   5.0   \n",
       "2             sourcing                1   34                   3.0   \n",
       "3                other                2   39                   1.0   \n",
       "4                other                1   45                   3.0   \n",
       "5             sourcing                2   31                   3.0   \n",
       "6                other                1   31                   3.0   \n",
       "7             sourcing                1   33                   3.0   \n",
       "8                other                1   28                   4.0   \n",
       "9             sourcing                1   32                   5.0   \n",
       "10            sourcing                1   30                   0.0   \n",
       "11            sourcing                1   35                   5.0   \n",
       "12            sourcing                1   49                   5.0   \n",
       "13               other                2   39                   3.0   \n",
       "14            sourcing                1   37                   3.0   \n",
       "\n",
       "    length_of_service  KPIs_met >80%  awards_won?  avg_training_score  \\\n",
       "0                   8              1            0                  49   \n",
       "1                   4              0            0                  60   \n",
       "2                   7              0            0                  50   \n",
       "3                  10              0            0                  50   \n",
       "4                   2              0            0                  73   \n",
       "5                   7              0            0                  85   \n",
       "6                   5              0            0                  59   \n",
       "7                   6              0            0                  63   \n",
       "8                   5              0            0                  83   \n",
       "9                   5              1            0                  54   \n",
       "10                  1              0            0                  77   \n",
       "11                  3              1            0                  50   \n",
       "12                  5              1            0                  49   \n",
       "13                 16              0            0                  80   \n",
       "14                  7              0            0                  84   \n",
       "\n",
       "    is_promoted  \n",
       "0             0  \n",
       "1             0  \n",
       "2             0  \n",
       "3             0  \n",
       "4             0  \n",
       "5             0  \n",
       "6             0  \n",
       "7             0  \n",
       "8             0  \n",
       "9             0  \n",
       "10            0  \n",
       "11            1  \n",
       "12            0  \n",
       "13            0  \n",
       "14            0  "
      ]
     },
     "execution_count": 10,
     "metadata": {},
     "output_type": "execute_result"
    }
   ],
   "source": [
    "# One-Hot Encoding to convert categories into Numeric\n",
    "data['gender'] = data['gender'].map({'m':1,'f':0})\n",
    "data.head(15)"
   ]
  },
  {
   "cell_type": "code",
   "execution_count": 11,
   "metadata": {
    "colab": {
     "base_uri": "https://localhost:8080/"
    },
    "id": "cK8IRqAzB3d2",
    "outputId": "569dedf5-be29-4a4c-8dae-d78dde2e66fe"
   },
   "outputs": [
    {
     "data": {
      "text/plain": [
       "49"
      ]
     },
     "execution_count": 11,
     "metadata": {},
     "output_type": "execute_result"
    }
   ],
   "source": [
    "cols = data.select_dtypes([\"object\"]).columns\n",
    "data[cols].nunique().sum() \n",
    "# Total 49 unique categories accross all 4 object columns, and for each ctegory there has to be a new columns"
   ]
  },
  {
   "cell_type": "markdown",
   "metadata": {},
   "source": [
    "### Now we can convert these categories either with pandas or Scikit-learn"
   ]
  },
  {
   "cell_type": "markdown",
   "metadata": {},
   "source": [
    "#### 1. using pandas get_dummies()"
   ]
  },
  {
   "cell_type": "code",
   "execution_count": 12,
   "metadata": {
    "id": "AwCSgs_JC1-N"
   },
   "outputs": [],
   "source": [
    "# #Create dummy variables\n",
    "# ds=pd.get_dummies(data[cols],drop_first=True)\n",
    "# ds\n",
    "# #concat newly created columns with original dataframe\n",
    "# data=pd.concat([data,ds],axis=1)\n",
    "# #Drop original columns\n",
    "# data.drop(cols,axis=1,inplace=True)\n"
   ]
  },
  {
   "cell_type": "markdown",
   "metadata": {},
   "source": [
    "#### 2. using Scikit-learn's OneHotEncoder"
   ]
  },
  {
   "cell_type": "code",
   "execution_count": 13,
   "metadata": {
    "id": "AJAgeNL3D01r"
   },
   "outputs": [],
   "source": [
    "# creating instance of one-hot-encoder to covert categories in numeric\n",
    "# drop='first' will remove 1st category from each out of 4 object features, \n",
    "# so finally we will be left with 49-4=45 new columns\n",
    "\n",
    "from sklearn.preprocessing import OneHotEncoder\n",
    "enc = OneHotEncoder(drop='first')\n",
    "# passing categorical columns to the Encoder and converting resulting columns, for each unique category, to the df\n",
    "enc_df = pd.DataFrame(enc.fit_transform(data[['department', 'region', 'education', 'recruitment_channel']]).astype('int').toarray())\n",
    "enc_df.columns= enc.get_feature_names_out().tolist()\n",
    "# merge these new columns with original data\n",
    "data = data.join(enc_df)\n",
    "# Droping original columns as we now have individual columns for each unique category\n",
    "data.drop(cols,axis=1,inplace=True)"
   ]
  },
  {
   "cell_type": "code",
   "execution_count": 14,
   "metadata": {
    "colab": {
     "base_uri": "https://localhost:8080/"
    },
    "id": "RUM2DD2cDqYG",
    "outputId": "3153aa4a-c8c2-4a8f-e905-789602a084df"
   },
   "outputs": [
    {
     "name": "stdout",
     "output_type": "stream",
     "text": [
      "<class 'pandas.core.frame.DataFrame'>\n",
      "RangeIndex: 54808 entries, 0 to 54807\n",
      "Data columns (total 54 columns):\n",
      " #   Column                        Non-Null Count  Dtype  \n",
      "---  ------                        --------------  -----  \n",
      " 0   gender                        54808 non-null  int64  \n",
      " 1   no_of_trainings               54808 non-null  int64  \n",
      " 2   age                           54808 non-null  int64  \n",
      " 3   previous_year_rating          54808 non-null  float64\n",
      " 4   length_of_service             54808 non-null  int64  \n",
      " 5   KPIs_met >80%                 54808 non-null  int64  \n",
      " 6   awards_won?                   54808 non-null  int64  \n",
      " 7   avg_training_score            54808 non-null  int64  \n",
      " 8   is_promoted                   54808 non-null  int64  \n",
      " 9   department_Finance            54808 non-null  int32  \n",
      " 10  department_HR                 54808 non-null  int32  \n",
      " 11  department_Legal              54808 non-null  int32  \n",
      " 12  department_Operations         54808 non-null  int32  \n",
      " 13  department_Procurement        54808 non-null  int32  \n",
      " 14  department_R&D                54808 non-null  int32  \n",
      " 15  department_Sales & Marketing  54808 non-null  int32  \n",
      " 16  department_Technology         54808 non-null  int32  \n",
      " 17  region_region_10              54808 non-null  int32  \n",
      " 18  region_region_11              54808 non-null  int32  \n",
      " 19  region_region_12              54808 non-null  int32  \n",
      " 20  region_region_13              54808 non-null  int32  \n",
      " 21  region_region_14              54808 non-null  int32  \n",
      " 22  region_region_15              54808 non-null  int32  \n",
      " 23  region_region_16              54808 non-null  int32  \n",
      " 24  region_region_17              54808 non-null  int32  \n",
      " 25  region_region_18              54808 non-null  int32  \n",
      " 26  region_region_19              54808 non-null  int32  \n",
      " 27  region_region_2               54808 non-null  int32  \n",
      " 28  region_region_20              54808 non-null  int32  \n",
      " 29  region_region_21              54808 non-null  int32  \n",
      " 30  region_region_22              54808 non-null  int32  \n",
      " 31  region_region_23              54808 non-null  int32  \n",
      " 32  region_region_24              54808 non-null  int32  \n",
      " 33  region_region_25              54808 non-null  int32  \n",
      " 34  region_region_26              54808 non-null  int32  \n",
      " 35  region_region_27              54808 non-null  int32  \n",
      " 36  region_region_28              54808 non-null  int32  \n",
      " 37  region_region_29              54808 non-null  int32  \n",
      " 38  region_region_3               54808 non-null  int32  \n",
      " 39  region_region_30              54808 non-null  int32  \n",
      " 40  region_region_31              54808 non-null  int32  \n",
      " 41  region_region_32              54808 non-null  int32  \n",
      " 42  region_region_33              54808 non-null  int32  \n",
      " 43  region_region_34              54808 non-null  int32  \n",
      " 44  region_region_4               54808 non-null  int32  \n",
      " 45  region_region_5               54808 non-null  int32  \n",
      " 46  region_region_6               54808 non-null  int32  \n",
      " 47  region_region_7               54808 non-null  int32  \n",
      " 48  region_region_8               54808 non-null  int32  \n",
      " 49  region_region_9               54808 non-null  int32  \n",
      " 50  education_Below Secondary     54808 non-null  int32  \n",
      " 51  education_Master's & above    54808 non-null  int32  \n",
      " 52  recruitment_channel_referred  54808 non-null  int32  \n",
      " 53  recruitment_channel_sourcing  54808 non-null  int32  \n",
      "dtypes: float64(1), int32(45), int64(8)\n",
      "memory usage: 13.2 MB\n"
     ]
    }
   ],
   "source": [
    "len(data.columns)\n",
    "data.info()"
   ]
  },
  {
   "cell_type": "markdown",
   "metadata": {},
   "source": [
    "### Train-Test Split"
   ]
  },
  {
   "cell_type": "code",
   "execution_count": 15,
   "metadata": {},
   "outputs": [
    {
     "name": "stdout",
     "output_type": "stream",
     "text": [
      "(43846, 53)\n",
      "(10962, 53)\n",
      "(43846,)\n",
      "(10962,)\n"
     ]
    }
   ],
   "source": [
    "from sklearn.model_selection import *\n",
    "y=data['is_promoted']\n",
    "X=data.drop(columns=['is_promoted'])\n",
    "\n",
    "X_train, X_test, y_train, y_test = train_test_split(X,y, test_size=0.2, random_state=42)\n",
    "print(X_train.shape)\n",
    "print(X_test.shape)\n",
    "print(y_train.shape)\n",
    "print(y_test.shape)"
   ]
  },
  {
   "cell_type": "markdown",
   "metadata": {},
   "source": [
    "### Feature Scaling"
   ]
  },
  {
   "cell_type": "code",
   "execution_count": 16,
   "metadata": {},
   "outputs": [],
   "source": [
    "from sklearn.preprocessing import StandardScaler\n",
    "scalar = StandardScaler()\n",
    "X_train=scalar.fit_transform(X_train)\n",
    "X_test = scalar.transform(X_test)"
   ]
  },
  {
   "cell_type": "markdown",
   "metadata": {},
   "source": [
    "### Class Imbalance\n",
    "\n",
    "Case when No. of different target labels vary significantly. \n",
    "\n",
    "We can observe that the majority of the labels are from class 0 and only a few are from class 1.\n",
    "\n",
    "**If we use this distribution to develop our model, it may become biased towards predicting the majority class since there will be insufficient data to learn minority class patterns. The model will start predicting every new observation as 0 or majority class. (In our problem employee is not promoted). We’ll get more model accuracy here, but it won’t be a decent model because it won’t predict class 1 or minority class, which is a crucial class.**"
   ]
  },
  {
   "cell_type": "code",
   "execution_count": 17,
   "metadata": {},
   "outputs": [
    {
     "data": {
      "text/plain": [
       "is_promoted\n",
       "0    91.424531\n",
       "1     8.575469\n",
       "Name: proportion, dtype: float64"
      ]
     },
     "execution_count": 17,
     "metadata": {},
     "output_type": "execute_result"
    }
   ],
   "source": [
    "y_train.value_counts(normalize=True)*100"
   ]
  },
  {
   "cell_type": "markdown",
   "metadata": {},
   "source": [
    "**To deal with class Imbalance Logistic regression implementation that supports class weighting. We will use the inbuilt parameter *“class_weight”* while creating an instance of the Logistic Regression model.**"
   ]
  },
  {
   "cell_type": "code",
   "execution_count": 18,
   "metadata": {},
   "outputs": [],
   "source": [
    "from sklearn.linear_model import LogisticRegression\n",
    "\n",
    "# make instance of model with default parameters except class weight\n",
    "# as we will add class weights due to class imbalance problem\n",
    "clf = LogisticRegression(class_weight={0:0.1, 1:0.9})\n",
    "clf.fit(X=X_train,y=y_train)\n",
    "\n",
    "y_pred = clf.predict(X_test)"
   ]
  },
  {
   "cell_type": "code",
   "execution_count": null,
   "metadata": {},
   "outputs": [],
   "source": []
  },
  {
   "cell_type": "markdown",
   "metadata": {},
   "source": [
    "### Model Evaluation Metrics\n",
    "\n",
    "f1 score is the go-to metric when we have a class imbalance problem"
   ]
  },
  {
   "cell_type": "code",
   "execution_count": 19,
   "metadata": {},
   "outputs": [
    {
     "name": "stdout",
     "output_type": "stream",
     "text": [
      "0.384635761589404\n",
      "              precision    recall  f1-score   support\n",
      "\n",
      "           0       0.98      0.79      0.87     10054\n",
      "           1       0.25      0.80      0.38       908\n",
      "\n",
      "    accuracy                           0.79     10962\n",
      "   macro avg       0.62      0.79      0.63     10962\n",
      "weighted avg       0.92      0.79      0.83     10962\n",
      "\n"
     ]
    }
   ],
   "source": [
    "from sklearn.metrics import classification_report,f1_score\n",
    "\n",
    "print(f1_score(y_test,y_pred))\n",
    "print(classification_report(y_test,y_pred))\n",
    "\n",
    "# we can observe that f1-score is pretty low, adn model is performing very poorly"
   ]
  },
  {
   "cell_type": "markdown",
   "metadata": {},
   "source": [
    "### Hyperparameter Optimization\n",
    "\n",
    "Hyperparameters of this model has to be optimised to get a more accurate model and correct predictions"
   ]
  },
  {
   "cell_type": "code",
   "execution_count": null,
   "metadata": {},
   "outputs": [],
   "source": [
    "# define model/create instance\n",
    "clf=LogisticRegression()\n",
    "# tuning weight for minority class then weight for majority class will be 1-weight of minority class\n",
    "# Setting the range for class weights\n",
    "weights = np.linspace(0.0,0.99,500)\n",
    "#specifying all hyperparameters with possible values\n",
    "param= {'C': [0.1, 0.5, 1, 10, 15, 20], 'penalty': ['l1', 'l2'],\"class_weight\":[{0: x, 1: 1.0 - x} for x in weights]}\n",
    "# create 5 folds\n",
    "folds = StratifiedKFold(n_splits = 5, shuffle = True, random_state = 42)\n",
    "#Gridsearch for hyperparam tuning\n",
    "model= GridSearchCV(estimator= clf, param_grid=param, scoring=\"f1\", cv=folds, return_train_score=True,n_jobs=8)\n",
    "#train model to learn relationships between x and y\n",
    "model.fit(X_train,y_train) "
   ]
  },
  {
   "cell_type": "code",
   "execution_count": null,
   "metadata": {},
   "outputs": [],
   "source": [
    "import os\n",
    "  \n",
    "n_cpu = os.cpu_count()\n",
    "print(\"Number of CPUs in the system:\", n_cpu)"
   ]
  }
 ],
 "metadata": {
  "colab": {
   "authorship_tag": "ABX9TyMUqPWBWCN5GFX0vleI19ew",
   "include_colab_link": true,
   "provenance": []
  },
  "kernelspec": {
   "display_name": "Python 3 (ipykernel)",
   "language": "python",
   "name": "python3"
  },
  "language_info": {
   "codemirror_mode": {
    "name": "ipython",
    "version": 3
   },
   "file_extension": ".py",
   "mimetype": "text/x-python",
   "name": "python",
   "nbconvert_exporter": "python",
   "pygments_lexer": "ipython3",
   "version": "3.11.5"
  }
 },
 "nbformat": 4,
 "nbformat_minor": 1
}
