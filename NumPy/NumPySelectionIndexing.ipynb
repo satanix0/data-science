{
 "cells": [
  {
   "cell_type": "code",
   "execution_count": 6,
   "id": "9d72e0ee",
   "metadata": {},
   "outputs": [],
   "source": [
    "import numpy as np"
   ]
  },
  {
   "cell_type": "code",
   "execution_count": 7,
   "id": "99ef4686",
   "metadata": {},
   "outputs": [],
   "source": [
    "arr = np.arange(0,11)"
   ]
  },
  {
   "cell_type": "code",
   "execution_count": 8,
   "id": "d9c80c62",
   "metadata": {},
   "outputs": [
    {
     "data": {
      "text/plain": [
       "array([ 0,  1,  2,  3,  4,  5,  6,  7,  8,  9, 10])"
      ]
     },
     "execution_count": 8,
     "metadata": {},
     "output_type": "execute_result"
    }
   ],
   "source": [
    "arr"
   ]
  },
  {
   "cell_type": "code",
   "execution_count": 9,
   "id": "97af4407",
   "metadata": {},
   "outputs": [
    {
     "data": {
      "text/plain": [
       "5"
      ]
     },
     "execution_count": 9,
     "metadata": {},
     "output_type": "execute_result"
    }
   ],
   "source": [
    "arr[5]"
   ]
  },
  {
   "cell_type": "code",
   "execution_count": 10,
   "id": "03bd9e75",
   "metadata": {},
   "outputs": [
    {
     "data": {
      "text/plain": [
       "array([0, 1, 2, 3, 4])"
      ]
     },
     "execution_count": 10,
     "metadata": {},
     "output_type": "execute_result"
    }
   ],
   "source": [
    "arr[0:5]"
   ]
  },
  {
   "cell_type": "code",
   "execution_count": 11,
   "id": "3a0f0e5b",
   "metadata": {},
   "outputs": [
    {
     "data": {
      "text/plain": [
       "array([0, 1, 2, 3, 4])"
      ]
     },
     "execution_count": 11,
     "metadata": {},
     "output_type": "execute_result"
    }
   ],
   "source": [
    "arr[:5]"
   ]
  },
  {
   "cell_type": "code",
   "execution_count": 12,
   "id": "94bfb4ce",
   "metadata": {},
   "outputs": [
    {
     "data": {
      "text/plain": [
       "array([ 5,  6,  7,  8,  9, 10])"
      ]
     },
     "execution_count": 12,
     "metadata": {},
     "output_type": "execute_result"
    }
   ],
   "source": [
    "arr[5:]"
   ]
  },
  {
   "cell_type": "code",
   "execution_count": 13,
   "id": "1c9db0dd",
   "metadata": {},
   "outputs": [
    {
     "data": {
      "text/plain": [
       "array([5, 6, 7, 8])"
      ]
     },
     "execution_count": 13,
     "metadata": {},
     "output_type": "execute_result"
    }
   ],
   "source": [
    "arr[5:9]"
   ]
  },
  {
   "cell_type": "markdown",
   "id": "23ad4a4b",
   "metadata": {},
   "source": [
    "### Broadcast Example"
   ]
  },
  {
   "cell_type": "code",
   "execution_count": 14,
   "id": "7fa9a7d3",
   "metadata": {},
   "outputs": [
    {
     "data": {
      "text/plain": [
       "array([ 0,  1,  2,  3,  4,  5,  6,  7,  8,  9, 10])"
      ]
     },
     "execution_count": 14,
     "metadata": {},
     "output_type": "execute_result"
    }
   ],
   "source": [
    "arr"
   ]
  },
  {
   "cell_type": "code",
   "execution_count": 15,
   "id": "53317d20",
   "metadata": {},
   "outputs": [],
   "source": [
    "arr[0:5]=100"
   ]
  },
  {
   "cell_type": "code",
   "execution_count": 16,
   "id": "c5299e54",
   "metadata": {},
   "outputs": [
    {
     "data": {
      "text/plain": [
       "array([100, 100, 100, 100, 100,   5,   6,   7,   8,   9,  10])"
      ]
     },
     "execution_count": 16,
     "metadata": {},
     "output_type": "execute_result"
    }
   ],
   "source": [
    "arr"
   ]
  },
  {
   "cell_type": "code",
   "execution_count": 17,
   "id": "7a018d57",
   "metadata": {},
   "outputs": [],
   "source": [
    "arr = np.arange (0,11)"
   ]
  },
  {
   "cell_type": "code",
   "execution_count": 18,
   "id": "d4189c8b",
   "metadata": {},
   "outputs": [
    {
     "data": {
      "text/plain": [
       "array([ 0,  1,  2,  3,  4,  5,  6,  7,  8,  9, 10])"
      ]
     },
     "execution_count": 18,
     "metadata": {},
     "output_type": "execute_result"
    }
   ],
   "source": [
    "arr"
   ]
  },
  {
   "cell_type": "code",
   "execution_count": 19,
   "id": "c20e1adf",
   "metadata": {},
   "outputs": [],
   "source": [
    "sliced=arr[0:5]"
   ]
  },
  {
   "cell_type": "code",
   "execution_count": 20,
   "id": "228a79d0",
   "metadata": {},
   "outputs": [
    {
     "data": {
      "text/plain": [
       "array([0, 1, 2, 3, 4])"
      ]
     },
     "execution_count": 20,
     "metadata": {},
     "output_type": "execute_result"
    }
   ],
   "source": [
    "sliced"
   ]
  },
  {
   "cell_type": "code",
   "execution_count": 21,
   "id": "ea041b48",
   "metadata": {},
   "outputs": [
    {
     "data": {
      "text/plain": [
       "array([0, 1, 2, 3, 4])"
      ]
     },
     "execution_count": 21,
     "metadata": {},
     "output_type": "execute_result"
    }
   ],
   "source": [
    "sliced"
   ]
  },
  {
   "cell_type": "code",
   "execution_count": 22,
   "id": "ccf01a6d",
   "metadata": {},
   "outputs": [],
   "source": [
    "sliced[:]=0"
   ]
  },
  {
   "cell_type": "code",
   "execution_count": 23,
   "id": "1146134c",
   "metadata": {},
   "outputs": [
    {
     "data": {
      "text/plain": [
       "array([0, 0, 0, 0, 0])"
      ]
     },
     "execution_count": 23,
     "metadata": {},
     "output_type": "execute_result"
    }
   ],
   "source": [
    "sliced"
   ]
  },
  {
   "cell_type": "code",
   "execution_count": 24,
   "id": "08044929",
   "metadata": {},
   "outputs": [
    {
     "data": {
      "text/plain": [
       "array([ 0,  0,  0,  0,  0,  5,  6,  7,  8,  9, 10])"
      ]
     },
     "execution_count": 24,
     "metadata": {},
     "output_type": "execute_result"
    }
   ],
   "source": [
    "arr"
   ]
  },
  {
   "cell_type": "code",
   "execution_count": 25,
   "id": "d764b18a",
   "metadata": {},
   "outputs": [],
   "source": [
    " arr_copy=arr.copy()"
   ]
  },
  {
   "cell_type": "code",
   "execution_count": 26,
   "id": "6836ede3",
   "metadata": {},
   "outputs": [
    {
     "data": {
      "text/plain": [
       "array([ 0,  0,  0,  0,  0,  5,  6,  7,  8,  9, 10])"
      ]
     },
     "execution_count": 26,
     "metadata": {},
     "output_type": "execute_result"
    }
   ],
   "source": [
    "arr_copy"
   ]
  },
  {
   "cell_type": "code",
   "execution_count": 27,
   "id": "1d6fbcca",
   "metadata": {},
   "outputs": [],
   "source": [
    "arr_copy[0:5]=45"
   ]
  },
  {
   "cell_type": "code",
   "execution_count": 28,
   "id": "ec1ee2fd",
   "metadata": {},
   "outputs": [
    {
     "data": {
      "text/plain": [
       "array([ 0,  0,  0,  0,  0,  5,  6,  7,  8,  9, 10])"
      ]
     },
     "execution_count": 28,
     "metadata": {},
     "output_type": "execute_result"
    }
   ],
   "source": [
    "arr"
   ]
  },
  {
   "cell_type": "code",
   "execution_count": 29,
   "id": "1736775a",
   "metadata": {},
   "outputs": [
    {
     "data": {
      "text/plain": [
       "array([45, 45, 45, 45, 45,  5,  6,  7,  8,  9, 10])"
      ]
     },
     "execution_count": 29,
     "metadata": {},
     "output_type": "execute_result"
    }
   ],
   "source": [
    "arr_copy"
   ]
  },
  {
   "cell_type": "code",
   "execution_count": 30,
   "id": "a6e44365",
   "metadata": {},
   "outputs": [
    {
     "data": {
      "text/plain": [
       "array([45, 45, 45,  6,  8, 10])"
      ]
     },
     "execution_count": 30,
     "metadata": {},
     "output_type": "execute_result"
    }
   ],
   "source": [
    "arr_copy[::2]"
   ]
  },
  {
   "cell_type": "code",
   "execution_count": 31,
   "id": "6467d938",
   "metadata": {},
   "outputs": [
    {
     "data": {
      "text/plain": [
       "array([[4, 5, 6],\n",
       "       [8, 7, 8],\n",
       "       [5, 4, 8]])"
      ]
     },
     "execution_count": 31,
     "metadata": {},
     "output_type": "execute_result"
    }
   ],
   "source": [
    "arr_2d = np.array([[4,5,6],[8,7,8],[5,4,8]])\n",
    "arr_2d"
   ]
  },
  {
   "cell_type": "code",
   "execution_count": 32,
   "id": "8f1533dd",
   "metadata": {},
   "outputs": [
    {
     "data": {
      "text/plain": [
       "array([[5, 6],\n",
       "       [7, 8]])"
      ]
     },
     "execution_count": 32,
     "metadata": {},
     "output_type": "execute_result"
    }
   ],
   "source": [
    "arr_2d[:2,1:]"
   ]
  },
  {
   "cell_type": "markdown",
   "id": "8a104225",
   "metadata": {},
   "source": [
    "### Conditional Selection"
   ]
  },
  {
   "cell_type": "code",
   "execution_count": 33,
   "id": "6e2666a5",
   "metadata": {
    "scrolled": true
   },
   "outputs": [
    {
     "data": {
      "text/plain": [
       "array([False, False, False, False, False,  True,  True,  True,  True,\n",
       "        True,  True])"
      ]
     },
     "execution_count": 33,
     "metadata": {},
     "output_type": "execute_result"
    }
   ],
   "source": [
    "arr > 4 "
   ]
  },
  {
   "cell_type": "code",
   "execution_count": 34,
   "id": "c4acecb5",
   "metadata": {},
   "outputs": [
    {
     "data": {
      "text/plain": [
       "array([3, 5, 5, 5, 4, 4, 5, 3, 4, 5, 4, 6, 6, 3, 6, 3, 5, 6, 5])"
      ]
     },
     "execution_count": 34,
     "metadata": {},
     "output_type": "execute_result"
    }
   ],
   "source": [
    "dice_rolls = np.array([3, 1, 5, 2, 5, 1, 1, 5, 1, 4, 2, 1, 4, 5, 3, 4, 5, 2, 4, 2, 6, 6, 3, 6, 2, 3, 5, 6, 5])\n",
    "\n",
    "total_rolls_over_two = dice_rolls[dice_rolls>2]\n",
    "total_rolls_over_two"
   ]
  },
  {
   "cell_type": "code",
   "execution_count": 35,
   "id": "82700f71",
   "metadata": {},
   "outputs": [
    {
     "data": {
      "text/plain": [
       "array([ 0,  0,  0,  0,  0,  5,  6,  7,  8,  9, 10])"
      ]
     },
     "execution_count": 35,
     "metadata": {},
     "output_type": "execute_result"
    }
   ],
   "source": [
    "arr"
   ]
  },
  {
   "cell_type": "code",
   "execution_count": 36,
   "id": "c6acddb0",
   "metadata": {},
   "outputs": [
    {
     "name": "stdout",
     "output_type": "stream",
     "text": [
      "[ 0  0  0  0  0  5  6  7  8  9 10]\n"
     ]
    }
   ],
   "source": [
    "print(arr)"
   ]
  },
  {
   "cell_type": "code",
   "execution_count": 37,
   "id": "71f2c2ac",
   "metadata": {},
   "outputs": [],
   "source": [
    "arr = 0"
   ]
  },
  {
   "cell_type": "code",
   "execution_count": 38,
   "id": "9968857b",
   "metadata": {},
   "outputs": [
    {
     "data": {
      "text/plain": [
       "0"
      ]
     },
     "execution_count": 38,
     "metadata": {},
     "output_type": "execute_result"
    }
   ],
   "source": [
    "arr"
   ]
  },
  {
   "cell_type": "markdown",
   "id": "4e4b124b",
   "metadata": {},
   "source": [
    "type(arr)"
   ]
  },
  {
   "cell_type": "code",
   "execution_count": 39,
   "id": "01a5547c",
   "metadata": {},
   "outputs": [
    {
     "data": {
      "text/plain": [
       "int"
      ]
     },
     "execution_count": 39,
     "metadata": {},
     "output_type": "execute_result"
    }
   ],
   "source": [
    "type(arr)"
   ]
  },
  {
   "cell_type": "code",
   "execution_count": 44,
   "id": "165899e1",
   "metadata": {},
   "outputs": [],
   "source": [
    "arr = np.linspace(0,16,15,dtype =int)"
   ]
  },
  {
   "cell_type": "code",
   "execution_count": 45,
   "id": "31a90055",
   "metadata": {},
   "outputs": [
    {
     "data": {
      "text/plain": [
       "array([ 0,  1,  2,  3,  4,  5,  6,  8,  9, 10, 11, 12, 13, 14, 16])"
      ]
     },
     "execution_count": 45,
     "metadata": {},
     "output_type": "execute_result"
    }
   ],
   "source": [
    "arr"
   ]
  },
  {
   "cell_type": "code",
   "execution_count": null,
   "id": "784646c0",
   "metadata": {},
   "outputs": [],
   "source": []
  }
 ],
 "metadata": {
  "kernelspec": {
   "display_name": "Python 3 (ipykernel)",
   "language": "python",
   "name": "python3"
  },
  "language_info": {
   "codemirror_mode": {
    "name": "ipython",
    "version": 3
   },
   "file_extension": ".py",
   "mimetype": "text/x-python",
   "name": "python",
   "nbconvert_exporter": "python",
   "pygments_lexer": "ipython3",
   "version": "3.10.4"
  },
  "vscode": {
   "interpreter": {
    "hash": "fa6fc890c19d0518efc3ca8fefe1ab7c2a921b84ac247755bf14d3f8c1bb1ece"
   }
  }
 },
 "nbformat": 4,
 "nbformat_minor": 5
}
