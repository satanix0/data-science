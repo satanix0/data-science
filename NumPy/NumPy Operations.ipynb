{
 "cells": [
  {
   "cell_type": "code",
   "execution_count": 1,
   "id": "215b4f6d",
   "metadata": {},
   "outputs": [],
   "source": [
    "import numpy as np"
   ]
  },
  {
   "cell_type": "code",
   "execution_count": 2,
   "id": "e8334599",
   "metadata": {},
   "outputs": [],
   "source": [
    "arr = np.arange(0,10)"
   ]
  },
  {
   "cell_type": "code",
   "execution_count": 3,
   "id": "e7ea4b83",
   "metadata": {},
   "outputs": [
    {
     "data": {
      "text/plain": [
       "array([0, 1, 2, 3, 4, 5, 6, 7, 8, 9])"
      ]
     },
     "execution_count": 3,
     "metadata": {},
     "output_type": "execute_result"
    }
   ],
   "source": [
    "arr"
   ]
  },
  {
   "cell_type": "code",
   "execution_count": 4,
   "id": "e1364dd0",
   "metadata": {},
   "outputs": [
    {
     "data": {
      "text/plain": [
       "array([ 5,  6,  7,  8,  9, 10, 11, 12, 13, 14])"
      ]
     },
     "execution_count": 4,
     "metadata": {},
     "output_type": "execute_result"
    }
   ],
   "source": [
    "arr+5"
   ]
  },
  {
   "cell_type": "code",
   "execution_count": 5,
   "id": "e7ea246c",
   "metadata": {},
   "outputs": [
    {
     "data": {
      "text/plain": [
       "array([0, 1, 2, 3, 4, 5, 6, 7, 8, 9])"
      ]
     },
     "execution_count": 5,
     "metadata": {},
     "output_type": "execute_result"
    }
   ],
   "source": [
    "arr"
   ]
  },
  {
   "cell_type": "code",
   "execution_count": 6,
   "id": "abe44bc7",
   "metadata": {},
   "outputs": [],
   "source": [
    "arr= arr+5"
   ]
  },
  {
   "cell_type": "code",
   "execution_count": 7,
   "id": "bdde1da5",
   "metadata": {},
   "outputs": [
    {
     "data": {
      "text/plain": [
       "array([ 5,  6,  7,  8,  9, 10, 11, 12, 13, 14])"
      ]
     },
     "execution_count": 7,
     "metadata": {},
     "output_type": "execute_result"
    }
   ],
   "source": [
    "arr"
   ]
  },
  {
   "cell_type": "code",
   "execution_count": 8,
   "id": "cef77a00",
   "metadata": {},
   "outputs": [
    {
     "ename": "ZeroDivisionError",
     "evalue": "division by zero",
     "output_type": "error",
     "traceback": [
      "\u001b[1;31m---------------------------------------------------------------------------\u001b[0m",
      "\u001b[1;31mZeroDivisionError\u001b[0m                         Traceback (most recent call last)",
      "Input \u001b[1;32mIn [8]\u001b[0m, in \u001b[0;36m<cell line: 1>\u001b[1;34m()\u001b[0m\n\u001b[1;32m----> 1\u001b[0m \u001b[38;5;241;43m4\u001b[39;49m\u001b[38;5;241;43m/\u001b[39;49m\u001b[38;5;241;43m0\u001b[39;49m\n",
      "\u001b[1;31mZeroDivisionError\u001b[0m: division by zero"
     ]
    }
   ],
   "source": [
    "4/0"
   ]
  },
  {
   "cell_type": "code",
   "execution_count": 9,
   "id": "6dd4f2d2",
   "metadata": {},
   "outputs": [
    {
     "ename": "SyntaxError",
     "evalue": "invalid syntax (1728386833.py, line 1)",
     "output_type": "error",
     "traceback": [
      "\u001b[1;36m  Input \u001b[1;32mIn [9]\u001b[1;36m\u001b[0m\n\u001b[1;33m    arr/\u001b[0m\n\u001b[1;37m        ^\u001b[0m\n\u001b[1;31mSyntaxError\u001b[0m\u001b[1;31m:\u001b[0m invalid syntax\n"
     ]
    }
   ],
   "source": [
    "arr/"
   ]
  },
  {
   "cell_type": "code",
   "execution_count": 10,
   "id": "459c3d1a",
   "metadata": {},
   "outputs": [
    {
     "data": {
      "text/plain": [
       "array([1., 1., 1., 1., 1., 1., 1., 1., 1., 1.])"
      ]
     },
     "execution_count": 10,
     "metadata": {},
     "output_type": "execute_result"
    }
   ],
   "source": [
    "arr/arr"
   ]
  },
  {
   "cell_type": "code",
   "execution_count": 11,
   "id": "4b966ef0",
   "metadata": {},
   "outputs": [
    {
     "data": {
      "text/plain": [
       "array([ 5,  6,  7,  8,  9, 10, 11, 12, 13, 14])"
      ]
     },
     "execution_count": 11,
     "metadata": {},
     "output_type": "execute_result"
    }
   ],
   "source": [
    "arr"
   ]
  },
  {
   "cell_type": "code",
   "execution_count": 12,
   "id": "961e44b8",
   "metadata": {},
   "outputs": [
    {
     "data": {
      "text/plain": [
       "array([ 5,  6,  7,  8,  9, 10, 11, 12, 13, 14])"
      ]
     },
     "execution_count": 12,
     "metadata": {},
     "output_type": "execute_result"
    }
   ],
   "source": [
    "arr"
   ]
  },
  {
   "cell_type": "code",
   "execution_count": 13,
   "id": "8d3fb4d6",
   "metadata": {},
   "outputs": [
    {
     "data": {
      "text/plain": [
       "array([0, 0, 0, 0, 0, 0, 0, 0, 0, 0])"
      ]
     },
     "execution_count": 13,
     "metadata": {},
     "output_type": "execute_result"
    }
   ],
   "source": [
    "arr-arr"
   ]
  },
  {
   "cell_type": "code",
   "execution_count": 14,
   "id": "9052518a",
   "metadata": {},
   "outputs": [
    {
     "name": "stderr",
     "output_type": "stream",
     "text": [
      "C:\\Users\\piyus\\AppData\\Local\\Temp\\ipykernel_7116\\4291252909.py:1: RuntimeWarning: divide by zero encountered in true_divide\n",
      "  arr/0\n"
     ]
    },
    {
     "data": {
      "text/plain": [
       "array([inf, inf, inf, inf, inf, inf, inf, inf, inf, inf])"
      ]
     },
     "execution_count": 14,
     "metadata": {},
     "output_type": "execute_result"
    }
   ],
   "source": [
    "arr/0"
   ]
  },
  {
   "cell_type": "code",
   "execution_count": 15,
   "id": "0a220d22",
   "metadata": {},
   "outputs": [],
   "source": [
    "arr= np.arange(0,10)"
   ]
  },
  {
   "cell_type": "code",
   "execution_count": 16,
   "id": "6ffd2114",
   "metadata": {},
   "outputs": [
    {
     "name": "stderr",
     "output_type": "stream",
     "text": [
      "C:\\Users\\piyus\\AppData\\Local\\Temp\\ipykernel_7116\\4291252909.py:1: RuntimeWarning: divide by zero encountered in true_divide\n",
      "  arr/0\n",
      "C:\\Users\\piyus\\AppData\\Local\\Temp\\ipykernel_7116\\4291252909.py:1: RuntimeWarning: invalid value encountered in true_divide\n",
      "  arr/0\n"
     ]
    },
    {
     "data": {
      "text/plain": [
       "array([nan, inf, inf, inf, inf, inf, inf, inf, inf, inf])"
      ]
     },
     "execution_count": 16,
     "metadata": {},
     "output_type": "execute_result"
    }
   ],
   "source": [
    "arr/0"
   ]
  },
  {
   "cell_type": "code",
   "execution_count": 17,
   "id": "dfcbcdcd",
   "metadata": {},
   "outputs": [
    {
     "data": {
      "text/plain": [
       "array([0, 1, 2, 3, 4, 5, 6, 7, 8, 9])"
      ]
     },
     "execution_count": 17,
     "metadata": {},
     "output_type": "execute_result"
    }
   ],
   "source": [
    "arr"
   ]
  },
  {
   "cell_type": "code",
   "execution_count": 18,
   "id": "e2428990",
   "metadata": {},
   "outputs": [
    {
     "name": "stderr",
     "output_type": "stream",
     "text": [
      "C:\\Users\\piyus\\AppData\\Local\\Temp\\ipykernel_7116\\255282349.py:1: RuntimeWarning: divide by zero encountered in true_divide\n",
      "  1/arr\n"
     ]
    },
    {
     "data": {
      "text/plain": [
       "array([       inf, 1.        , 0.5       , 0.33333333, 0.25      ,\n",
       "       0.2       , 0.16666667, 0.14285714, 0.125     , 0.11111111])"
      ]
     },
     "execution_count": 18,
     "metadata": {},
     "output_type": "execute_result"
    }
   ],
   "source": [
    "1/arr"
   ]
  },
  {
   "cell_type": "code",
   "execution_count": 19,
   "id": "c99a0698",
   "metadata": {},
   "outputs": [
    {
     "data": {
      "text/plain": [
       "array([0.        , 1.        , 1.41421356, 1.73205081, 2.        ,\n",
       "       2.23606798, 2.44948974, 2.64575131, 2.82842712, 3.        ])"
      ]
     },
     "execution_count": 19,
     "metadata": {},
     "output_type": "execute_result"
    }
   ],
   "source": [
    "np.sqrt(arr)"
   ]
  },
  {
   "cell_type": "code",
   "execution_count": 20,
   "id": "a9e11aa7",
   "metadata": {},
   "outputs": [
    {
     "data": {
      "text/plain": [
       "array([0, 1, 2, 3, 4, 5, 6, 7, 8, 9])"
      ]
     },
     "execution_count": 20,
     "metadata": {},
     "output_type": "execute_result"
    }
   ],
   "source": [
    "arr"
   ]
  },
  {
   "cell_type": "code",
   "execution_count": 22,
   "id": "ce4d38dd",
   "metadata": {},
   "outputs": [
    {
     "data": {
      "text/plain": [
       "array([ 0.        ,  0.84147098,  0.90929743,  0.14112001, -0.7568025 ,\n",
       "       -0.95892427, -0.2794155 ,  0.6569866 ,  0.98935825,  0.41211849])"
      ]
     },
     "execution_count": 22,
     "metadata": {},
     "output_type": "execute_result"
    }
   ],
   "source": [
    "np.sin(arr)"
   ]
  },
  {
   "cell_type": "code",
   "execution_count": 23,
   "id": "dcc75e78",
   "metadata": {},
   "outputs": [
    {
     "name": "stderr",
     "output_type": "stream",
     "text": [
      "C:\\Users\\piyus\\AppData\\Local\\Temp\\ipykernel_7116\\3120950136.py:1: RuntimeWarning: divide by zero encountered in log\n",
      "  np.log(arr)\n"
     ]
    },
    {
     "data": {
      "text/plain": [
       "array([      -inf, 0.        , 0.69314718, 1.09861229, 1.38629436,\n",
       "       1.60943791, 1.79175947, 1.94591015, 2.07944154, 2.19722458])"
      ]
     },
     "execution_count": 23,
     "metadata": {},
     "output_type": "execute_result"
    }
   ],
   "source": [
    "np.log(arr)"
   ]
  },
  {
   "cell_type": "code",
   "execution_count": 31,
   "id": "cdb29d3b",
   "metadata": {},
   "outputs": [],
   "source": [
    "arr2d = np.arange().reshape(4,5)"
   ]
  },
  {
   "cell_type": "code",
   "execution_count": 32,
   "id": "d0a1e973",
   "metadata": {},
   "outputs": [
    {
     "data": {
      "text/plain": [
       "array([[ 1,  2,  3,  4,  5],\n",
       "       [ 6,  7,  8,  9, 10],\n",
       "       [11, 12, 13, 14, 15],\n",
       "       [16, 17, 18, 19, 20]])"
      ]
     },
     "execution_count": 32,
     "metadata": {},
     "output_type": "execute_result"
    }
   ],
   "source": [
    "arr2d"
   ]
  },
  {
   "cell_type": "code",
   "execution_count": 37,
   "id": "a40fab90",
   "metadata": {},
   "outputs": [
    {
     "data": {
      "text/plain": [
       "array([34, 38, 42, 46, 50])"
      ]
     },
     "execution_count": 37,
     "metadata": {},
     "output_type": "execute_result"
    }
   ],
   "source": [
    "arr2d.sum(axis=0) # vertical Sum of Rows (0+5+10+15+20)"
   ]
  },
  {
   "cell_type": "code",
   "execution_count": 38,
   "id": "d29a81c3",
   "metadata": {},
   "outputs": [
    {
     "data": {
      "text/plain": [
       "array([15, 40, 65, 90])"
      ]
     },
     "execution_count": 38,
     "metadata": {},
     "output_type": "execute_result"
    }
   ],
   "source": [
    "arr2d.sum(axis=1) # Horizontal Sum of Columns(0+1+2+3+4)"
   ]
  },
  {
   "cell_type": "code",
   "execution_count": null,
   "id": "470aeebb",
   "metadata": {},
   "outputs": [],
   "source": []
  }
 ],
 "metadata": {
  "kernelspec": {
   "display_name": "Python 3 (ipykernel)",
   "language": "python",
   "name": "python3"
  },
  "language_info": {
   "codemirror_mode": {
    "name": "ipython",
    "version": 3
   },
   "file_extension": ".py",
   "mimetype": "text/x-python",
   "name": "python",
   "nbconvert_exporter": "python",
   "pygments_lexer": "ipython3",
   "version": "3.9.12"
  }
 },
 "nbformat": 4,
 "nbformat_minor": 5
}
